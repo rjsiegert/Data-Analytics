{
 "cells": [
  {
   "cell_type": "code",
   "execution_count": 338,
   "metadata": {},
   "outputs": [],
   "source": [
    "#imports\n",
    "#numpy, pandas, scipy, math, matplotlib\n",
    "import numpy as np\n",
    "import pandas as pd\n",
    "import scipy\n",
    "from math import sqrt\n",
    "import matplotlib.pyplot as plt\n"
   ]
  },
  {
   "cell_type": "code",
   "execution_count": 339,
   "metadata": {},
   "outputs": [],
   "source": [
    "#estimators\n",
    "from sklearn.ensemble import RandomForestRegressor"
   ]
  },
  {
   "cell_type": "code",
   "execution_count": 340,
   "metadata": {},
   "outputs": [],
   "source": [
    "from sklearn.linear_model import LinearRegression"
   ]
  },
  {
   "cell_type": "code",
   "execution_count": 341,
   "metadata": {},
   "outputs": [],
   "source": [
    "from sklearn.svm import SVR\n",
    "from sklearn import linear_model"
   ]
  },
  {
   "cell_type": "code",
   "execution_count": 342,
   "metadata": {},
   "outputs": [],
   "source": [
    "#model metrics\n",
    "from sklearn.metrics import mean_squared_error\n",
    "from sklearn.metrics import r2_score\n",
    "from sklearn.model_selection import cross_val_score"
   ]
  },
  {
   "cell_type": "code",
   "execution_count": 343,
   "metadata": {},
   "outputs": [],
   "source": [
    "#cross validation\n",
    "from sklearn.cross_validation import train_test_split"
   ]
  },
  {
   "cell_type": "code",
   "execution_count": 344,
   "metadata": {},
   "outputs": [],
   "source": [
    "#data"
   ]
  },
  {
   "cell_type": "code",
   "execution_count": 345,
   "metadata": {},
   "outputs": [],
   "source": [
    "rawData = pd.read_csv(r\"C:\\Users\\rjsie\\Desktop\\default.csv\", header=1)"
   ]
  },
  {
   "cell_type": "code",
   "execution_count": 346,
   "metadata": {},
   "outputs": [],
   "source": [
    "rawData = rawData.rename(columns={'default payment next month':'default'})"
   ]
  },
  {
   "cell_type": "code",
   "execution_count": 347,
   "metadata": {},
   "outputs": [
    {
     "data": {
      "text/html": [
       "<div>\n",
       "<style scoped>\n",
       "    .dataframe tbody tr th:only-of-type {\n",
       "        vertical-align: middle;\n",
       "    }\n",
       "\n",
       "    .dataframe tbody tr th {\n",
       "        vertical-align: top;\n",
       "    }\n",
       "\n",
       "    .dataframe thead th {\n",
       "        text-align: right;\n",
       "    }\n",
       "</style>\n",
       "<table border=\"1\" class=\"dataframe\">\n",
       "  <thead>\n",
       "    <tr style=\"text-align: right;\">\n",
       "      <th></th>\n",
       "      <th>ID</th>\n",
       "      <th>LIMIT_BAL</th>\n",
       "      <th>SEX</th>\n",
       "      <th>EDUCATION</th>\n",
       "      <th>MARRIAGE</th>\n",
       "      <th>AGE</th>\n",
       "      <th>PAY_0</th>\n",
       "      <th>PAY_2</th>\n",
       "      <th>PAY_3</th>\n",
       "      <th>PAY_4</th>\n",
       "      <th>...</th>\n",
       "      <th>BILL_AMT4</th>\n",
       "      <th>BILL_AMT5</th>\n",
       "      <th>BILL_AMT6</th>\n",
       "      <th>PAY_AMT1</th>\n",
       "      <th>PAY_AMT2</th>\n",
       "      <th>PAY_AMT3</th>\n",
       "      <th>PAY_AMT4</th>\n",
       "      <th>PAY_AMT5</th>\n",
       "      <th>PAY_AMT6</th>\n",
       "      <th>default</th>\n",
       "    </tr>\n",
       "  </thead>\n",
       "  <tbody>\n",
       "    <tr>\n",
       "      <th>0</th>\n",
       "      <td>1</td>\n",
       "      <td>20000</td>\n",
       "      <td>2</td>\n",
       "      <td>2</td>\n",
       "      <td>1</td>\n",
       "      <td>24</td>\n",
       "      <td>2</td>\n",
       "      <td>2</td>\n",
       "      <td>-1</td>\n",
       "      <td>-1</td>\n",
       "      <td>...</td>\n",
       "      <td>0</td>\n",
       "      <td>0</td>\n",
       "      <td>0</td>\n",
       "      <td>0</td>\n",
       "      <td>689</td>\n",
       "      <td>0</td>\n",
       "      <td>0</td>\n",
       "      <td>0</td>\n",
       "      <td>0</td>\n",
       "      <td>1</td>\n",
       "    </tr>\n",
       "    <tr>\n",
       "      <th>1</th>\n",
       "      <td>2</td>\n",
       "      <td>120000</td>\n",
       "      <td>2</td>\n",
       "      <td>2</td>\n",
       "      <td>2</td>\n",
       "      <td>26</td>\n",
       "      <td>-1</td>\n",
       "      <td>2</td>\n",
       "      <td>0</td>\n",
       "      <td>0</td>\n",
       "      <td>...</td>\n",
       "      <td>3272</td>\n",
       "      <td>3455</td>\n",
       "      <td>3261</td>\n",
       "      <td>0</td>\n",
       "      <td>1000</td>\n",
       "      <td>1000</td>\n",
       "      <td>1000</td>\n",
       "      <td>0</td>\n",
       "      <td>2000</td>\n",
       "      <td>1</td>\n",
       "    </tr>\n",
       "    <tr>\n",
       "      <th>2</th>\n",
       "      <td>3</td>\n",
       "      <td>90000</td>\n",
       "      <td>2</td>\n",
       "      <td>2</td>\n",
       "      <td>2</td>\n",
       "      <td>34</td>\n",
       "      <td>0</td>\n",
       "      <td>0</td>\n",
       "      <td>0</td>\n",
       "      <td>0</td>\n",
       "      <td>...</td>\n",
       "      <td>14331</td>\n",
       "      <td>14948</td>\n",
       "      <td>15549</td>\n",
       "      <td>1518</td>\n",
       "      <td>1500</td>\n",
       "      <td>1000</td>\n",
       "      <td>1000</td>\n",
       "      <td>1000</td>\n",
       "      <td>5000</td>\n",
       "      <td>0</td>\n",
       "    </tr>\n",
       "    <tr>\n",
       "      <th>3</th>\n",
       "      <td>4</td>\n",
       "      <td>50000</td>\n",
       "      <td>2</td>\n",
       "      <td>2</td>\n",
       "      <td>1</td>\n",
       "      <td>37</td>\n",
       "      <td>0</td>\n",
       "      <td>0</td>\n",
       "      <td>0</td>\n",
       "      <td>0</td>\n",
       "      <td>...</td>\n",
       "      <td>28314</td>\n",
       "      <td>28959</td>\n",
       "      <td>29547</td>\n",
       "      <td>2000</td>\n",
       "      <td>2019</td>\n",
       "      <td>1200</td>\n",
       "      <td>1100</td>\n",
       "      <td>1069</td>\n",
       "      <td>1000</td>\n",
       "      <td>0</td>\n",
       "    </tr>\n",
       "    <tr>\n",
       "      <th>4</th>\n",
       "      <td>5</td>\n",
       "      <td>50000</td>\n",
       "      <td>1</td>\n",
       "      <td>2</td>\n",
       "      <td>1</td>\n",
       "      <td>57</td>\n",
       "      <td>-1</td>\n",
       "      <td>0</td>\n",
       "      <td>-1</td>\n",
       "      <td>0</td>\n",
       "      <td>...</td>\n",
       "      <td>20940</td>\n",
       "      <td>19146</td>\n",
       "      <td>19131</td>\n",
       "      <td>2000</td>\n",
       "      <td>36681</td>\n",
       "      <td>10000</td>\n",
       "      <td>9000</td>\n",
       "      <td>689</td>\n",
       "      <td>679</td>\n",
       "      <td>0</td>\n",
       "    </tr>\n",
       "  </tbody>\n",
       "</table>\n",
       "<p>5 rows × 25 columns</p>\n",
       "</div>"
      ],
      "text/plain": [
       "   ID  LIMIT_BAL  SEX  EDUCATION  MARRIAGE  AGE  PAY_0  PAY_2  PAY_3  PAY_4  \\\n",
       "0   1      20000    2          2         1   24      2      2     -1     -1   \n",
       "1   2     120000    2          2         2   26     -1      2      0      0   \n",
       "2   3      90000    2          2         2   34      0      0      0      0   \n",
       "3   4      50000    2          2         1   37      0      0      0      0   \n",
       "4   5      50000    1          2         1   57     -1      0     -1      0   \n",
       "\n",
       "    ...     BILL_AMT4  BILL_AMT5  BILL_AMT6  PAY_AMT1  PAY_AMT2  PAY_AMT3  \\\n",
       "0   ...             0          0          0         0       689         0   \n",
       "1   ...          3272       3455       3261         0      1000      1000   \n",
       "2   ...         14331      14948      15549      1518      1500      1000   \n",
       "3   ...         28314      28959      29547      2000      2019      1200   \n",
       "4   ...         20940      19146      19131      2000     36681     10000   \n",
       "\n",
       "   PAY_AMT4  PAY_AMT5  PAY_AMT6  default  \n",
       "0         0         0         0        1  \n",
       "1      1000         0      2000        1  \n",
       "2      1000      1000      5000        0  \n",
       "3      1100      1069      1000        0  \n",
       "4      9000       689       679        0  \n",
       "\n",
       "[5 rows x 25 columns]"
      ]
     },
     "execution_count": 347,
     "metadata": {},
     "output_type": "execute_result"
    }
   ],
   "source": [
    "rawData.head()"
   ]
  },
  {
   "cell_type": "code",
   "execution_count": 348,
   "metadata": {},
   "outputs": [
    {
     "name": "stdout",
     "output_type": "stream",
     "text": [
      "<class 'pandas.core.frame.DataFrame'>\n",
      "RangeIndex: 30000 entries, 0 to 29999\n",
      "Data columns (total 25 columns):\n",
      "ID           30000 non-null int64\n",
      "LIMIT_BAL    30000 non-null int64\n",
      "SEX          30000 non-null int64\n",
      "EDUCATION    30000 non-null int64\n",
      "MARRIAGE     30000 non-null int64\n",
      "AGE          30000 non-null int64\n",
      "PAY_0        30000 non-null int64\n",
      "PAY_2        30000 non-null int64\n",
      "PAY_3        30000 non-null int64\n",
      "PAY_4        30000 non-null int64\n",
      "PAY_5        30000 non-null int64\n",
      "PAY_6        30000 non-null int64\n",
      "BILL_AMT1    30000 non-null int64\n",
      "BILL_AMT2    30000 non-null int64\n",
      "BILL_AMT3    30000 non-null int64\n",
      "BILL_AMT4    30000 non-null int64\n",
      "BILL_AMT5    30000 non-null int64\n",
      "BILL_AMT6    30000 non-null int64\n",
      "PAY_AMT1     30000 non-null int64\n",
      "PAY_AMT2     30000 non-null int64\n",
      "PAY_AMT3     30000 non-null int64\n",
      "PAY_AMT4     30000 non-null int64\n",
      "PAY_AMT5     30000 non-null int64\n",
      "PAY_AMT6     30000 non-null int64\n",
      "default      30000 non-null int64\n",
      "dtypes: int64(25)\n",
      "memory usage: 5.7 MB\n"
     ]
    }
   ],
   "source": [
    "rawData.info()"
   ]
  },
  {
   "cell_type": "code",
   "execution_count": 349,
   "metadata": {},
   "outputs": [
    {
     "data": {
      "text/plain": [
       "ID           0\n",
       "LIMIT_BAL    0\n",
       "SEX          0\n",
       "EDUCATION    0\n",
       "MARRIAGE     0\n",
       "AGE          0\n",
       "PAY_0        0\n",
       "PAY_2        0\n",
       "PAY_3        0\n",
       "PAY_4        0\n",
       "PAY_5        0\n",
       "PAY_6        0\n",
       "BILL_AMT1    0\n",
       "BILL_AMT2    0\n",
       "BILL_AMT3    0\n",
       "BILL_AMT4    0\n",
       "BILL_AMT5    0\n",
       "BILL_AMT6    0\n",
       "PAY_AMT1     0\n",
       "PAY_AMT2     0\n",
       "PAY_AMT3     0\n",
       "PAY_AMT4     0\n",
       "PAY_AMT5     0\n",
       "PAY_AMT6     0\n",
       "default      0\n",
       "dtype: int64"
      ]
     },
     "execution_count": 349,
     "metadata": {},
     "output_type": "execute_result"
    }
   ],
   "source": [
    "rawData.isnull().sum()"
   ]
  },
  {
   "cell_type": "code",
   "execution_count": 350,
   "metadata": {},
   "outputs": [],
   "source": [
    "#Select Features"
   ]
  },
  {
   "cell_type": "raw",
   "metadata": {},
   "source": [
    "#features"
   ]
  },
  {
   "cell_type": "code",
   "execution_count": 351,
   "metadata": {},
   "outputs": [],
   "source": [
    "features = rawData.iloc[:, 1:24]"
   ]
  },
  {
   "cell_type": "code",
   "execution_count": 352,
   "metadata": {},
   "outputs": [
    {
     "name": "stdout",
     "output_type": "stream",
     "text": [
      "Summary of feature sample\n"
     ]
    }
   ],
   "source": [
    "print('Summary of feature sample')"
   ]
  },
  {
   "cell_type": "code",
   "execution_count": 353,
   "metadata": {},
   "outputs": [
    {
     "data": {
      "text/html": [
       "<div>\n",
       "<style scoped>\n",
       "    .dataframe tbody tr th:only-of-type {\n",
       "        vertical-align: middle;\n",
       "    }\n",
       "\n",
       "    .dataframe tbody tr th {\n",
       "        vertical-align: top;\n",
       "    }\n",
       "\n",
       "    .dataframe thead th {\n",
       "        text-align: right;\n",
       "    }\n",
       "</style>\n",
       "<table border=\"1\" class=\"dataframe\">\n",
       "  <thead>\n",
       "    <tr style=\"text-align: right;\">\n",
       "      <th></th>\n",
       "      <th>LIMIT_BAL</th>\n",
       "      <th>SEX</th>\n",
       "      <th>EDUCATION</th>\n",
       "      <th>MARRIAGE</th>\n",
       "      <th>AGE</th>\n",
       "      <th>PAY_0</th>\n",
       "      <th>PAY_2</th>\n",
       "      <th>PAY_3</th>\n",
       "      <th>PAY_4</th>\n",
       "      <th>PAY_5</th>\n",
       "      <th>...</th>\n",
       "      <th>BILL_AMT3</th>\n",
       "      <th>BILL_AMT4</th>\n",
       "      <th>BILL_AMT5</th>\n",
       "      <th>BILL_AMT6</th>\n",
       "      <th>PAY_AMT1</th>\n",
       "      <th>PAY_AMT2</th>\n",
       "      <th>PAY_AMT3</th>\n",
       "      <th>PAY_AMT4</th>\n",
       "      <th>PAY_AMT5</th>\n",
       "      <th>PAY_AMT6</th>\n",
       "    </tr>\n",
       "  </thead>\n",
       "  <tbody>\n",
       "    <tr>\n",
       "      <th>0</th>\n",
       "      <td>20000</td>\n",
       "      <td>2</td>\n",
       "      <td>2</td>\n",
       "      <td>1</td>\n",
       "      <td>24</td>\n",
       "      <td>2</td>\n",
       "      <td>2</td>\n",
       "      <td>-1</td>\n",
       "      <td>-1</td>\n",
       "      <td>-2</td>\n",
       "      <td>...</td>\n",
       "      <td>689</td>\n",
       "      <td>0</td>\n",
       "      <td>0</td>\n",
       "      <td>0</td>\n",
       "      <td>0</td>\n",
       "      <td>689</td>\n",
       "      <td>0</td>\n",
       "      <td>0</td>\n",
       "      <td>0</td>\n",
       "      <td>0</td>\n",
       "    </tr>\n",
       "    <tr>\n",
       "      <th>1</th>\n",
       "      <td>120000</td>\n",
       "      <td>2</td>\n",
       "      <td>2</td>\n",
       "      <td>2</td>\n",
       "      <td>26</td>\n",
       "      <td>-1</td>\n",
       "      <td>2</td>\n",
       "      <td>0</td>\n",
       "      <td>0</td>\n",
       "      <td>0</td>\n",
       "      <td>...</td>\n",
       "      <td>2682</td>\n",
       "      <td>3272</td>\n",
       "      <td>3455</td>\n",
       "      <td>3261</td>\n",
       "      <td>0</td>\n",
       "      <td>1000</td>\n",
       "      <td>1000</td>\n",
       "      <td>1000</td>\n",
       "      <td>0</td>\n",
       "      <td>2000</td>\n",
       "    </tr>\n",
       "    <tr>\n",
       "      <th>2</th>\n",
       "      <td>90000</td>\n",
       "      <td>2</td>\n",
       "      <td>2</td>\n",
       "      <td>2</td>\n",
       "      <td>34</td>\n",
       "      <td>0</td>\n",
       "      <td>0</td>\n",
       "      <td>0</td>\n",
       "      <td>0</td>\n",
       "      <td>0</td>\n",
       "      <td>...</td>\n",
       "      <td>13559</td>\n",
       "      <td>14331</td>\n",
       "      <td>14948</td>\n",
       "      <td>15549</td>\n",
       "      <td>1518</td>\n",
       "      <td>1500</td>\n",
       "      <td>1000</td>\n",
       "      <td>1000</td>\n",
       "      <td>1000</td>\n",
       "      <td>5000</td>\n",
       "    </tr>\n",
       "    <tr>\n",
       "      <th>3</th>\n",
       "      <td>50000</td>\n",
       "      <td>2</td>\n",
       "      <td>2</td>\n",
       "      <td>1</td>\n",
       "      <td>37</td>\n",
       "      <td>0</td>\n",
       "      <td>0</td>\n",
       "      <td>0</td>\n",
       "      <td>0</td>\n",
       "      <td>0</td>\n",
       "      <td>...</td>\n",
       "      <td>49291</td>\n",
       "      <td>28314</td>\n",
       "      <td>28959</td>\n",
       "      <td>29547</td>\n",
       "      <td>2000</td>\n",
       "      <td>2019</td>\n",
       "      <td>1200</td>\n",
       "      <td>1100</td>\n",
       "      <td>1069</td>\n",
       "      <td>1000</td>\n",
       "    </tr>\n",
       "    <tr>\n",
       "      <th>4</th>\n",
       "      <td>50000</td>\n",
       "      <td>1</td>\n",
       "      <td>2</td>\n",
       "      <td>1</td>\n",
       "      <td>57</td>\n",
       "      <td>-1</td>\n",
       "      <td>0</td>\n",
       "      <td>-1</td>\n",
       "      <td>0</td>\n",
       "      <td>0</td>\n",
       "      <td>...</td>\n",
       "      <td>35835</td>\n",
       "      <td>20940</td>\n",
       "      <td>19146</td>\n",
       "      <td>19131</td>\n",
       "      <td>2000</td>\n",
       "      <td>36681</td>\n",
       "      <td>10000</td>\n",
       "      <td>9000</td>\n",
       "      <td>689</td>\n",
       "      <td>679</td>\n",
       "    </tr>\n",
       "  </tbody>\n",
       "</table>\n",
       "<p>5 rows × 23 columns</p>\n",
       "</div>"
      ],
      "text/plain": [
       "   LIMIT_BAL  SEX  EDUCATION  MARRIAGE  AGE  PAY_0  PAY_2  PAY_3  PAY_4  \\\n",
       "0      20000    2          2         1   24      2      2     -1     -1   \n",
       "1     120000    2          2         2   26     -1      2      0      0   \n",
       "2      90000    2          2         2   34      0      0      0      0   \n",
       "3      50000    2          2         1   37      0      0      0      0   \n",
       "4      50000    1          2         1   57     -1      0     -1      0   \n",
       "\n",
       "   PAY_5    ...     BILL_AMT3  BILL_AMT4  BILL_AMT5  BILL_AMT6  PAY_AMT1  \\\n",
       "0     -2    ...           689          0          0          0         0   \n",
       "1      0    ...          2682       3272       3455       3261         0   \n",
       "2      0    ...         13559      14331      14948      15549      1518   \n",
       "3      0    ...         49291      28314      28959      29547      2000   \n",
       "4      0    ...         35835      20940      19146      19131      2000   \n",
       "\n",
       "   PAY_AMT2  PAY_AMT3  PAY_AMT4  PAY_AMT5  PAY_AMT6  \n",
       "0       689         0         0         0         0  \n",
       "1      1000      1000      1000         0      2000  \n",
       "2      1500      1000      1000      1000      5000  \n",
       "3      2019      1200      1100      1069      1000  \n",
       "4     36681     10000      9000       689       679  \n",
       "\n",
       "[5 rows x 23 columns]"
      ]
     },
     "execution_count": 353,
     "metadata": {},
     "output_type": "execute_result"
    }
   ],
   "source": [
    "features.head()"
   ]
  },
  {
   "cell_type": "code",
   "execution_count": 354,
   "metadata": {},
   "outputs": [],
   "source": [
    "#select dependent variables"
   ]
  },
  {
   "cell_type": "code",
   "execution_count": 355,
   "metadata": {},
   "outputs": [],
   "source": [
    "depVar = rawData['default']"
   ]
  },
  {
   "cell_type": "code",
   "execution_count": 356,
   "metadata": {},
   "outputs": [
    {
     "data": {
      "text/plain": [
       "0    1\n",
       "1    1\n",
       "2    0\n",
       "3    0\n",
       "4    0\n",
       "Name: default, dtype: int64"
      ]
     },
     "execution_count": 356,
     "metadata": {},
     "output_type": "execute_result"
    }
   ],
   "source": [
    "depVar.head()"
   ]
  },
  {
   "cell_type": "code",
   "execution_count": 357,
   "metadata": {},
   "outputs": [
    {
     "data": {
      "text/plain": [
       "0    1\n",
       "1    1\n",
       "2    0\n",
       "3    0\n",
       "4    0\n",
       "Name: default, dtype: int64"
      ]
     },
     "execution_count": 357,
     "metadata": {},
     "output_type": "execute_result"
    }
   ],
   "source": [
    "depVar.head()"
   ]
  },
  {
   "cell_type": "code",
   "execution_count": 358,
   "metadata": {},
   "outputs": [],
   "source": [
    "#Establish the training set for the X-variables of Feature space (first 1000 rows: only for this example you will still follow a 70/30 split for the finl models)"
   ]
  },
  {
   "cell_type": "code",
   "execution_count": 359,
   "metadata": {},
   "outputs": [],
   "source": [
    "X_train = (features[: 30000])"
   ]
  },
  {
   "cell_type": "code",
   "execution_count": 360,
   "metadata": {},
   "outputs": [
    {
     "data": {
      "text/html": [
       "<div>\n",
       "<style scoped>\n",
       "    .dataframe tbody tr th:only-of-type {\n",
       "        vertical-align: middle;\n",
       "    }\n",
       "\n",
       "    .dataframe tbody tr th {\n",
       "        vertical-align: top;\n",
       "    }\n",
       "\n",
       "    .dataframe thead th {\n",
       "        text-align: right;\n",
       "    }\n",
       "</style>\n",
       "<table border=\"1\" class=\"dataframe\">\n",
       "  <thead>\n",
       "    <tr style=\"text-align: right;\">\n",
       "      <th></th>\n",
       "      <th>LIMIT_BAL</th>\n",
       "      <th>SEX</th>\n",
       "      <th>EDUCATION</th>\n",
       "      <th>MARRIAGE</th>\n",
       "      <th>AGE</th>\n",
       "      <th>PAY_0</th>\n",
       "      <th>PAY_2</th>\n",
       "      <th>PAY_3</th>\n",
       "      <th>PAY_4</th>\n",
       "      <th>PAY_5</th>\n",
       "      <th>...</th>\n",
       "      <th>BILL_AMT3</th>\n",
       "      <th>BILL_AMT4</th>\n",
       "      <th>BILL_AMT5</th>\n",
       "      <th>BILL_AMT6</th>\n",
       "      <th>PAY_AMT1</th>\n",
       "      <th>PAY_AMT2</th>\n",
       "      <th>PAY_AMT3</th>\n",
       "      <th>PAY_AMT4</th>\n",
       "      <th>PAY_AMT5</th>\n",
       "      <th>PAY_AMT6</th>\n",
       "    </tr>\n",
       "  </thead>\n",
       "  <tbody>\n",
       "    <tr>\n",
       "      <th>0</th>\n",
       "      <td>20000</td>\n",
       "      <td>2</td>\n",
       "      <td>2</td>\n",
       "      <td>1</td>\n",
       "      <td>24</td>\n",
       "      <td>2</td>\n",
       "      <td>2</td>\n",
       "      <td>-1</td>\n",
       "      <td>-1</td>\n",
       "      <td>-2</td>\n",
       "      <td>...</td>\n",
       "      <td>689</td>\n",
       "      <td>0</td>\n",
       "      <td>0</td>\n",
       "      <td>0</td>\n",
       "      <td>0</td>\n",
       "      <td>689</td>\n",
       "      <td>0</td>\n",
       "      <td>0</td>\n",
       "      <td>0</td>\n",
       "      <td>0</td>\n",
       "    </tr>\n",
       "    <tr>\n",
       "      <th>1</th>\n",
       "      <td>120000</td>\n",
       "      <td>2</td>\n",
       "      <td>2</td>\n",
       "      <td>2</td>\n",
       "      <td>26</td>\n",
       "      <td>-1</td>\n",
       "      <td>2</td>\n",
       "      <td>0</td>\n",
       "      <td>0</td>\n",
       "      <td>0</td>\n",
       "      <td>...</td>\n",
       "      <td>2682</td>\n",
       "      <td>3272</td>\n",
       "      <td>3455</td>\n",
       "      <td>3261</td>\n",
       "      <td>0</td>\n",
       "      <td>1000</td>\n",
       "      <td>1000</td>\n",
       "      <td>1000</td>\n",
       "      <td>0</td>\n",
       "      <td>2000</td>\n",
       "    </tr>\n",
       "    <tr>\n",
       "      <th>2</th>\n",
       "      <td>90000</td>\n",
       "      <td>2</td>\n",
       "      <td>2</td>\n",
       "      <td>2</td>\n",
       "      <td>34</td>\n",
       "      <td>0</td>\n",
       "      <td>0</td>\n",
       "      <td>0</td>\n",
       "      <td>0</td>\n",
       "      <td>0</td>\n",
       "      <td>...</td>\n",
       "      <td>13559</td>\n",
       "      <td>14331</td>\n",
       "      <td>14948</td>\n",
       "      <td>15549</td>\n",
       "      <td>1518</td>\n",
       "      <td>1500</td>\n",
       "      <td>1000</td>\n",
       "      <td>1000</td>\n",
       "      <td>1000</td>\n",
       "      <td>5000</td>\n",
       "    </tr>\n",
       "    <tr>\n",
       "      <th>3</th>\n",
       "      <td>50000</td>\n",
       "      <td>2</td>\n",
       "      <td>2</td>\n",
       "      <td>1</td>\n",
       "      <td>37</td>\n",
       "      <td>0</td>\n",
       "      <td>0</td>\n",
       "      <td>0</td>\n",
       "      <td>0</td>\n",
       "      <td>0</td>\n",
       "      <td>...</td>\n",
       "      <td>49291</td>\n",
       "      <td>28314</td>\n",
       "      <td>28959</td>\n",
       "      <td>29547</td>\n",
       "      <td>2000</td>\n",
       "      <td>2019</td>\n",
       "      <td>1200</td>\n",
       "      <td>1100</td>\n",
       "      <td>1069</td>\n",
       "      <td>1000</td>\n",
       "    </tr>\n",
       "    <tr>\n",
       "      <th>4</th>\n",
       "      <td>50000</td>\n",
       "      <td>1</td>\n",
       "      <td>2</td>\n",
       "      <td>1</td>\n",
       "      <td>57</td>\n",
       "      <td>-1</td>\n",
       "      <td>0</td>\n",
       "      <td>-1</td>\n",
       "      <td>0</td>\n",
       "      <td>0</td>\n",
       "      <td>...</td>\n",
       "      <td>35835</td>\n",
       "      <td>20940</td>\n",
       "      <td>19146</td>\n",
       "      <td>19131</td>\n",
       "      <td>2000</td>\n",
       "      <td>36681</td>\n",
       "      <td>10000</td>\n",
       "      <td>9000</td>\n",
       "      <td>689</td>\n",
       "      <td>679</td>\n",
       "    </tr>\n",
       "  </tbody>\n",
       "</table>\n",
       "<p>5 rows × 23 columns</p>\n",
       "</div>"
      ],
      "text/plain": [
       "   LIMIT_BAL  SEX  EDUCATION  MARRIAGE  AGE  PAY_0  PAY_2  PAY_3  PAY_4  \\\n",
       "0      20000    2          2         1   24      2      2     -1     -1   \n",
       "1     120000    2          2         2   26     -1      2      0      0   \n",
       "2      90000    2          2         2   34      0      0      0      0   \n",
       "3      50000    2          2         1   37      0      0      0      0   \n",
       "4      50000    1          2         1   57     -1      0     -1      0   \n",
       "\n",
       "   PAY_5    ...     BILL_AMT3  BILL_AMT4  BILL_AMT5  BILL_AMT6  PAY_AMT1  \\\n",
       "0     -2    ...           689          0          0          0         0   \n",
       "1      0    ...          2682       3272       3455       3261         0   \n",
       "2      0    ...         13559      14331      14948      15549      1518   \n",
       "3      0    ...         49291      28314      28959      29547      2000   \n",
       "4      0    ...         35835      20940      19146      19131      2000   \n",
       "\n",
       "   PAY_AMT2  PAY_AMT3  PAY_AMT4  PAY_AMT5  PAY_AMT6  \n",
       "0       689         0         0         0         0  \n",
       "1      1000      1000      1000         0      2000  \n",
       "2      1500      1000      1000      1000      5000  \n",
       "3      2019      1200      1100      1069      1000  \n",
       "4     36681     10000      9000       689       679  \n",
       "\n",
       "[5 rows x 23 columns]"
      ]
     },
     "execution_count": 360,
     "metadata": {},
     "output_type": "execute_result"
    }
   ],
   "source": [
    "X_train.head()"
   ]
  },
  {
   "cell_type": "code",
   "execution_count": 361,
   "metadata": {},
   "outputs": [],
   "source": [
    "# Establish the training set for the Y-variable or dependent variable (the number of rows much match the X-training set)"
   ]
  },
  {
   "cell_type": "code",
   "execution_count": 362,
   "metadata": {},
   "outputs": [],
   "source": [
    "#Dependent Variable Training Set (Y Training)"
   ]
  },
  {
   "cell_type": "code",
   "execution_count": 363,
   "metadata": {},
   "outputs": [
    {
     "name": "stdout",
     "output_type": "stream",
     "text": [
      "The number of observations in the Y training set are: 30000\n"
     ]
    }
   ],
   "source": [
    "y_train = depVar[: 30000]\n",
    "y_train_count = len(y_train.index)\n",
    "print('The number of observations in the Y training set are:', str(y_train_count))"
   ]
  },
  {
   "cell_type": "code",
   "execution_count": 364,
   "metadata": {},
   "outputs": [
    {
     "data": {
      "text/plain": [
       "0    1\n",
       "1    1\n",
       "2    0\n",
       "3    0\n",
       "4    0\n",
       "Name: default, dtype: int64"
      ]
     },
     "execution_count": 364,
     "metadata": {},
     "output_type": "execute_result"
    }
   ],
   "source": [
    "y_train.head()"
   ]
  },
  {
   "cell_type": "code",
   "execution_count": 365,
   "metadata": {},
   "outputs": [],
   "source": [
    "#Testing Set (X Testing)"
   ]
  },
  {
   "cell_type": "code",
   "execution_count": 366,
   "metadata": {},
   "outputs": [
    {
     "name": "stdout",
     "output_type": "stream",
     "text": [
      "The number of observations in the feature testing set is: 10000\n",
      "20000    1\n",
      "20001    0\n",
      "20002    0\n",
      "20003    0\n",
      "20004    0\n",
      "Name: default, dtype: int64\n"
     ]
    }
   ],
   "source": [
    "X_test = depVar[-10000:]\n",
    "X_test_count = len(X_test.index)\n",
    "print('The number of observations in the feature testing set is:', str(X_test_count))\n",
    "print(X_test.head())"
   ]
  },
  {
   "cell_type": "code",
   "execution_count": 367,
   "metadata": {},
   "outputs": [],
   "source": [
    "# Establish Ground Truth"
   ]
  },
  {
   "cell_type": "code",
   "execution_count": 368,
   "metadata": {},
   "outputs": [],
   "source": [
    "#Ground Truth (y_test)"
   ]
  },
  {
   "cell_type": "code",
   "execution_count": 369,
   "metadata": {},
   "outputs": [],
   "source": [
    "y_test = depVar[-10000:]"
   ]
  },
  {
   "cell_type": "code",
   "execution_count": 370,
   "metadata": {},
   "outputs": [],
   "source": [
    "y_test_count = len(y_test.index)"
   ]
  },
  {
   "cell_type": "code",
   "execution_count": 371,
   "metadata": {},
   "outputs": [
    {
     "name": "stdout",
     "output_type": "stream",
     "text": [
      "The number of observations in the Y training set are: 10000\n"
     ]
    }
   ],
   "source": [
    "print('The number of observations in the Y training set are:', str(y_test_count))"
   ]
  },
  {
   "cell_type": "code",
   "execution_count": 372,
   "metadata": {},
   "outputs": [
    {
     "data": {
      "text/plain": [
       "20000    1\n",
       "20001    0\n",
       "20002    0\n",
       "20003    0\n",
       "20004    0\n",
       "Name: default, dtype: int64"
      ]
     },
     "execution_count": 372,
     "metadata": {},
     "output_type": "execute_result"
    }
   ],
   "source": [
    "y_test.head()"
   ]
  },
  {
   "cell_type": "code",
   "execution_count": 373,
   "metadata": {},
   "outputs": [],
   "source": [
    "#Cross Validation"
   ]
  },
  {
   "cell_type": "code",
   "execution_count": 374,
   "metadata": {},
   "outputs": [],
   "source": [
    "from sklearn.cross_validation import train_test_split"
   ]
  },
  {
   "cell_type": "code",
   "execution_count": 375,
   "metadata": {},
   "outputs": [],
   "source": [
    "X_train, X_test, y_train, y_test = train_test_split(X_train, y_train)"
   ]
  },
  {
   "cell_type": "code",
   "execution_count": 376,
   "metadata": {},
   "outputs": [
    {
     "data": {
      "text/plain": [
       "((22500, 23), (7500, 23))"
      ]
     },
     "execution_count": 376,
     "metadata": {},
     "output_type": "execute_result"
    }
   ],
   "source": [
    "X_train.shape, X_test.shape"
   ]
  },
  {
   "cell_type": "code",
   "execution_count": 377,
   "metadata": {},
   "outputs": [],
   "source": [
    "#X_train, X_test, y_train, y_test = train_test_split(X_train, y_train)"
   ]
  },
  {
   "cell_type": "code",
   "execution_count": 378,
   "metadata": {},
   "outputs": [],
   "source": [
    "#X_train.shape, X_test.shape"
   ]
  },
  {
   "cell_type": "code",
   "execution_count": null,
   "metadata": {
    "scrolled": true
   },
   "outputs": [],
   "source": []
  },
  {
   "cell_type": "code",
   "execution_count": 379,
   "metadata": {},
   "outputs": [],
   "source": [
    "from sklearn.linear_model import LinearRegression"
   ]
  },
  {
   "cell_type": "code",
   "execution_count": 380,
   "metadata": {},
   "outputs": [],
   "source": [
    "model = LinearRegression(n_jobs=10)"
   ]
  },
  {
   "cell_type": "code",
   "execution_count": 381,
   "metadata": {},
   "outputs": [],
   "source": [
    "#models"
   ]
  },
  {
   "cell_type": "markdown",
   "metadata": {},
   "source": []
  },
  {
   "cell_type": "code",
   "execution_count": 382,
   "metadata": {},
   "outputs": [],
   "source": [
    "modelSVR = SVR()"
   ]
  },
  {
   "cell_type": "code",
   "execution_count": 383,
   "metadata": {},
   "outputs": [],
   "source": [
    "modelRF = RandomForestRegressor()"
   ]
  },
  {
   "cell_type": "code",
   "execution_count": 384,
   "metadata": {},
   "outputs": [],
   "source": [
    "modelLR = LinearRegression()"
   ]
  },
  {
   "cell_type": "code",
   "execution_count": 385,
   "metadata": {},
   "outputs": [],
   "source": [
    "from sklearn import datasets"
   ]
  },
  {
   "cell_type": "code",
   "execution_count": 386,
   "metadata": {},
   "outputs": [],
   "source": [
    "from sklearn.naive_bayes import GaussianNB"
   ]
  },
  {
   "cell_type": "code",
   "execution_count": 387,
   "metadata": {},
   "outputs": [],
   "source": [
    "modelNB = GaussianNB()"
   ]
  },
  {
   "cell_type": "markdown",
   "metadata": {},
   "source": []
  },
  {
   "cell_type": "markdown",
   "metadata": {},
   "source": []
  },
  {
   "cell_type": "code",
   "execution_count": 388,
   "metadata": {},
   "outputs": [],
   "source": [
    "#features"
   ]
  },
  {
   "cell_type": "code",
   "execution_count": 389,
   "metadata": {},
   "outputs": [],
   "source": [
    "features = rawData.iloc[:, 1:24]"
   ]
  },
  {
   "cell_type": "code",
   "execution_count": 390,
   "metadata": {},
   "outputs": [
    {
     "name": "stdout",
     "output_type": "stream",
     "text": [
      "Summary of Feature Sample\n"
     ]
    }
   ],
   "source": [
    "print('Summary of Feature Sample')"
   ]
  },
  {
   "cell_type": "code",
   "execution_count": 391,
   "metadata": {},
   "outputs": [
    {
     "data": {
      "text/html": [
       "<div>\n",
       "<style scoped>\n",
       "    .dataframe tbody tr th:only-of-type {\n",
       "        vertical-align: middle;\n",
       "    }\n",
       "\n",
       "    .dataframe tbody tr th {\n",
       "        vertical-align: top;\n",
       "    }\n",
       "\n",
       "    .dataframe thead th {\n",
       "        text-align: right;\n",
       "    }\n",
       "</style>\n",
       "<table border=\"1\" class=\"dataframe\">\n",
       "  <thead>\n",
       "    <tr style=\"text-align: right;\">\n",
       "      <th></th>\n",
       "      <th>LIMIT_BAL</th>\n",
       "      <th>SEX</th>\n",
       "      <th>EDUCATION</th>\n",
       "      <th>MARRIAGE</th>\n",
       "      <th>AGE</th>\n",
       "      <th>PAY_0</th>\n",
       "      <th>PAY_2</th>\n",
       "      <th>PAY_3</th>\n",
       "      <th>PAY_4</th>\n",
       "      <th>PAY_5</th>\n",
       "      <th>...</th>\n",
       "      <th>BILL_AMT3</th>\n",
       "      <th>BILL_AMT4</th>\n",
       "      <th>BILL_AMT5</th>\n",
       "      <th>BILL_AMT6</th>\n",
       "      <th>PAY_AMT1</th>\n",
       "      <th>PAY_AMT2</th>\n",
       "      <th>PAY_AMT3</th>\n",
       "      <th>PAY_AMT4</th>\n",
       "      <th>PAY_AMT5</th>\n",
       "      <th>PAY_AMT6</th>\n",
       "    </tr>\n",
       "  </thead>\n",
       "  <tbody>\n",
       "    <tr>\n",
       "      <th>0</th>\n",
       "      <td>20000</td>\n",
       "      <td>2</td>\n",
       "      <td>2</td>\n",
       "      <td>1</td>\n",
       "      <td>24</td>\n",
       "      <td>2</td>\n",
       "      <td>2</td>\n",
       "      <td>-1</td>\n",
       "      <td>-1</td>\n",
       "      <td>-2</td>\n",
       "      <td>...</td>\n",
       "      <td>689</td>\n",
       "      <td>0</td>\n",
       "      <td>0</td>\n",
       "      <td>0</td>\n",
       "      <td>0</td>\n",
       "      <td>689</td>\n",
       "      <td>0</td>\n",
       "      <td>0</td>\n",
       "      <td>0</td>\n",
       "      <td>0</td>\n",
       "    </tr>\n",
       "    <tr>\n",
       "      <th>1</th>\n",
       "      <td>120000</td>\n",
       "      <td>2</td>\n",
       "      <td>2</td>\n",
       "      <td>2</td>\n",
       "      <td>26</td>\n",
       "      <td>-1</td>\n",
       "      <td>2</td>\n",
       "      <td>0</td>\n",
       "      <td>0</td>\n",
       "      <td>0</td>\n",
       "      <td>...</td>\n",
       "      <td>2682</td>\n",
       "      <td>3272</td>\n",
       "      <td>3455</td>\n",
       "      <td>3261</td>\n",
       "      <td>0</td>\n",
       "      <td>1000</td>\n",
       "      <td>1000</td>\n",
       "      <td>1000</td>\n",
       "      <td>0</td>\n",
       "      <td>2000</td>\n",
       "    </tr>\n",
       "    <tr>\n",
       "      <th>2</th>\n",
       "      <td>90000</td>\n",
       "      <td>2</td>\n",
       "      <td>2</td>\n",
       "      <td>2</td>\n",
       "      <td>34</td>\n",
       "      <td>0</td>\n",
       "      <td>0</td>\n",
       "      <td>0</td>\n",
       "      <td>0</td>\n",
       "      <td>0</td>\n",
       "      <td>...</td>\n",
       "      <td>13559</td>\n",
       "      <td>14331</td>\n",
       "      <td>14948</td>\n",
       "      <td>15549</td>\n",
       "      <td>1518</td>\n",
       "      <td>1500</td>\n",
       "      <td>1000</td>\n",
       "      <td>1000</td>\n",
       "      <td>1000</td>\n",
       "      <td>5000</td>\n",
       "    </tr>\n",
       "    <tr>\n",
       "      <th>3</th>\n",
       "      <td>50000</td>\n",
       "      <td>2</td>\n",
       "      <td>2</td>\n",
       "      <td>1</td>\n",
       "      <td>37</td>\n",
       "      <td>0</td>\n",
       "      <td>0</td>\n",
       "      <td>0</td>\n",
       "      <td>0</td>\n",
       "      <td>0</td>\n",
       "      <td>...</td>\n",
       "      <td>49291</td>\n",
       "      <td>28314</td>\n",
       "      <td>28959</td>\n",
       "      <td>29547</td>\n",
       "      <td>2000</td>\n",
       "      <td>2019</td>\n",
       "      <td>1200</td>\n",
       "      <td>1100</td>\n",
       "      <td>1069</td>\n",
       "      <td>1000</td>\n",
       "    </tr>\n",
       "    <tr>\n",
       "      <th>4</th>\n",
       "      <td>50000</td>\n",
       "      <td>1</td>\n",
       "      <td>2</td>\n",
       "      <td>1</td>\n",
       "      <td>57</td>\n",
       "      <td>-1</td>\n",
       "      <td>0</td>\n",
       "      <td>-1</td>\n",
       "      <td>0</td>\n",
       "      <td>0</td>\n",
       "      <td>...</td>\n",
       "      <td>35835</td>\n",
       "      <td>20940</td>\n",
       "      <td>19146</td>\n",
       "      <td>19131</td>\n",
       "      <td>2000</td>\n",
       "      <td>36681</td>\n",
       "      <td>10000</td>\n",
       "      <td>9000</td>\n",
       "      <td>689</td>\n",
       "      <td>679</td>\n",
       "    </tr>\n",
       "  </tbody>\n",
       "</table>\n",
       "<p>5 rows × 23 columns</p>\n",
       "</div>"
      ],
      "text/plain": [
       "   LIMIT_BAL  SEX  EDUCATION  MARRIAGE  AGE  PAY_0  PAY_2  PAY_3  PAY_4  \\\n",
       "0      20000    2          2         1   24      2      2     -1     -1   \n",
       "1     120000    2          2         2   26     -1      2      0      0   \n",
       "2      90000    2          2         2   34      0      0      0      0   \n",
       "3      50000    2          2         1   37      0      0      0      0   \n",
       "4      50000    1          2         1   57     -1      0     -1      0   \n",
       "\n",
       "   PAY_5    ...     BILL_AMT3  BILL_AMT4  BILL_AMT5  BILL_AMT6  PAY_AMT1  \\\n",
       "0     -2    ...           689          0          0          0         0   \n",
       "1      0    ...          2682       3272       3455       3261         0   \n",
       "2      0    ...         13559      14331      14948      15549      1518   \n",
       "3      0    ...         49291      28314      28959      29547      2000   \n",
       "4      0    ...         35835      20940      19146      19131      2000   \n",
       "\n",
       "   PAY_AMT2  PAY_AMT3  PAY_AMT4  PAY_AMT5  PAY_AMT6  \n",
       "0       689         0         0         0         0  \n",
       "1      1000      1000      1000         0      2000  \n",
       "2      1500      1000      1000      1000      5000  \n",
       "3      2019      1200      1100      1069      1000  \n",
       "4     36681     10000      9000       689       679  \n",
       "\n",
       "[5 rows x 23 columns]"
      ]
     },
     "execution_count": 391,
     "metadata": {},
     "output_type": "execute_result"
    }
   ],
   "source": [
    "features.head()"
   ]
  },
  {
   "cell_type": "code",
   "execution_count": 392,
   "metadata": {},
   "outputs": [],
   "source": [
    "#dependent variable"
   ]
  },
  {
   "cell_type": "code",
   "execution_count": 393,
   "metadata": {},
   "outputs": [
    {
     "name": "stdout",
     "output_type": "stream",
     "text": [
      "0        1\n",
      "1        1\n",
      "2        0\n",
      "3        0\n",
      "4        0\n",
      "5        0\n",
      "6        0\n",
      "7        0\n",
      "8        0\n",
      "9        0\n",
      "10       0\n",
      "11       0\n",
      "12       0\n",
      "13       1\n",
      "14       0\n",
      "15       0\n",
      "16       1\n",
      "17       0\n",
      "18       0\n",
      "19       0\n",
      "20       0\n",
      "21       1\n",
      "22       1\n",
      "23       1\n",
      "24       0\n",
      "25       0\n",
      "26       1\n",
      "27       0\n",
      "28       0\n",
      "29       0\n",
      "        ..\n",
      "29970    0\n",
      "29971    0\n",
      "29972    0\n",
      "29973    1\n",
      "29974    1\n",
      "29975    0\n",
      "29976    1\n",
      "29977    0\n",
      "29978    0\n",
      "29979    0\n",
      "29980    0\n",
      "29981    0\n",
      "29982    1\n",
      "29983    0\n",
      "29984    0\n",
      "29985    0\n",
      "29986    0\n",
      "29987    0\n",
      "29988    0\n",
      "29989    0\n",
      "29990    0\n",
      "29991    1\n",
      "29992    0\n",
      "29993    0\n",
      "29994    1\n",
      "29995    0\n",
      "29996    0\n",
      "29997    1\n",
      "29998    1\n",
      "29999    1\n",
      "Name: default, Length: 30000, dtype: int64\n"
     ]
    }
   ],
   "source": [
    "print(depVar)"
   ]
  },
  {
   "cell_type": "code",
   "execution_count": 394,
   "metadata": {},
   "outputs": [
    {
     "data": {
      "text/plain": [
       "LinearRegression(copy_X=True, fit_intercept=True, n_jobs=10, normalize=False)"
      ]
     },
     "execution_count": 394,
     "metadata": {},
     "output_type": "execute_result"
    }
   ],
   "source": [
    "model.fit(X_train, y_train)"
   ]
  },
  {
   "cell_type": "code",
   "execution_count": 395,
   "metadata": {},
   "outputs": [],
   "source": [
    "#Random Forest"
   ]
  },
  {
   "cell_type": "code",
   "execution_count": 396,
   "metadata": {},
   "outputs": [
    {
     "data": {
      "text/plain": [
       "RandomForestRegressor(bootstrap=True, criterion='mse', max_depth=None,\n",
       "           max_features='auto', max_leaf_nodes=None,\n",
       "           min_impurity_decrease=0.0, min_impurity_split=None,\n",
       "           min_samples_leaf=1, min_samples_split=2,\n",
       "           min_weight_fraction_leaf=0.0, n_estimators=10, n_jobs=1,\n",
       "           oob_score=False, random_state=None, verbose=0, warm_start=False)"
      ]
     },
     "execution_count": 396,
     "metadata": {},
     "output_type": "execute_result"
    }
   ],
   "source": [
    "modelRF.fit(X_train, y_train)"
   ]
  },
  {
   "cell_type": "code",
   "execution_count": 397,
   "metadata": {},
   "outputs": [],
   "source": [
    "#Support Vector Regression"
   ]
  },
  {
   "cell_type": "code",
   "execution_count": 398,
   "metadata": {},
   "outputs": [
    {
     "data": {
      "text/plain": [
       "SVR(C=1.0, cache_size=200, coef0=0.0, degree=3, epsilon=0.1, gamma='auto',\n",
       "  kernel='rbf', max_iter=-1, shrinking=True, tol=0.001, verbose=False)"
      ]
     },
     "execution_count": 398,
     "metadata": {},
     "output_type": "execute_result"
    }
   ],
   "source": [
    "modelSVR.fit(X_train, y_train)"
   ]
  },
  {
   "cell_type": "code",
   "execution_count": 399,
   "metadata": {},
   "outputs": [
    {
     "data": {
      "text/plain": [
       "LinearRegression(copy_X=True, fit_intercept=True, n_jobs=1, normalize=False)"
      ]
     },
     "execution_count": 399,
     "metadata": {},
     "output_type": "execute_result"
    }
   ],
   "source": [
    "modelLR.fit(X_train, y_train)"
   ]
  },
  {
   "cell_type": "code",
   "execution_count": 400,
   "metadata": {},
   "outputs": [],
   "source": [
    "from sklearn.model_selection import cross_val_score"
   ]
  },
  {
   "cell_type": "code",
   "execution_count": 401,
   "metadata": {},
   "outputs": [],
   "source": [
    "#Random Forest Regression Model Fitting and Scoring"
   ]
  },
  {
   "cell_type": "code",
   "execution_count": 402,
   "metadata": {},
   "outputs": [],
   "source": [
    "#Model Fitting"
   ]
  },
  {
   "cell_type": "code",
   "execution_count": 403,
   "metadata": {},
   "outputs": [
    {
     "data": {
      "text/plain": [
       "RandomForestRegressor(bootstrap=True, criterion='mse', max_depth=None,\n",
       "           max_features='auto', max_leaf_nodes=None,\n",
       "           min_impurity_decrease=0.0, min_impurity_split=None,\n",
       "           min_samples_leaf=1, min_samples_split=2,\n",
       "           min_weight_fraction_leaf=0.0, n_estimators=10, n_jobs=1,\n",
       "           oob_score=False, random_state=None, verbose=0, warm_start=False)"
      ]
     },
     "execution_count": 403,
     "metadata": {},
     "output_type": "execute_result"
    }
   ],
   "source": [
    "modelRF.fit(X_train, y_train)"
   ]
  },
  {
   "cell_type": "code",
   "execution_count": 404,
   "metadata": {},
   "outputs": [
    {
     "name": "stdout",
     "output_type": "stream",
     "text": [
      "[0.11572733 0.11451334 0.11134063]\n"
     ]
    }
   ],
   "source": [
    "print(cross_val_score(modelRF, X_train, y_train))"
   ]
  },
  {
   "cell_type": "code",
   "execution_count": 405,
   "metadata": {},
   "outputs": [],
   "source": [
    "#Support Vector Regression Model Fitting and Scoring"
   ]
  },
  {
   "cell_type": "code",
   "execution_count": 406,
   "metadata": {},
   "outputs": [
    {
     "data": {
      "text/plain": [
       "SVR(C=1.0, cache_size=200, coef0=0.0, degree=3, epsilon=0.1, gamma='auto',\n",
       "  kernel='rbf', max_iter=-1, shrinking=True, tol=0.001, verbose=False)"
      ]
     },
     "execution_count": 406,
     "metadata": {},
     "output_type": "execute_result"
    }
   ],
   "source": [
    "modelSVR.fit(X_train, y_train)"
   ]
  },
  {
   "cell_type": "code",
   "execution_count": 407,
   "metadata": {},
   "outputs": [
    {
     "name": "stdout",
     "output_type": "stream",
     "text": [
      "[-0.01969368 -0.02243776 -0.01672056]\n"
     ]
    }
   ],
   "source": [
    "print(cross_val_score(modelSVR, X_train, y_train))"
   ]
  },
  {
   "cell_type": "code",
   "execution_count": 408,
   "metadata": {},
   "outputs": [
    {
     "data": {
      "text/plain": [
       "0.8398778149873847"
      ]
     },
     "execution_count": 408,
     "metadata": {},
     "output_type": "execute_result"
    }
   ],
   "source": [
    "modelRF.score(X_train, y_train)"
   ]
  },
  {
   "cell_type": "code",
   "execution_count": 409,
   "metadata": {},
   "outputs": [
    {
     "data": {
      "text/plain": [
       "0.12531107043341028"
      ]
     },
     "execution_count": 409,
     "metadata": {},
     "output_type": "execute_result"
    }
   ],
   "source": [
    "modelRF.score(X_test, y_test)"
   ]
  },
  {
   "cell_type": "code",
   "execution_count": 410,
   "metadata": {},
   "outputs": [
    {
     "data": {
      "text/plain": [
       "0.9262772957172896"
      ]
     },
     "execution_count": 410,
     "metadata": {},
     "output_type": "execute_result"
    }
   ],
   "source": [
    "modelSVR.score(X_train, y_train)"
   ]
  },
  {
   "cell_type": "markdown",
   "metadata": {},
   "source": [
    "modelSVR.score(X_test, y_test)"
   ]
  },
  {
   "cell_type": "code",
   "execution_count": 606,
   "metadata": {},
   "outputs": [
    {
     "data": {
      "text/plain": [
       "-0.02291379137950811"
      ]
     },
     "execution_count": 606,
     "metadata": {},
     "output_type": "execute_result"
    }
   ],
   "source": [
    "modelSVR.score(X_test, y_test)"
   ]
  },
  {
   "cell_type": "code",
   "execution_count": 411,
   "metadata": {},
   "outputs": [],
   "source": [
    "#Linear Regression Model Fitting and Scoring"
   ]
  },
  {
   "cell_type": "code",
   "execution_count": 412,
   "metadata": {},
   "outputs": [
    {
     "data": {
      "text/plain": [
       "LinearRegression(copy_X=True, fit_intercept=True, n_jobs=1, normalize=False)"
      ]
     },
     "execution_count": 412,
     "metadata": {},
     "output_type": "execute_result"
    }
   ],
   "source": [
    "modelLR.fit(X_train, y_train)"
   ]
  },
  {
   "cell_type": "code",
   "execution_count": 413,
   "metadata": {},
   "outputs": [
    {
     "name": "stdout",
     "output_type": "stream",
     "text": [
      "[0.12312245 0.11677973 0.11192274]\n"
     ]
    }
   ],
   "source": [
    "print(cross_val_score(modelLR, X_train, y_train))"
   ]
  },
  {
   "cell_type": "code",
   "execution_count": 414,
   "metadata": {},
   "outputs": [
    {
     "data": {
      "text/plain": [
       "0.11942277831474779"
      ]
     },
     "execution_count": 414,
     "metadata": {},
     "output_type": "execute_result"
    }
   ],
   "source": [
    "modelLR.score(X_train, y_train)"
   ]
  },
  {
   "cell_type": "code",
   "execution_count": 415,
   "metadata": {},
   "outputs": [
    {
     "data": {
      "text/plain": [
       "0.13705048353568705"
      ]
     },
     "execution_count": 415,
     "metadata": {},
     "output_type": "execute_result"
    }
   ],
   "source": [
    "modelLR.score(X_test, y_test)"
   ]
  },
  {
   "cell_type": "code",
   "execution_count": 416,
   "metadata": {},
   "outputs": [
    {
     "data": {
      "text/plain": [
       "GaussianNB(priors=None)"
      ]
     },
     "execution_count": 416,
     "metadata": {},
     "output_type": "execute_result"
    }
   ],
   "source": [
    "modelNB.fit(X_train, y_train)"
   ]
  },
  {
   "cell_type": "code",
   "execution_count": 417,
   "metadata": {},
   "outputs": [
    {
     "name": "stdout",
     "output_type": "stream",
     "text": [
      "[0.40834555 0.36346667 0.39365249]\n"
     ]
    }
   ],
   "source": [
    "print(cross_val_score(modelNB, X_train, y_train))"
   ]
  },
  {
   "cell_type": "code",
   "execution_count": 605,
   "metadata": {},
   "outputs": [
    {
     "data": {
      "text/plain": [
       "0.3841333333333333"
      ]
     },
     "execution_count": 605,
     "metadata": {},
     "output_type": "execute_result"
    }
   ],
   "source": [
    "modelNB.score(X_test, y_test)"
   ]
  },
  {
   "cell_type": "code",
   "execution_count": 418,
   "metadata": {},
   "outputs": [],
   "source": [
    "#Making Predictions"
   ]
  },
  {
   "cell_type": "code",
   "execution_count": 419,
   "metadata": {},
   "outputs": [],
   "source": [
    "predictions_RF = modelRF.predict(X_test)"
   ]
  },
  {
   "cell_type": "code",
   "execution_count": 420,
   "metadata": {},
   "outputs": [],
   "source": [
    "predictions_SVR = modelSVR.predict(X_test)"
   ]
  },
  {
   "cell_type": "raw",
   "metadata": {},
   "source": [
    "#predictions_LR = modelLR.predict(X_test)"
   ]
  },
  {
   "cell_type": "code",
   "execution_count": 421,
   "metadata": {},
   "outputs": [],
   "source": [
    "predictions_LR = modelLR.predict(X_test)"
   ]
  },
  {
   "cell_type": "code",
   "execution_count": 422,
   "metadata": {},
   "outputs": [],
   "source": [
    "predictions_NB = modelNB.predict(X_test)"
   ]
  },
  {
   "cell_type": "code",
   "execution_count": 423,
   "metadata": {},
   "outputs": [],
   "source": [
    "#Evaluating the results"
   ]
  },
  {
   "cell_type": "code",
   "execution_count": 424,
   "metadata": {},
   "outputs": [],
   "source": [
    "from sklearn.metrics import mean_squared_error"
   ]
  },
  {
   "cell_type": "code",
   "execution_count": 425,
   "metadata": {},
   "outputs": [],
   "source": [
    "from sklearn.metrics import r2_score"
   ]
  },
  {
   "cell_type": "code",
   "execution_count": 426,
   "metadata": {},
   "outputs": [],
   "source": [
    "from math import sqrt"
   ]
  },
  {
   "cell_type": "code",
   "execution_count": 427,
   "metadata": {},
   "outputs": [],
   "source": [
    "rmse_RF=sqrt(mean_squared_error(y_test, predictions_RF))"
   ]
  },
  {
   "cell_type": "code",
   "execution_count": 428,
   "metadata": {},
   "outputs": [],
   "source": [
    "rmse_SVR=sqrt(mean_squared_error(y_test, predictions_SVR))"
   ]
  },
  {
   "cell_type": "code",
   "execution_count": 429,
   "metadata": {},
   "outputs": [],
   "source": [
    "rmse_LR=sqrt(mean_squared_error(y_test, predictions_LR))"
   ]
  },
  {
   "cell_type": "code",
   "execution_count": 430,
   "metadata": {},
   "outputs": [],
   "source": [
    "rmse_NB=sqrt(mean_squared_error(y_test, predictions_NB))"
   ]
  },
  {
   "cell_type": "code",
   "execution_count": 431,
   "metadata": {},
   "outputs": [],
   "source": [
    "predRsquared_RF = r2_score(y_test, predictions_RF)"
   ]
  },
  {
   "cell_type": "code",
   "execution_count": 432,
   "metadata": {},
   "outputs": [],
   "source": [
    "predRsquared_SVR = r2_score(y_test, predictions_SVR)"
   ]
  },
  {
   "cell_type": "code",
   "execution_count": 433,
   "metadata": {},
   "outputs": [],
   "source": [
    "predRsquared_LR = r2_score(y_test, predictions_LR)"
   ]
  },
  {
   "cell_type": "code",
   "execution_count": 434,
   "metadata": {},
   "outputs": [],
   "source": [
    "predRsquared_NB = r2_score(y_test, predictions_NB)"
   ]
  },
  {
   "cell_type": "code",
   "execution_count": 435,
   "metadata": {},
   "outputs": [
    {
     "name": "stdout",
     "output_type": "stream",
     "text": [
      "R Squared_RF: 0.125\n"
     ]
    }
   ],
   "source": [
    "print('R Squared_RF: %.3f' % predRsquared_RF)"
   ]
  },
  {
   "cell_type": "code",
   "execution_count": 436,
   "metadata": {},
   "outputs": [
    {
     "name": "stdout",
     "output_type": "stream",
     "text": [
      "R Squared_SVR: -0.023\n"
     ]
    }
   ],
   "source": [
    "print('R Squared_SVR: %.3f' % predRsquared_SVR)"
   ]
  },
  {
   "cell_type": "code",
   "execution_count": 437,
   "metadata": {},
   "outputs": [
    {
     "name": "stdout",
     "output_type": "stream",
     "text": [
      "R Squared_LR: 0.137\n"
     ]
    }
   ],
   "source": [
    "print('R Squared_LR: %.3f' % predRsquared_LR)"
   ]
  },
  {
   "cell_type": "code",
   "execution_count": 438,
   "metadata": {},
   "outputs": [
    {
     "name": "stdout",
     "output_type": "stream",
     "text": [
      "R Squared_LR: -2.572\n"
     ]
    }
   ],
   "source": [
    "print('R Squared_LR: %.3f' % predRsquared_NB)"
   ]
  },
  {
   "cell_type": "code",
   "execution_count": 439,
   "metadata": {},
   "outputs": [
    {
     "name": "stdout",
     "output_type": "stream",
     "text": [
      "RMSE_RF: 0.388\n"
     ]
    }
   ],
   "source": [
    "print('RMSE_RF: %.3f' % rmse_RF)"
   ]
  },
  {
   "cell_type": "code",
   "execution_count": 440,
   "metadata": {},
   "outputs": [
    {
     "name": "stdout",
     "output_type": "stream",
     "text": [
      "RMSE_SVR: 0.420\n"
     ]
    }
   ],
   "source": [
    "print('RMSE_SVR: %.3f' % rmse_SVR)"
   ]
  },
  {
   "cell_type": "code",
   "execution_count": 441,
   "metadata": {},
   "outputs": [
    {
     "name": "stdout",
     "output_type": "stream",
     "text": [
      "RMSE_LR: 0.386\n"
     ]
    }
   ],
   "source": [
    "print('RMSE_LR: %.3f' % rmse_LR)"
   ]
  },
  {
   "cell_type": "code",
   "execution_count": 442,
   "metadata": {},
   "outputs": [
    {
     "name": "stdout",
     "output_type": "stream",
     "text": [
      "RMSE_NB: 0.785\n"
     ]
    }
   ],
   "source": [
    "print('RMSE_NB: %.3f' % rmse_NB)"
   ]
  },
  {
   "cell_type": "code",
   "execution_count": 443,
   "metadata": {},
   "outputs": [
    {
     "data": {
      "image/png": "[encoded data removed]",
      "text/plain": [
       "<Figure size 432x288 with 1 Axes>"
      ]
     },
     "metadata": {},
     "output_type": "display_data"
    }
   ],
   "source": [
    "plt.scatter(y_test, predictions_RF, color=['blue','green'], alpha = 0.5)\n",
    "plt.xlabel('X-Axis')\n",
    "plt.ylabel('Predictions_RF')\n",
    "plt.show();"
   ]
  },
  {
   "cell_type": "code",
   "execution_count": 444,
   "metadata": {},
   "outputs": [
    {
     "data": {
      "image/png": "[encoded data removed]",
      "text/plain": [
       "<Figure size 432x288 with 1 Axes>"
      ]
     },
     "metadata": {},
     "output_type": "display_data"
    }
   ],
   "source": [
    "plt.scatter(y_test, predictions_SVR, color=['blue','green'], alpha = 0.5)\n",
    "plt.xlabel('X-Axis')\n",
    "plt.ylabel('Predictions_SVR')\n",
    "plt.show();"
   ]
  },
  {
   "cell_type": "code",
   "execution_count": 445,
   "metadata": {},
   "outputs": [
    {
     "data": {
      "image/png": "[encoded data removed]",
      "text/plain": [
       "<Figure size 432x288 with 1 Axes>"
      ]
     },
     "metadata": {},
     "output_type": "display_data"
    }
   ],
   "source": [
    "plt.scatter(y_test, predictions_LR, color=['blue','green'], alpha = 0.5)\n",
    "plt.xlabel('X-Axis')\n",
    "plt.ylabel('Predictions_LR')\n",
    "plt.show();"
   ]
  },
  {
   "cell_type": "code",
   "execution_count": 446,
   "metadata": {},
   "outputs": [
    {
     "data": {
      "image/png": "[encoded data removed]",
      "text/plain": [
       "<Figure size 432x288 with 1 Axes>"
      ]
     },
     "metadata": {},
     "output_type": "display_data"
    }
   ],
   "source": [
    "plt.scatter(y_test, predictions_NB, color=['blue','green'], alpha = 0.5)\n",
    "plt.xlabel('X-Axis')\n",
    "plt.ylabel('Predictions_NB')\n",
    "plt.show();"
   ]
  },
  {
   "cell_type": "code",
   "execution_count": 447,
   "metadata": {},
   "outputs": [
    {
     "data": {
      "image/png": "[encoded data removed]",
      "text/plain": [
       "<Figure size 432x288 with 1 Axes>"
      ]
     },
     "metadata": {},
     "output_type": "display_data"
    }
   ],
   "source": [
    "plt.scatter(y_test, predictions_RF, color=['blue','green'], alpha = 1.0)\n",
    "plt.xlabel('X-Axis')\n",
    "plt.ylabel('Predictions_RF')\n",
    "plt.show();"
   ]
  },
  {
   "cell_type": "code",
   "execution_count": 448,
   "metadata": {},
   "outputs": [
    {
     "data": {
      "image/png": "[encoded data removed]",
      "text/plain": [
       "<Figure size 432x288 with 1 Axes>"
      ]
     },
     "metadata": {},
     "output_type": "display_data"
    }
   ],
   "source": [
    "plt.scatter(y_test, predictions_SVR, color=['blue','green'], alpha = 1.0)\n",
    "plt.xlabel('X-Axis')\n",
    "plt.ylabel('Predictions_SVR')\n",
    "plt.show();"
   ]
  },
  {
   "cell_type": "code",
   "execution_count": 449,
   "metadata": {},
   "outputs": [
    {
     "data": {
      "image/png": "[encoded data removed]",
      "text/plain": [
       "<Figure size 432x288 with 1 Axes>"
      ]
     },
     "metadata": {},
     "output_type": "display_data"
    }
   ],
   "source": [
    "plt.scatter(y_test, predictions_LR, color=['blue','green'], alpha = 1.0)\n",
    "plt.xlabel('X-Axis')\n",
    "plt.ylabel('Predictions_LR')\n",
    "plt.show();"
   ]
  },
  {
   "cell_type": "code",
   "execution_count": 450,
   "metadata": {},
   "outputs": [
    {
     "data": {
      "image/png": "[encoded data removed]",
      "text/plain": [
       "<Figure size 432x288 with 1 Axes>"
      ]
     },
     "metadata": {},
     "output_type": "display_data"
    }
   ],
   "source": [
    "plt.scatter(y_test, predictions_NB, color=['blue','green'], alpha = 1.0)\n",
    "plt.xlabel('X-Axis')\n",
    "plt.ylabel('Predictions_NB')\n",
    "plt.show();\n",
    "\n",
    "\n",
    "\n",
    "\n",
    "\n",
    "\n",
    "\n",
    "\n",
    "\n"
   ]
  },
  {
   "cell_type": "code",
   "execution_count": 451,
   "metadata": {},
   "outputs": [
    {
     "data": {
      "text/html": [
       "<div>\n",
       "<style scoped>\n",
       "    .dataframe tbody tr th:only-of-type {\n",
       "        vertical-align: middle;\n",
       "    }\n",
       "\n",
       "    .dataframe tbody tr th {\n",
       "        vertical-align: top;\n",
       "    }\n",
       "\n",
       "    .dataframe thead th {\n",
       "        text-align: right;\n",
       "    }\n",
       "</style>\n",
       "<table border=\"1\" class=\"dataframe\">\n",
       "  <thead>\n",
       "    <tr style=\"text-align: right;\">\n",
       "      <th></th>\n",
       "      <th>ID</th>\n",
       "      <th>LIMIT_BAL</th>\n",
       "      <th>SEX</th>\n",
       "      <th>EDUCATION</th>\n",
       "      <th>MARRIAGE</th>\n",
       "      <th>AGE</th>\n",
       "      <th>PAY_0</th>\n",
       "      <th>PAY_2</th>\n",
       "      <th>PAY_3</th>\n",
       "      <th>PAY_4</th>\n",
       "      <th>...</th>\n",
       "      <th>BILL_AMT4</th>\n",
       "      <th>BILL_AMT5</th>\n",
       "      <th>BILL_AMT6</th>\n",
       "      <th>PAY_AMT1</th>\n",
       "      <th>PAY_AMT2</th>\n",
       "      <th>PAY_AMT3</th>\n",
       "      <th>PAY_AMT4</th>\n",
       "      <th>PAY_AMT5</th>\n",
       "      <th>PAY_AMT6</th>\n",
       "      <th>default</th>\n",
       "    </tr>\n",
       "  </thead>\n",
       "  <tbody>\n",
       "    <tr>\n",
       "      <th>ID</th>\n",
       "      <td>7.500250e+07</td>\n",
       "      <td>2.941664e+07</td>\n",
       "      <td>78.356379</td>\n",
       "      <td>268.154338</td>\n",
       "      <td>-131.452515</td>\n",
       "      <td>1491.057019</td>\n",
       "      <td>-297.572636</td>\n",
       "      <td>-116.276959</td>\n",
       "      <td>-191.692156</td>\n",
       "      <td>-27.691323</td>\n",
       "      <td>...</td>\n",
       "      <td>2.248126e+07</td>\n",
       "      <td>8.795803e+06</td>\n",
       "      <td>8.628506e+06</td>\n",
       "      <td>1.397501e+06</td>\n",
       "      <td>1.677383e+06</td>\n",
       "      <td>5.969803e+06</td>\n",
       "      <td>1.057334e+06</td>\n",
       "      <td>8.629502e+04</td>\n",
       "      <td>4.618460e+05</td>\n",
       "      <td>-50.151705</td>\n",
       "    </tr>\n",
       "    <tr>\n",
       "      <th>LIMIT_BAL</th>\n",
       "      <td>2.941664e+07</td>\n",
       "      <td>1.683446e+10</td>\n",
       "      <td>1571.050630</td>\n",
       "      <td>-22474.028945</td>\n",
       "      <td>-7323.669658</td>\n",
       "      <td>173076.722569</td>\n",
       "      <td>-39545.930009</td>\n",
       "      <td>-46037.648360</td>\n",
       "      <td>-44432.253315</td>\n",
       "      <td>-40571.811859</td>\n",
       "      <td>...</td>\n",
       "      <td>2.453926e+09</td>\n",
       "      <td>2.331481e+09</td>\n",
       "      <td>2.243837e+09</td>\n",
       "      <td>4.195711e+08</td>\n",
       "      <td>5.333504e+08</td>\n",
       "      <td>4.801180e+08</td>\n",
       "      <td>4.131202e+08</td>\n",
       "      <td>4.305657e+08</td>\n",
       "      <td>5.065153e+08</td>\n",
       "      <td>-8267.551759</td>\n",
       "    </tr>\n",
       "    <tr>\n",
       "      <th>SEX</th>\n",
       "      <td>7.835638e+01</td>\n",
       "      <td>1.571051e+03</td>\n",
       "      <td>0.239247</td>\n",
       "      <td>0.005502</td>\n",
       "      <td>-0.008014</td>\n",
       "      <td>-0.409726</td>\n",
       "      <td>-0.031685</td>\n",
       "      <td>-0.041442</td>\n",
       "      <td>-0.038694</td>\n",
       "      <td>-0.034411</td>\n",
       "      <td>...</td>\n",
       "      <td>-6.884896e+02</td>\n",
       "      <td>-5.056943e+02</td>\n",
       "      <td>-4.874302e+02</td>\n",
       "      <td>-1.964266e+00</td>\n",
       "      <td>-1.567550e+01</td>\n",
       "      <td>-7.403481e+01</td>\n",
       "      <td>-1.708011e+01</td>\n",
       "      <td>-1.245881e+01</td>\n",
       "      <td>-2.405188e+01</td>\n",
       "      <td>-0.008113</td>\n",
       "    </tr>\n",
       "    <tr>\n",
       "      <th>EDUCATION</th>\n",
       "      <td>2.681543e+02</td>\n",
       "      <td>-2.247403e+04</td>\n",
       "      <td>0.005502</td>\n",
       "      <td>0.624651</td>\n",
       "      <td>-0.059184</td>\n",
       "      <td>1.275380</td>\n",
       "      <td>0.093584</td>\n",
       "      <td>0.115025</td>\n",
       "      <td>0.107861</td>\n",
       "      <td>0.100528</td>\n",
       "      <td>...</td>\n",
       "      <td>-2.294883e+01</td>\n",
       "      <td>-3.635777e+02</td>\n",
       "      <td>-4.282742e+02</td>\n",
       "      <td>-4.903302e+02</td>\n",
       "      <td>-5.470050e+02</td>\n",
       "      <td>-5.558343e+02</td>\n",
       "      <td>-4.732070e+02</td>\n",
       "      <td>-4.873359e+02</td>\n",
       "      <td>-5.226734e+02</td>\n",
       "      <td>0.009187</td>\n",
       "    </tr>\n",
       "    <tr>\n",
       "      <th>MARRIAGE</th>\n",
       "      <td>-1.314525e+02</td>\n",
       "      <td>-7.323670e+03</td>\n",
       "      <td>-0.008014</td>\n",
       "      <td>-0.059184</td>\n",
       "      <td>0.272452</td>\n",
       "      <td>-1.992764</td>\n",
       "      <td>0.011683</td>\n",
       "      <td>0.015122</td>\n",
       "      <td>0.020421</td>\n",
       "      <td>0.020213</td>\n",
       "      <td>...</td>\n",
       "      <td>-7.838816e+02</td>\n",
       "      <td>-8.058409e+02</td>\n",
       "      <td>-6.592233e+02</td>\n",
       "      <td>-5.169161e+01</td>\n",
       "      <td>-9.732797e+01</td>\n",
       "      <td>-3.254608e+01</td>\n",
       "      <td>-1.035182e+02</td>\n",
       "      <td>-9.607709e+00</td>\n",
       "      <td>-6.162327e+01</td>\n",
       "      <td>-0.005273</td>\n",
       "    </tr>\n",
       "    <tr>\n",
       "      <th>AGE</th>\n",
       "      <td>1.491057e+03</td>\n",
       "      <td>1.730767e+05</td>\n",
       "      <td>-0.409726</td>\n",
       "      <td>1.275380</td>\n",
       "      <td>-1.992764</td>\n",
       "      <td>84.969755</td>\n",
       "      <td>-0.408639</td>\n",
       "      <td>-0.553408</td>\n",
       "      <td>-0.585263</td>\n",
       "      <td>-0.535851</td>\n",
       "      <td>...</td>\n",
       "      <td>3.045311e+04</td>\n",
       "      <td>2.765407e+04</td>\n",
       "      <td>2.613765e+04</td>\n",
       "      <td>3.992042e+03</td>\n",
       "      <td>4.626862e+03</td>\n",
       "      <td>4.746824e+03</td>\n",
       "      <td>3.087324e+03</td>\n",
       "      <td>3.218052e+03</td>\n",
       "      <td>3.191904e+03</td>\n",
       "      <td>0.053143</td>\n",
       "    </tr>\n",
       "    <tr>\n",
       "      <th>PAY_0</th>\n",
       "      <td>-2.975726e+02</td>\n",
       "      <td>-3.954593e+04</td>\n",
       "      <td>-0.031685</td>\n",
       "      <td>0.093584</td>\n",
       "      <td>0.011683</td>\n",
       "      <td>-0.408639</td>\n",
       "      <td>1.262930</td>\n",
       "      <td>0.904330</td>\n",
       "      <td>0.772384</td>\n",
       "      <td>0.707972</td>\n",
       "      <td>...</td>\n",
       "      <td>1.295025e+04</td>\n",
       "      <td>1.234167e+04</td>\n",
       "      <td>1.184476e+04</td>\n",
       "      <td>-1.475495e+03</td>\n",
       "      <td>-1.815138e+03</td>\n",
       "      <td>-1.396168e+03</td>\n",
       "      <td>-1.126848e+03</td>\n",
       "      <td>-9.991077e+02</td>\n",
       "      <td>-1.172194e+03</td>\n",
       "      <td>0.151499</td>\n",
       "    </tr>\n",
       "    <tr>\n",
       "      <th>PAY_2</th>\n",
       "      <td>-1.162770e+02</td>\n",
       "      <td>-4.603765e+04</td>\n",
       "      <td>-0.041442</td>\n",
       "      <td>0.115025</td>\n",
       "      <td>0.015122</td>\n",
       "      <td>-0.553408</td>\n",
       "      <td>0.904330</td>\n",
       "      <td>1.433254</td>\n",
       "      <td>1.098371</td>\n",
       "      <td>0.926680</td>\n",
       "      <td>...</td>\n",
       "      <td>1.711630e+04</td>\n",
       "      <td>1.611095e+04</td>\n",
       "      <td>1.564288e+04</td>\n",
       "      <td>-1.600241e+03</td>\n",
       "      <td>-1.627192e+03</td>\n",
       "      <td>-1.178331e+03</td>\n",
       "      <td>-8.788439e+02</td>\n",
       "      <td>-6.784685e+02</td>\n",
       "      <td>-7.768350e+02</td>\n",
       "      <td>0.130960</td>\n",
       "    </tr>\n",
       "    <tr>\n",
       "      <th>PAY_3</th>\n",
       "      <td>-1.916922e+02</td>\n",
       "      <td>-4.443225e+04</td>\n",
       "      <td>-0.038694</td>\n",
       "      <td>0.107861</td>\n",
       "      <td>0.020421</td>\n",
       "      <td>-0.585263</td>\n",
       "      <td>0.772384</td>\n",
       "      <td>1.098371</td>\n",
       "      <td>1.432492</td>\n",
       "      <td>1.087761</td>\n",
       "      <td>...</td>\n",
       "      <td>1.749410e+04</td>\n",
       "      <td>1.638295e+04</td>\n",
       "      <td>1.584709e+04</td>\n",
       "      <td>2.566847e+01</td>\n",
       "      <td>-1.841953e+03</td>\n",
       "      <td>-1.123429e+03</td>\n",
       "      <td>-8.637622e+02</td>\n",
       "      <td>-6.557960e+02</td>\n",
       "      <td>-7.630260e+02</td>\n",
       "      <td>0.116867</td>\n",
       "    </tr>\n",
       "    <tr>\n",
       "      <th>PAY_4</th>\n",
       "      <td>-2.769132e+01</td>\n",
       "      <td>-4.057181e+04</td>\n",
       "      <td>-0.034411</td>\n",
       "      <td>0.100528</td>\n",
       "      <td>0.020213</td>\n",
       "      <td>-0.535851</td>\n",
       "      <td>0.707972</td>\n",
       "      <td>0.926680</td>\n",
       "      <td>1.087761</td>\n",
       "      <td>1.366885</td>\n",
       "      <td>...</td>\n",
       "      <td>1.849642e+04</td>\n",
       "      <td>1.726555e+04</td>\n",
       "      <td>1.665159e+04</td>\n",
       "      <td>-1.812956e+02</td>\n",
       "      <td>-5.235817e+01</td>\n",
       "      <td>-1.425205e+03</td>\n",
       "      <td>-7.960357e+02</td>\n",
       "      <td>-5.999916e+02</td>\n",
       "      <td>-5.521373e+02</td>\n",
       "      <td>0.105115</td>\n",
       "    </tr>\n",
       "    <tr>\n",
       "      <th>PAY_5</th>\n",
       "      <td>-2.178600e+02</td>\n",
       "      <td>-3.667056e+04</td>\n",
       "      <td>-0.030521</td>\n",
       "      <td>0.087340</td>\n",
       "      <td>0.021074</td>\n",
       "      <td>-0.562245</td>\n",
       "      <td>0.648743</td>\n",
       "      <td>0.844886</td>\n",
       "      <td>0.931455</td>\n",
       "      <td>1.086161</td>\n",
       "      <td>...</td>\n",
       "      <td>1.982293e+04</td>\n",
       "      <td>1.858659e+04</td>\n",
       "      <td>1.771569e+04</td>\n",
       "      <td>-1.142817e+02</td>\n",
       "      <td>-8.332449e+01</td>\n",
       "      <td>1.808121e+02</td>\n",
       "      <td>-1.034962e+03</td>\n",
       "      <td>-5.771610e+02</td>\n",
       "      <td>-4.638926e+02</td>\n",
       "      <td>0.096020</td>\n",
       "    </tr>\n",
       "    <tr>\n",
       "      <th>PAY_6</th>\n",
       "      <td>-2.018774e+02</td>\n",
       "      <td>-3.509308e+04</td>\n",
       "      <td>-0.024754</td>\n",
       "      <td>0.074816</td>\n",
       "      <td>0.020616</td>\n",
       "      <td>-0.517022</td>\n",
       "      <td>0.613292</td>\n",
       "      <td>0.792320</td>\n",
       "      <td>0.870815</td>\n",
       "      <td>0.963263</td>\n",
       "      <td>...</td>\n",
       "      <td>1.970555e+04</td>\n",
       "      <td>2.033812e+04</td>\n",
       "      <td>1.952488e+04</td>\n",
       "      <td>-2.850067e+01</td>\n",
       "      <td>-1.383995e+02</td>\n",
       "      <td>1.181210e+02</td>\n",
       "      <td>3.426237e+02</td>\n",
       "      <td>-8.158327e+02</td>\n",
       "      <td>-5.172163e+02</td>\n",
       "      <td>0.089194</td>\n",
       "    </tr>\n",
       "    <tr>\n",
       "      <th>BILL_AMT1</th>\n",
       "      <td>1.236447e+07</td>\n",
       "      <td>2.727020e+09</td>\n",
       "      <td>-1211.694332</td>\n",
       "      <td>1372.377644</td>\n",
       "      <td>-902.154685</td>\n",
       "      <td>38172.933546</td>\n",
       "      <td>15480.304170</td>\n",
       "      <td>20706.614217</td>\n",
       "      <td>18373.210469</td>\n",
       "      <td>17460.198259</td>\n",
       "      <td>...</td>\n",
       "      <td>4.075286e+09</td>\n",
       "      <td>3.714795e+09</td>\n",
       "      <td>3.519876e+09</td>\n",
       "      <td>1.710894e+08</td>\n",
       "      <td>1.685692e+08</td>\n",
       "      <td>2.034048e+08</td>\n",
       "      <td>1.826164e+08</td>\n",
       "      <td>1.879091e+08</td>\n",
       "      <td>2.347681e+08</td>\n",
       "      <td>-600.394108</td>\n",
       "    </tr>\n",
       "    <tr>\n",
       "      <th>BILL_AMT2</th>\n",
       "      <td>1.108392e+07</td>\n",
       "      <td>2.570130e+09</td>\n",
       "      <td>-1085.595467</td>\n",
       "      <td>1054.657595</td>\n",
       "      <td>-802.517866</td>\n",
       "      <td>35613.657962</td>\n",
       "      <td>15185.916919</td>\n",
       "      <td>20045.829482</td>\n",
       "      <td>20214.071495</td>\n",
       "      <td>18790.627741</td>\n",
       "      <td>...</td>\n",
       "      <td>4.086508e+09</td>\n",
       "      <td>3.720401e+09</td>\n",
       "      <td>3.524868e+09</td>\n",
       "      <td>3.305146e+08</td>\n",
       "      <td>1.653859e+08</td>\n",
       "      <td>1.888731e+08</td>\n",
       "      <td>1.643518e+08</td>\n",
       "      <td>1.717652e+08</td>\n",
       "      <td>2.204845e+08</td>\n",
       "      <td>-419.289137</td>\n",
       "    </tr>\n",
       "    <tr>\n",
       "      <th>BILL_AMT3</th>\n",
       "      <td>1.462688e+07</td>\n",
       "      <td>2.548533e+09</td>\n",
       "      <td>-833.207432</td>\n",
       "      <td>712.664124</td>\n",
       "      <td>-901.679085</td>\n",
       "      <td>34334.251320</td>\n",
       "      <td>14011.556537</td>\n",
       "      <td>18609.510991</td>\n",
       "      <td>18882.491544</td>\n",
       "      <td>19862.999426</td>\n",
       "      <td>...</td>\n",
       "      <td>4.122238e+09</td>\n",
       "      <td>3.726780e+09</td>\n",
       "      <td>3.524247e+09</td>\n",
       "      <td>2.806565e+08</td>\n",
       "      <td>5.064226e+08</td>\n",
       "      <td>1.587478e+08</td>\n",
       "      <td>1.558003e+08</td>\n",
       "      <td>1.904126e+08</td>\n",
       "      <td>2.247817e+08</td>\n",
       "      <td>-405.153680</td>\n",
       "    </tr>\n",
       "    <tr>\n",
       "      <th>BILL_AMT4</th>\n",
       "      <td>2.248126e+07</td>\n",
       "      <td>2.453926e+09</td>\n",
       "      <td>-688.489572</td>\n",
       "      <td>-22.948827</td>\n",
       "      <td>-783.881599</td>\n",
       "      <td>30453.108180</td>\n",
       "      <td>12950.248389</td>\n",
       "      <td>17116.298983</td>\n",
       "      <td>17494.100555</td>\n",
       "      <td>18496.423186</td>\n",
       "      <td>...</td>\n",
       "      <td>4.138716e+09</td>\n",
       "      <td>3.677105e+09</td>\n",
       "      <td>3.451762e+09</td>\n",
       "      <td>2.482888e+08</td>\n",
       "      <td>3.076686e+08</td>\n",
       "      <td>3.398374e+08</td>\n",
       "      <td>1.312133e+08</td>\n",
       "      <td>1.576892e+08</td>\n",
       "      <td>2.031590e+08</td>\n",
       "      <td>-271.199885</td>\n",
       "    </tr>\n",
       "    <tr>\n",
       "      <th>BILL_AMT5</th>\n",
       "      <td>8.795803e+06</td>\n",
       "      <td>2.331481e+09</td>\n",
       "      <td>-505.694333</td>\n",
       "      <td>-363.577664</td>\n",
       "      <td>-805.840875</td>\n",
       "      <td>27654.067800</td>\n",
       "      <td>12341.668685</td>\n",
       "      <td>16110.952468</td>\n",
       "      <td>16382.947539</td>\n",
       "      <td>17265.551898</td>\n",
       "      <td>...</td>\n",
       "      <td>3.677105e+09</td>\n",
       "      <td>3.696294e+09</td>\n",
       "      <td>3.425914e+09</td>\n",
       "      <td>2.185501e+08</td>\n",
       "      <td>2.538936e+08</td>\n",
       "      <td>2.700805e+08</td>\n",
       "      <td>2.791830e+08</td>\n",
       "      <td>1.315051e+08</td>\n",
       "      <td>1.774537e+08</td>\n",
       "      <td>-170.597447</td>\n",
       "    </tr>\n",
       "    <tr>\n",
       "      <th>BILL_AMT6</th>\n",
       "      <td>8.628506e+06</td>\n",
       "      <td>2.243837e+09</td>\n",
       "      <td>-487.430160</td>\n",
       "      <td>-428.274232</td>\n",
       "      <td>-659.223347</td>\n",
       "      <td>26137.648547</td>\n",
       "      <td>11844.759724</td>\n",
       "      <td>15642.875812</td>\n",
       "      <td>15847.089648</td>\n",
       "      <td>16651.586314</td>\n",
       "      <td>...</td>\n",
       "      <td>3.451762e+09</td>\n",
       "      <td>3.425914e+09</td>\n",
       "      <td>3.546692e+09</td>\n",
       "      <td>1.972478e+08</td>\n",
       "      <td>2.369244e+08</td>\n",
       "      <td>2.451233e+08</td>\n",
       "      <td>2.334670e+08</td>\n",
       "      <td>2.799982e+08</td>\n",
       "      <td>1.222761e+08</td>\n",
       "      <td>-132.796294</td>\n",
       "    </tr>\n",
       "    <tr>\n",
       "      <th>PAY_AMT1</th>\n",
       "      <td>1.397501e+06</td>\n",
       "      <td>4.195711e+08</td>\n",
       "      <td>-1.964266</td>\n",
       "      <td>-490.330155</td>\n",
       "      <td>-51.691615</td>\n",
       "      <td>3992.041735</td>\n",
       "      <td>-1475.495089</td>\n",
       "      <td>-1600.240756</td>\n",
       "      <td>25.668468</td>\n",
       "      <td>-181.295613</td>\n",
       "      <td>...</td>\n",
       "      <td>2.482888e+08</td>\n",
       "      <td>2.185501e+08</td>\n",
       "      <td>1.972478e+08</td>\n",
       "      <td>2.743423e+08</td>\n",
       "      <td>1.089849e+08</td>\n",
       "      <td>7.354626e+07</td>\n",
       "      <td>5.178189e+07</td>\n",
       "      <td>3.756893e+07</td>\n",
       "      <td>5.469033e+07</td>\n",
       "      <td>-501.374552</td>\n",
       "    </tr>\n",
       "    <tr>\n",
       "      <th>PAY_AMT2</th>\n",
       "      <td>1.677383e+06</td>\n",
       "      <td>5.333504e+08</td>\n",
       "      <td>-15.675500</td>\n",
       "      <td>-547.005021</td>\n",
       "      <td>-97.327974</td>\n",
       "      <td>4626.861549</td>\n",
       "      <td>-1815.138407</td>\n",
       "      <td>-1627.192336</td>\n",
       "      <td>-1841.952825</td>\n",
       "      <td>-52.358166</td>\n",
       "      <td>...</td>\n",
       "      <td>3.076686e+08</td>\n",
       "      <td>2.538936e+08</td>\n",
       "      <td>2.369244e+08</td>\n",
       "      <td>1.089849e+08</td>\n",
       "      <td>5.308817e+08</td>\n",
       "      <td>9.929841e+07</td>\n",
       "      <td>6.501168e+07</td>\n",
       "      <td>6.368414e+07</td>\n",
       "      <td>6.456816e+07</td>\n",
       "      <td>-560.210740</td>\n",
       "    </tr>\n",
       "    <tr>\n",
       "      <th>PAY_AMT3</th>\n",
       "      <td>5.969803e+06</td>\n",
       "      <td>4.801180e+08</td>\n",
       "      <td>-74.034812</td>\n",
       "      <td>-555.834305</td>\n",
       "      <td>-32.546082</td>\n",
       "      <td>4746.824393</td>\n",
       "      <td>-1396.168258</td>\n",
       "      <td>-1178.331282</td>\n",
       "      <td>-1123.428782</td>\n",
       "      <td>-1425.205189</td>\n",
       "      <td>...</td>\n",
       "      <td>3.398374e+08</td>\n",
       "      <td>2.700805e+08</td>\n",
       "      <td>2.451233e+08</td>\n",
       "      <td>7.354626e+07</td>\n",
       "      <td>9.929841e+07</td>\n",
       "      <td>3.100051e+08</td>\n",
       "      <td>5.966970e+07</td>\n",
       "      <td>4.282921e+07</td>\n",
       "      <td>5.093879e+07</td>\n",
       "      <td>-411.076284</td>\n",
       "    </tr>\n",
       "    <tr>\n",
       "      <th>PAY_AMT4</th>\n",
       "      <td>1.057334e+06</td>\n",
       "      <td>4.131202e+08</td>\n",
       "      <td>-17.080110</td>\n",
       "      <td>-473.206951</td>\n",
       "      <td>-103.518204</td>\n",
       "      <td>3087.324192</td>\n",
       "      <td>-1126.847945</td>\n",
       "      <td>-878.843879</td>\n",
       "      <td>-863.762183</td>\n",
       "      <td>-796.035739</td>\n",
       "      <td>...</td>\n",
       "      <td>1.312133e+08</td>\n",
       "      <td>2.791830e+08</td>\n",
       "      <td>2.334670e+08</td>\n",
       "      <td>5.178189e+07</td>\n",
       "      <td>6.501168e+07</td>\n",
       "      <td>5.966970e+07</td>\n",
       "      <td>2.454286e+08</td>\n",
       "      <td>3.634098e+07</td>\n",
       "      <td>4.395747e+07</td>\n",
       "      <td>-369.515887</td>\n",
       "    </tr>\n",
       "    <tr>\n",
       "      <th>PAY_AMT5</th>\n",
       "      <td>8.629502e+04</td>\n",
       "      <td>4.305657e+08</td>\n",
       "      <td>-12.458809</td>\n",
       "      <td>-487.335947</td>\n",
       "      <td>-9.607709</td>\n",
       "      <td>3218.052172</td>\n",
       "      <td>-999.107730</td>\n",
       "      <td>-678.468530</td>\n",
       "      <td>-655.796002</td>\n",
       "      <td>-599.991629</td>\n",
       "      <td>...</td>\n",
       "      <td>1.576892e+08</td>\n",
       "      <td>1.315051e+08</td>\n",
       "      <td>2.799982e+08</td>\n",
       "      <td>3.756893e+07</td>\n",
       "      <td>6.368414e+07</td>\n",
       "      <td>4.282921e+07</td>\n",
       "      <td>3.634098e+07</td>\n",
       "      <td>2.334266e+08</td>\n",
       "      <td>4.207110e+07</td>\n",
       "      <td>-349.562530</td>\n",
       "    </tr>\n",
       "    <tr>\n",
       "      <th>PAY_AMT6</th>\n",
       "      <td>4.618460e+05</td>\n",
       "      <td>5.065153e+08</td>\n",
       "      <td>-24.051885</td>\n",
       "      <td>-522.673379</td>\n",
       "      <td>-61.623271</td>\n",
       "      <td>3191.903901</td>\n",
       "      <td>-1172.193614</td>\n",
       "      <td>-776.835035</td>\n",
       "      <td>-763.026041</td>\n",
       "      <td>-552.137338</td>\n",
       "      <td>...</td>\n",
       "      <td>2.031590e+08</td>\n",
       "      <td>1.774537e+08</td>\n",
       "      <td>1.222761e+08</td>\n",
       "      <td>5.469033e+07</td>\n",
       "      <td>6.456816e+07</td>\n",
       "      <td>5.093879e+07</td>\n",
       "      <td>4.395747e+07</td>\n",
       "      <td>4.207110e+07</td>\n",
       "      <td>3.160383e+08</td>\n",
       "      <td>-392.426415</td>\n",
       "    </tr>\n",
       "    <tr>\n",
       "      <th>default</th>\n",
       "      <td>-5.015171e+01</td>\n",
       "      <td>-8.267552e+03</td>\n",
       "      <td>-0.008113</td>\n",
       "      <td>0.009187</td>\n",
       "      <td>-0.005273</td>\n",
       "      <td>0.053143</td>\n",
       "      <td>0.151499</td>\n",
       "      <td>0.130960</td>\n",
       "      <td>0.116867</td>\n",
       "      <td>0.105115</td>\n",
       "      <td>...</td>\n",
       "      <td>-2.711999e+02</td>\n",
       "      <td>-1.705974e+02</td>\n",
       "      <td>-1.327963e+02</td>\n",
       "      <td>-5.013746e+02</td>\n",
       "      <td>-5.602107e+02</td>\n",
       "      <td>-4.110763e+02</td>\n",
       "      <td>-3.695159e+02</td>\n",
       "      <td>-3.495625e+02</td>\n",
       "      <td>-3.924264e+02</td>\n",
       "      <td>0.172276</td>\n",
       "    </tr>\n",
       "  </tbody>\n",
       "</table>\n",
       "<p>25 rows × 25 columns</p>\n",
       "</div>"
      ],
      "text/plain": [
       "                     ID     LIMIT_BAL          SEX     EDUCATION     MARRIAGE  \\\n",
       "ID         7.500250e+07  2.941664e+07    78.356379    268.154338  -131.452515   \n",
       "LIMIT_BAL  2.941664e+07  1.683446e+10  1571.050630 -22474.028945 -7323.669658   \n",
       "SEX        7.835638e+01  1.571051e+03     0.239247      0.005502    -0.008014   \n",
       "EDUCATION  2.681543e+02 -2.247403e+04     0.005502      0.624651    -0.059184   \n",
       "MARRIAGE  -1.314525e+02 -7.323670e+03    -0.008014     -0.059184     0.272452   \n",
       "AGE        1.491057e+03  1.730767e+05    -0.409726      1.275380    -1.992764   \n",
       "PAY_0     -2.975726e+02 -3.954593e+04    -0.031685      0.093584     0.011683   \n",
       "PAY_2     -1.162770e+02 -4.603765e+04    -0.041442      0.115025     0.015122   \n",
       "PAY_3     -1.916922e+02 -4.443225e+04    -0.038694      0.107861     0.020421   \n",
       "PAY_4     -2.769132e+01 -4.057181e+04    -0.034411      0.100528     0.020213   \n",
       "PAY_5     -2.178600e+02 -3.667056e+04    -0.030521      0.087340     0.021074   \n",
       "PAY_6     -2.018774e+02 -3.509308e+04    -0.024754      0.074816     0.020616   \n",
       "BILL_AMT1  1.236447e+07  2.727020e+09 -1211.694332   1372.377644  -902.154685   \n",
       "BILL_AMT2  1.108392e+07  2.570130e+09 -1085.595467   1054.657595  -802.517866   \n",
       "BILL_AMT3  1.462688e+07  2.548533e+09  -833.207432    712.664124  -901.679085   \n",
       "BILL_AMT4  2.248126e+07  2.453926e+09  -688.489572    -22.948827  -783.881599   \n",
       "BILL_AMT5  8.795803e+06  2.331481e+09  -505.694333   -363.577664  -805.840875   \n",
       "BILL_AMT6  8.628506e+06  2.243837e+09  -487.430160   -428.274232  -659.223347   \n",
       "PAY_AMT1   1.397501e+06  4.195711e+08    -1.964266   -490.330155   -51.691615   \n",
       "PAY_AMT2   1.677383e+06  5.333504e+08   -15.675500   -547.005021   -97.327974   \n",
       "PAY_AMT3   5.969803e+06  4.801180e+08   -74.034812   -555.834305   -32.546082   \n",
       "PAY_AMT4   1.057334e+06  4.131202e+08   -17.080110   -473.206951  -103.518204   \n",
       "PAY_AMT5   8.629502e+04  4.305657e+08   -12.458809   -487.335947    -9.607709   \n",
       "PAY_AMT6   4.618460e+05  5.065153e+08   -24.051885   -522.673379   -61.623271   \n",
       "default   -5.015171e+01 -8.267552e+03    -0.008113      0.009187    -0.005273   \n",
       "\n",
       "                     AGE         PAY_0         PAY_2         PAY_3  \\\n",
       "ID           1491.057019   -297.572636   -116.276959   -191.692156   \n",
       "LIMIT_BAL  173076.722569 -39545.930009 -46037.648360 -44432.253315   \n",
       "SEX            -0.409726     -0.031685     -0.041442     -0.038694   \n",
       "EDUCATION       1.275380      0.093584      0.115025      0.107861   \n",
       "MARRIAGE       -1.992764      0.011683      0.015122      0.020421   \n",
       "AGE            84.969755     -0.408639     -0.553408     -0.585263   \n",
       "PAY_0          -0.408639      1.262930      0.904330      0.772384   \n",
       "PAY_2          -0.553408      0.904330      1.433254      1.098371   \n",
       "PAY_3          -0.585263      0.772384      1.098371      1.432492   \n",
       "PAY_4          -0.535851      0.707972      0.926680      1.087761   \n",
       "PAY_5          -0.562245      0.648743      0.844886      0.931455   \n",
       "PAY_6          -0.517022      0.613292      0.792320      0.870815   \n",
       "BILL_AMT1   38172.933546  15480.304170  20706.614217  18373.210469   \n",
       "BILL_AMT2   35613.657962  15185.916919  20045.829482  20214.071495   \n",
       "BILL_AMT3   34334.251320  14011.556537  18609.510991  18882.491544   \n",
       "BILL_AMT4   30453.108180  12950.248389  17116.298983  17494.100555   \n",
       "BILL_AMT5   27654.067800  12341.668685  16110.952468  16382.947539   \n",
       "BILL_AMT6   26137.648547  11844.759724  15642.875812  15847.089648   \n",
       "PAY_AMT1     3992.041735  -1475.495089  -1600.240756     25.668468   \n",
       "PAY_AMT2     4626.861549  -1815.138407  -1627.192336  -1841.952825   \n",
       "PAY_AMT3     4746.824393  -1396.168258  -1178.331282  -1123.428782   \n",
       "PAY_AMT4     3087.324192  -1126.847945   -878.843879   -863.762183   \n",
       "PAY_AMT5     3218.052172   -999.107730   -678.468530   -655.796002   \n",
       "PAY_AMT6     3191.903901  -1172.193614   -776.835035   -763.026041   \n",
       "default         0.053143      0.151499      0.130960      0.116867   \n",
       "\n",
       "                  PAY_4     ...          BILL_AMT4     BILL_AMT5  \\\n",
       "ID           -27.691323     ...       2.248126e+07  8.795803e+06   \n",
       "LIMIT_BAL -40571.811859     ...       2.453926e+09  2.331481e+09   \n",
       "SEX           -0.034411     ...      -6.884896e+02 -5.056943e+02   \n",
       "EDUCATION      0.100528     ...      -2.294883e+01 -3.635777e+02   \n",
       "MARRIAGE       0.020213     ...      -7.838816e+02 -8.058409e+02   \n",
       "AGE           -0.535851     ...       3.045311e+04  2.765407e+04   \n",
       "PAY_0          0.707972     ...       1.295025e+04  1.234167e+04   \n",
       "PAY_2          0.926680     ...       1.711630e+04  1.611095e+04   \n",
       "PAY_3          1.087761     ...       1.749410e+04  1.638295e+04   \n",
       "PAY_4          1.366885     ...       1.849642e+04  1.726555e+04   \n",
       "PAY_5          1.086161     ...       1.982293e+04  1.858659e+04   \n",
       "PAY_6          0.963263     ...       1.970555e+04  2.033812e+04   \n",
       "BILL_AMT1  17460.198259     ...       4.075286e+09  3.714795e+09   \n",
       "BILL_AMT2  18790.627741     ...       4.086508e+09  3.720401e+09   \n",
       "BILL_AMT3  19862.999426     ...       4.122238e+09  3.726780e+09   \n",
       "BILL_AMT4  18496.423186     ...       4.138716e+09  3.677105e+09   \n",
       "BILL_AMT5  17265.551898     ...       3.677105e+09  3.696294e+09   \n",
       "BILL_AMT6  16651.586314     ...       3.451762e+09  3.425914e+09   \n",
       "PAY_AMT1    -181.295613     ...       2.482888e+08  2.185501e+08   \n",
       "PAY_AMT2     -52.358166     ...       3.076686e+08  2.538936e+08   \n",
       "PAY_AMT3   -1425.205189     ...       3.398374e+08  2.700805e+08   \n",
       "PAY_AMT4    -796.035739     ...       1.312133e+08  2.791830e+08   \n",
       "PAY_AMT5    -599.991629     ...       1.576892e+08  1.315051e+08   \n",
       "PAY_AMT6    -552.137338     ...       2.031590e+08  1.774537e+08   \n",
       "default        0.105115     ...      -2.711999e+02 -1.705974e+02   \n",
       "\n",
       "              BILL_AMT6      PAY_AMT1      PAY_AMT2      PAY_AMT3  \\\n",
       "ID         8.628506e+06  1.397501e+06  1.677383e+06  5.969803e+06   \n",
       "LIMIT_BAL  2.243837e+09  4.195711e+08  5.333504e+08  4.801180e+08   \n",
       "SEX       -4.874302e+02 -1.964266e+00 -1.567550e+01 -7.403481e+01   \n",
       "EDUCATION -4.282742e+02 -4.903302e+02 -5.470050e+02 -5.558343e+02   \n",
       "MARRIAGE  -6.592233e+02 -5.169161e+01 -9.732797e+01 -3.254608e+01   \n",
       "AGE        2.613765e+04  3.992042e+03  4.626862e+03  4.746824e+03   \n",
       "PAY_0      1.184476e+04 -1.475495e+03 -1.815138e+03 -1.396168e+03   \n",
       "PAY_2      1.564288e+04 -1.600241e+03 -1.627192e+03 -1.178331e+03   \n",
       "PAY_3      1.584709e+04  2.566847e+01 -1.841953e+03 -1.123429e+03   \n",
       "PAY_4      1.665159e+04 -1.812956e+02 -5.235817e+01 -1.425205e+03   \n",
       "PAY_5      1.771569e+04 -1.142817e+02 -8.332449e+01  1.808121e+02   \n",
       "PAY_6      1.952488e+04 -2.850067e+01 -1.383995e+02  1.181210e+02   \n",
       "BILL_AMT1  3.519876e+09  1.710894e+08  1.685692e+08  2.034048e+08   \n",
       "BILL_AMT2  3.524868e+09  3.305146e+08  1.653859e+08  1.888731e+08   \n",
       "BILL_AMT3  3.524247e+09  2.806565e+08  5.064226e+08  1.587478e+08   \n",
       "BILL_AMT4  3.451762e+09  2.482888e+08  3.076686e+08  3.398374e+08   \n",
       "BILL_AMT5  3.425914e+09  2.185501e+08  2.538936e+08  2.700805e+08   \n",
       "BILL_AMT6  3.546692e+09  1.972478e+08  2.369244e+08  2.451233e+08   \n",
       "PAY_AMT1   1.972478e+08  2.743423e+08  1.089849e+08  7.354626e+07   \n",
       "PAY_AMT2   2.369244e+08  1.089849e+08  5.308817e+08  9.929841e+07   \n",
       "PAY_AMT3   2.451233e+08  7.354626e+07  9.929841e+07  3.100051e+08   \n",
       "PAY_AMT4   2.334670e+08  5.178189e+07  6.501168e+07  5.966970e+07   \n",
       "PAY_AMT5   2.799982e+08  3.756893e+07  6.368414e+07  4.282921e+07   \n",
       "PAY_AMT6   1.222761e+08  5.469033e+07  6.456816e+07  5.093879e+07   \n",
       "default   -1.327963e+02 -5.013746e+02 -5.602107e+02 -4.110763e+02   \n",
       "\n",
       "               PAY_AMT4      PAY_AMT5      PAY_AMT6      default  \n",
       "ID         1.057334e+06  8.629502e+04  4.618460e+05   -50.151705  \n",
       "LIMIT_BAL  4.131202e+08  4.305657e+08  5.065153e+08 -8267.551759  \n",
       "SEX       -1.708011e+01 -1.245881e+01 -2.405188e+01    -0.008113  \n",
       "EDUCATION -4.732070e+02 -4.873359e+02 -5.226734e+02     0.009187  \n",
       "MARRIAGE  -1.035182e+02 -9.607709e+00 -6.162327e+01    -0.005273  \n",
       "AGE        3.087324e+03  3.218052e+03  3.191904e+03     0.053143  \n",
       "PAY_0     -1.126848e+03 -9.991077e+02 -1.172194e+03     0.151499  \n",
       "PAY_2     -8.788439e+02 -6.784685e+02 -7.768350e+02     0.130960  \n",
       "PAY_3     -8.637622e+02 -6.557960e+02 -7.630260e+02     0.116867  \n",
       "PAY_4     -7.960357e+02 -5.999916e+02 -5.521373e+02     0.105115  \n",
       "PAY_5     -1.034962e+03 -5.771610e+02 -4.638926e+02     0.096020  \n",
       "PAY_6      3.426237e+02 -8.158327e+02 -5.172163e+02     0.089194  \n",
       "BILL_AMT1  1.826164e+08  1.879091e+08  2.347681e+08  -600.394108  \n",
       "BILL_AMT2  1.643518e+08  1.717652e+08  2.204845e+08  -419.289137  \n",
       "BILL_AMT3  1.558003e+08  1.904126e+08  2.247817e+08  -405.153680  \n",
       "BILL_AMT4  1.312133e+08  1.576892e+08  2.031590e+08  -271.199885  \n",
       "BILL_AMT5  2.791830e+08  1.315051e+08  1.774537e+08  -170.597447  \n",
       "BILL_AMT6  2.334670e+08  2.799982e+08  1.222761e+08  -132.796294  \n",
       "PAY_AMT1   5.178189e+07  3.756893e+07  5.469033e+07  -501.374552  \n",
       "PAY_AMT2   6.501168e+07  6.368414e+07  6.456816e+07  -560.210740  \n",
       "PAY_AMT3   5.966970e+07  4.282921e+07  5.093879e+07  -411.076284  \n",
       "PAY_AMT4   2.454286e+08  3.634098e+07  4.395747e+07  -369.515887  \n",
       "PAY_AMT5   3.634098e+07  2.334266e+08  4.207110e+07  -349.562530  \n",
       "PAY_AMT6   4.395747e+07  4.207110e+07  3.160383e+08  -392.426415  \n",
       "default   -3.695159e+02 -3.495625e+02 -3.924264e+02     0.172276  \n",
       "\n",
       "[25 rows x 25 columns]"
      ]
     },
     "execution_count": 451,
     "metadata": {},
     "output_type": "execute_result"
    }
   ],
   "source": [
    "rawData.cov()"
   ]
  },
  {
   "cell_type": "raw",
   "metadata": {},
   "source": [
    "rawData.corr()"
   ]
  },
  {
   "cell_type": "code",
   "execution_count": 452,
   "metadata": {},
   "outputs": [],
   "source": [
    "covariance_matrix = np.cov(rawData, rowvar=0)"
   ]
  },
  {
   "cell_type": "code",
   "execution_count": 453,
   "metadata": {},
   "outputs": [
    {
     "data": {
      "text/plain": [
       "array([[ 7.50025000e+07,  2.94166409e+07,  7.83563785e+01,\n",
       "         2.68154338e+02, -1.31452515e+02,  1.49105702e+03,\n",
       "        -2.97572636e+02, -1.16276959e+02, -1.91692156e+02,\n",
       "        -2.76913230e+01, -2.17860029e+02, -2.01877379e+02,\n",
       "         1.23644654e+07,  1.10839192e+07,  1.46268798e+07,\n",
       "         2.24812643e+07,  8.79580299e+06,  8.62850636e+06,\n",
       "         1.39750097e+06,  1.67738345e+06,  5.96980287e+06,\n",
       "         1.05733431e+06,  8.62950175e+04,  4.61846047e+05,\n",
       "        -5.01517051e+01],\n",
       "       [ 2.94166409e+07,  1.68344557e+10,  1.57105063e+03,\n",
       "        -2.24740289e+04, -7.32366966e+03,  1.73076723e+05,\n",
       "        -3.95459300e+04, -4.60376484e+04, -4.44322533e+04,\n",
       "        -4.05718119e+04, -3.66705623e+04, -3.50930834e+04,\n",
       "         2.72701997e+09,  2.57013019e+09,  2.54853316e+09,\n",
       "         2.45392576e+09,  2.33148108e+09,  2.24383722e+09,\n",
       "         4.19571137e+08,  5.33350409e+08,  4.80117965e+08,\n",
       "         4.13120196e+08,  4.30565689e+08,  5.06515298e+08,\n",
       "        -8.26755176e+03],\n",
       "       [ 7.83563785e+01,  1.57105063e+03,  2.39247370e-01,\n",
       "         5.50181895e-03, -8.01390269e-03, -4.09726191e-01,\n",
       "        -3.16853762e-02, -4.14419858e-02, -3.86941431e-02,\n",
       "        -3.44106581e-02, -3.05205374e-02, -2.47540518e-02,\n",
       "        -1.21169433e+03, -1.08559547e+03, -8.33207432e+02,\n",
       "        -6.88489572e+02, -5.05694333e+02, -4.87430160e+02,\n",
       "        -1.96426601e+00, -1.56754996e+01, -7.40348121e+01,\n",
       "        -1.70801096e+01, -1.24588091e+01, -2.40518846e+01,\n",
       "        -8.11275043e-03],\n",
       "       [ 2.68154338e+02, -2.24740289e+04,  5.50181895e-03,\n",
       "         6.24651004e-01, -5.91844884e-02,  1.27537961e+00,\n",
       "         9.35837795e-02,  1.15024636e-01,  1.07861022e-01,\n",
       "         1.00528106e-01,  8.73403380e-02,  7.48162739e-02,\n",
       "         1.37237764e+03,  1.05465759e+03,  7.12664124e+02,\n",
       "        -2.29488267e+01, -3.63577664e+02, -4.28274232e+02,\n",
       "        -4.90330155e+02, -5.47005021e+02, -5.55834305e+02,\n",
       "        -4.73206951e+02, -4.87335947e+02, -5.22673379e+02,\n",
       "         9.18721291e-03],\n",
       "       [-1.31452515e+02, -7.32366966e+03, -8.01390269e-03,\n",
       "        -5.91844884e-02,  2.72452264e-01, -1.99276436e+00,\n",
       "         1.16832294e-02,  1.51218685e-02,  2.04209207e-02,\n",
       "         2.02125849e-02,  2.10742758e-02,  2.06157405e-02,\n",
       "        -9.02154685e+02, -8.02517866e+02, -9.01679085e+02,\n",
       "        -7.83881599e+02, -8.05840875e+02, -6.59223347e+02,\n",
       "        -5.16916150e+01, -9.73279745e+01, -3.25460820e+01,\n",
       "        -1.03518204e+02, -9.60770884e+00, -6.16232706e+01,\n",
       "        -5.27308244e-03],\n",
       "       [ 1.49105702e+03,  1.73076723e+05, -4.09726191e-01,\n",
       "         1.27537961e+00, -1.99276436e+00,  8.49697554e+01,\n",
       "        -4.08639105e-01, -5.53408064e-01, -5.85262742e-01,\n",
       "        -5.35850862e-01, -5.62245308e-01, -5.17021517e-01,\n",
       "         3.81729335e+04,  3.56136580e+04,  3.43342513e+04,\n",
       "         3.04531082e+04,  2.76540678e+04,  2.61376485e+04,\n",
       "         3.99204174e+03,  4.62686155e+03,  4.74682439e+03,\n",
       "         3.08732419e+03,  3.21805217e+03,  3.19190390e+03,\n",
       "         5.31425048e-02],\n",
       "       [-2.97572636e+02, -3.95459300e+04, -3.16853762e-02,\n",
       "         9.35837795e-02,  1.16832294e-02, -4.08639105e-01,\n",
       "         1.26292987e+00,  9.04329574e-01,  7.72383539e-01,\n",
       "         7.07971799e-01,  6.48742751e-01,  6.13292406e-01,\n",
       "         1.54803042e+04,  1.51859169e+04,  1.40115565e+04,\n",
       "         1.29502484e+04,  1.23416687e+04,  1.18447597e+04,\n",
       "        -1.47549509e+03, -1.81513841e+03, -1.39616826e+03,\n",
       "        -1.12684794e+03, -9.99107730e+02, -1.17219361e+03,\n",
       "         1.51499090e-01],\n",
       "       [-1.16276959e+02, -4.60376484e+04, -4.14419858e-02,\n",
       "         1.15024636e-01,  1.51218685e-02, -5.53408064e-01,\n",
       "         9.04329574e-01,  1.43325425e+00,  1.09837126e+00,\n",
       "         9.26679712e-01,  8.44886143e-01,  7.92320267e-01,\n",
       "         2.07066142e+04,  2.00458295e+04,  1.86095110e+04,\n",
       "         1.71162990e+04,  1.61109525e+04,  1.56428758e+04,\n",
       "        -1.60024076e+03, -1.62719234e+03, -1.17833128e+03,\n",
       "        -8.78843879e+02, -6.78468530e+02, -7.76835035e+02,\n",
       "         1.30960219e-01],\n",
       "       [-1.91692156e+02, -4.44322533e+04, -3.86941431e-02,\n",
       "         1.07861022e-01,  2.04209207e-02, -5.85262742e-01,\n",
       "         7.72383539e-01,  1.09837126e+00,  1.43249198e+00,\n",
       "         1.08776146e+00,  9.31455275e-01,  8.70814874e-01,\n",
       "         1.83732105e+04,  2.02140715e+04,  1.88824915e+04,\n",
       "         1.74941006e+04,  1.63829475e+04,  1.58470896e+04,\n",
       "         2.56684680e+01, -1.84195282e+03, -1.12342878e+03,\n",
       "        -8.63762183e+02, -6.55796002e+02, -7.63026041e+02,\n",
       "         1.16867336e-01],\n",
       "       [-2.76913230e+01, -4.05718119e+04, -3.44106581e-02,\n",
       "         1.00528106e-01,  2.02125849e-02, -5.35850862e-01,\n",
       "         7.07971799e-01,  9.26679712e-01,  1.08776146e+00,\n",
       "         1.36688512e+00,  1.08616141e+00,  9.63262709e-01,\n",
       "         1.74601983e+04,  1.87906277e+04,  1.98629994e+04,\n",
       "         1.84964232e+04,  1.72655519e+04,  1.66515863e+04,\n",
       "        -1.81295613e+02, -5.23581663e+01, -1.42520519e+03,\n",
       "        -7.96035739e+02, -5.99991629e+02, -5.52137338e+02,\n",
       "         1.05114970e-01],\n",
       "       [-2.17860029e+02, -3.66705623e+04, -3.05205374e-02,\n",
       "         8.73403380e-02,  2.10742758e-02, -5.62245308e-01,\n",
       "         6.48742751e-01,  8.44886143e-01,  9.31455275e-01,\n",
       "         1.08616141e+00,  1.28411370e+00,  1.06454466e+00,\n",
       "         1.72463775e+04,  1.83012853e+04,  1.91226633e+04,\n",
       "         1.98229255e+04,  1.85865903e+04,  1.77156901e+04,\n",
       "        -1.14281714e+02, -8.33244871e+01,  1.80812142e+02,\n",
       "        -1.03496197e+03, -5.77161017e+02, -4.63892613e+02,\n",
       "         9.60199740e-02],\n",
       "       [-2.01877379e+02, -3.50930834e+04, -2.47540518e-02,\n",
       "         7.48162739e-02,  2.06157405e-02, -5.17021517e-01,\n",
       "         6.13292406e-01,  7.92320267e-01,  8.70814874e-01,\n",
       "         9.63262709e-01,  1.06454466e+00,  1.32247154e+00,\n",
       "         1.75604249e+04,  1.85735272e+04,  1.92344225e+04,\n",
       "         1.97055516e+04,  2.03381203e+04,  1.95248803e+04,\n",
       "        -2.85006665e+01, -1.38399452e+02,  1.18121022e+02,\n",
       "         3.42623730e+02, -8.15832688e+02, -5.17216277e+02,\n",
       "         8.91942931e-02],\n",
       "       [ 1.23644654e+07,  2.72701997e+09, -1.21169433e+03,\n",
       "         1.37237764e+03, -9.02154685e+02,  3.81729335e+04,\n",
       "         1.54803042e+04,  2.07066142e+04,  1.83732105e+04,\n",
       "         1.74601983e+04,  1.72463775e+04,  1.75604249e+04,\n",
       "         5.42223996e+09,  4.98667047e+09,  4.55651116e+09,\n",
       "         4.07528591e+09,  3.71479509e+09,  3.51987629e+09,\n",
       "         1.71089378e+08,  1.68569162e+08,  2.03404765e+08,\n",
       "         1.82616402e+08,  1.87909135e+08,  2.34768108e+08,\n",
       "        -6.00394108e+02],\n",
       "       [ 1.10839192e+07,  2.57013019e+09, -1.08559547e+03,\n",
       "         1.05465759e+03, -8.02517866e+02,  3.56136580e+04,\n",
       "         1.51859169e+04,  2.00458295e+04,  2.02140715e+04,\n",
       "         1.87906277e+04,  1.83012853e+04,  1.85735272e+04,\n",
       "         4.98667047e+09,  5.06570536e+09,  4.58208591e+09,\n",
       "         4.08650847e+09,  3.72040063e+09,  3.52486754e+09,\n",
       "         3.30514613e+08,  1.65385917e+08,  1.88873078e+08,\n",
       "         1.64351780e+08,  1.71765195e+08,  2.20484451e+08,\n",
       "        -4.19289137e+02],\n",
       "       [ 1.46268798e+07,  2.54853316e+09, -8.33207432e+02,\n",
       "         7.12664124e+02, -9.01679085e+02,  3.43342513e+04,\n",
       "         1.40115565e+04,  1.86095110e+04,  1.88824915e+04,\n",
       "         1.98629994e+04,  1.91226633e+04,  1.92344225e+04,\n",
       "         4.55651116e+09,  4.58208591e+09,  4.80933754e+09,\n",
       "         4.12223814e+09,  3.72678029e+09,  3.52424685e+09,\n",
       "         2.80656488e+08,  5.06422569e+08,  1.58747812e+08,\n",
       "         1.55800296e+08,  1.90412629e+08,  2.24781727e+08,\n",
       "        -4.05153680e+02],\n",
       "       [ 2.24812643e+07,  2.45392576e+09, -6.88489572e+02,\n",
       "        -2.29488267e+01, -7.83881599e+02,  3.04531082e+04,\n",
       "         1.29502484e+04,  1.71162990e+04,  1.74941006e+04,\n",
       "         1.84964232e+04,  1.98229255e+04,  1.97055516e+04,\n",
       "         4.07528591e+09,  4.08650847e+09,  4.12223814e+09,\n",
       "         4.13871638e+09,  3.67710508e+09,  3.45176232e+09,\n",
       "         2.48288839e+08,  3.07668602e+08,  3.39837355e+08,\n",
       "         1.31213254e+08,  1.57689158e+08,  2.03159016e+08,\n",
       "        -2.71199885e+02],\n",
       "       [ 8.79580299e+06,  2.33148108e+09, -5.05694333e+02,\n",
       "        -3.63577664e+02, -8.05840875e+02,  2.76540678e+04,\n",
       "         1.23416687e+04,  1.61109525e+04,  1.63829475e+04,\n",
       "         1.72655519e+04,  1.85865903e+04,  2.03381203e+04,\n",
       "         3.71479509e+09,  3.72040063e+09,  3.72678029e+09,\n",
       "         3.67710508e+09,  3.69629415e+09,  3.42591404e+09,\n",
       "         2.18550112e+08,  2.53893598e+08,  2.70080541e+08,\n",
       "         2.79183012e+08,  1.31505075e+08,  1.77453732e+08,\n",
       "        -1.70597447e+02],\n",
       "       [ 8.62850636e+06,  2.24383722e+09, -4.87430160e+02,\n",
       "        -4.28274232e+02, -6.59223347e+02,  2.61376485e+04,\n",
       "         1.18447597e+04,  1.56428758e+04,  1.58470896e+04,\n",
       "         1.66515863e+04,  1.77156901e+04,  1.95248803e+04,\n",
       "         3.51987629e+09,  3.52486754e+09,  3.52424685e+09,\n",
       "         3.45176232e+09,  3.42591404e+09,  3.54669172e+09,\n",
       "         1.97247758e+08,  2.36924366e+08,  2.45123262e+08,\n",
       "         2.33466994e+08,  2.79998165e+08,  1.22276112e+08,\n",
       "        -1.32796294e+02],\n",
       "       [ 1.39750097e+06,  4.19571137e+08, -1.96426601e+00,\n",
       "        -4.90330155e+02, -5.16916150e+01,  3.99204174e+03,\n",
       "        -1.47549509e+03, -1.60024076e+03,  2.56684680e+01,\n",
       "        -1.81295613e+02, -1.14281714e+02, -2.85006665e+01,\n",
       "         1.71089378e+08,  3.30514613e+08,  2.80656488e+08,\n",
       "         2.48288839e+08,  2.18550112e+08,  1.97247758e+08,\n",
       "         2.74342256e+08,  1.08984873e+08,  7.35462595e+07,\n",
       "         5.17818898e+07,  3.75689349e+07,  5.46903310e+07,\n",
       "        -5.01374552e+02],\n",
       "       [ 1.67738345e+06,  5.33350409e+08, -1.56754996e+01,\n",
       "        -5.47005021e+02, -9.73279745e+01,  4.62686155e+03,\n",
       "        -1.81513841e+03, -1.62719234e+03, -1.84195282e+03,\n",
       "        -5.23581663e+01, -8.33244871e+01, -1.38399452e+02,\n",
       "         1.68569162e+08,  1.65385917e+08,  5.06422569e+08,\n",
       "         3.07668602e+08,  2.53893598e+08,  2.36924366e+08,\n",
       "         1.08984873e+08,  5.30881709e+08,  9.92984071e+07,\n",
       "         6.50116825e+07,  6.36841350e+07,  6.45681581e+07,\n",
       "        -5.60210740e+02],\n",
       "       [ 5.96980287e+06,  4.80117965e+08, -7.40348121e+01,\n",
       "        -5.55834305e+02, -3.25460820e+01,  4.74682439e+03,\n",
       "        -1.39616826e+03, -1.17833128e+03, -1.12342878e+03,\n",
       "        -1.42520519e+03,  1.80812142e+02,  1.18121022e+02,\n",
       "         2.03404765e+08,  1.88873078e+08,  1.58747812e+08,\n",
       "         3.39837355e+08,  2.70080541e+08,  2.45123262e+08,\n",
       "         7.35462595e+07,  9.92984071e+07,  3.10005092e+08,\n",
       "         5.96697009e+07,  4.28292135e+07,  5.09387948e+07,\n",
       "        -4.11076284e+02],\n",
       "       [ 1.05733431e+06,  4.13120196e+08, -1.70801096e+01,\n",
       "        -4.73206951e+02, -1.03518204e+02,  3.08732419e+03,\n",
       "        -1.12684794e+03, -8.78843879e+02, -8.63762183e+02,\n",
       "        -7.96035739e+02, -1.03496197e+03,  3.42623730e+02,\n",
       "         1.82616402e+08,  1.64351780e+08,  1.55800296e+08,\n",
       "         1.31213254e+08,  2.79183012e+08,  2.33466994e+08,\n",
       "         5.17818898e+07,  6.50116825e+07,  5.96697009e+07,\n",
       "         2.45428561e+08,  3.63409758e+07,  4.39574745e+07,\n",
       "        -3.69515887e+02],\n",
       "       [ 8.62950175e+04,  4.30565689e+08, -1.24588091e+01,\n",
       "        -4.87335947e+02, -9.60770884e+00,  3.21805217e+03,\n",
       "        -9.99107730e+02, -6.78468530e+02, -6.55796002e+02,\n",
       "        -5.99991629e+02, -5.77161017e+02, -8.15832688e+02,\n",
       "         1.87909135e+08,  1.71765195e+08,  1.90412629e+08,\n",
       "         1.57689158e+08,  1.31505075e+08,  2.79998165e+08,\n",
       "         3.75689349e+07,  6.36841350e+07,  4.28292135e+07,\n",
       "         3.63409758e+07,  2.33426624e+08,  4.20711049e+07,\n",
       "        -3.49562530e+02],\n",
       "       [ 4.61846047e+05,  5.06515298e+08, -2.40518846e+01,\n",
       "        -5.22673379e+02, -6.16232706e+01,  3.19190390e+03,\n",
       "        -1.17219361e+03, -7.76835035e+02, -7.63026041e+02,\n",
       "        -5.52137338e+02, -4.63892613e+02, -5.17216277e+02,\n",
       "         2.34768108e+08,  2.20484451e+08,  2.24781727e+08,\n",
       "         2.03159016e+08,  1.77453732e+08,  1.22276112e+08,\n",
       "         5.46903310e+07,  6.45681581e+07,  5.09387948e+07,\n",
       "         4.39574745e+07,  4.20711049e+07,  3.16038289e+08,\n",
       "        -3.92426415e+02],\n",
       "       [-5.01517051e+01, -8.26755176e+03, -8.11275043e-03,\n",
       "         9.18721291e-03, -5.27308244e-03,  5.31425048e-02,\n",
       "         1.51499090e-01,  1.30960219e-01,  1.16867336e-01,\n",
       "         1.05114970e-01,  9.60199740e-02,  8.91942931e-02,\n",
       "        -6.00394108e+02, -4.19289137e+02, -4.05153680e+02,\n",
       "        -2.71199885e+02, -1.70597447e+02, -1.32796294e+02,\n",
       "        -5.01374552e+02, -5.60210740e+02, -4.11076284e+02,\n",
       "        -3.69515887e+02, -3.49562530e+02, -3.92426415e+02,\n",
       "         1.72276303e-01]])"
      ]
     },
     "execution_count": 453,
     "metadata": {},
     "output_type": "execute_result"
    }
   ],
   "source": [
    "covariance_matrix"
   ]
  },
  {
   "cell_type": "code",
   "execution_count": 454,
   "metadata": {},
   "outputs": [],
   "source": [
    "import seaborn as sns"
   ]
  },
  {
   "cell_type": "code",
   "execution_count": 455,
   "metadata": {},
   "outputs": [],
   "source": [
    "#sns.pairplot(rawData, kind='reg')"
   ]
  },
  {
   "cell_type": "code",
   "execution_count": 456,
   "metadata": {},
   "outputs": [],
   "source": [
    "import seaborn as sns"
   ]
  },
  {
   "cell_type": "code",
   "execution_count": 457,
   "metadata": {},
   "outputs": [],
   "source": [
    "#sns.pairplot(rawData, kind='reg')"
   ]
  },
  {
   "cell_type": "code",
   "execution_count": 458,
   "metadata": {},
   "outputs": [],
   "source": [
    "# Covariance measures how much 2x variables change together"
   ]
  },
  {
   "cell_type": "code",
   "execution_count": 459,
   "metadata": {},
   "outputs": [],
   "source": [
    "# The Overall probability of default payment can be expressed as"
   ]
  },
  {
   "cell_type": "code",
   "execution_count": 460,
   "metadata": {},
   "outputs": [
    {
     "data": {
      "text/plain": [
       "0.2212"
      ]
     },
     "execution_count": 460,
     "metadata": {},
     "output_type": "execute_result"
    }
   ],
   "source": [
    "rawData.default.sum() / len(rawData.default)"
   ]
  },
  {
   "cell_type": "code",
   "execution_count": 461,
   "metadata": {},
   "outputs": [],
   "source": [
    "rawData = rawData.rename(columns={'default payment next month':'default'})"
   ]
  },
  {
   "cell_type": "code",
   "execution_count": 462,
   "metadata": {},
   "outputs": [
    {
     "name": "stdout",
     "output_type": "stream",
     "text": [
      "<class 'pandas.core.frame.DataFrame'>\n",
      "RangeIndex: 30000 entries, 0 to 29999\n",
      "Data columns (total 25 columns):\n",
      "ID           30000 non-null int64\n",
      "LIMIT_BAL    30000 non-null int64\n",
      "SEX          30000 non-null int64\n",
      "EDUCATION    30000 non-null int64\n",
      "MARRIAGE     30000 non-null int64\n",
      "AGE          30000 non-null int64\n",
      "PAY_0        30000 non-null int64\n",
      "PAY_2        30000 non-null int64\n",
      "PAY_3        30000 non-null int64\n",
      "PAY_4        30000 non-null int64\n",
      "PAY_5        30000 non-null int64\n",
      "PAY_6        30000 non-null int64\n",
      "BILL_AMT1    30000 non-null int64\n",
      "BILL_AMT2    30000 non-null int64\n",
      "BILL_AMT3    30000 non-null int64\n",
      "BILL_AMT4    30000 non-null int64\n",
      "BILL_AMT5    30000 non-null int64\n",
      "BILL_AMT6    30000 non-null int64\n",
      "PAY_AMT1     30000 non-null int64\n",
      "PAY_AMT2     30000 non-null int64\n",
      "PAY_AMT3     30000 non-null int64\n",
      "PAY_AMT4     30000 non-null int64\n",
      "PAY_AMT5     30000 non-null int64\n",
      "PAY_AMT6     30000 non-null int64\n",
      "default      30000 non-null int64\n",
      "dtypes: int64(25)\n",
      "memory usage: 5.7 MB\n"
     ]
    }
   ],
   "source": [
    "rawData.info()"
   ]
  },
  {
   "cell_type": "code",
   "execution_count": 463,
   "metadata": {},
   "outputs": [
    {
     "data": {
      "text/plain": [
       "0.2212"
      ]
     },
     "execution_count": 463,
     "metadata": {},
     "output_type": "execute_result"
    }
   ],
   "source": [
    "rawData.default.sum() / len(rawData.default)"
   ]
  },
  {
   "cell_type": "raw",
   "metadata": {},
   "source": [
    "# typo--> corr = rawData.drop('ID\", axis=1).corr()"
   ]
  },
  {
   "cell_type": "code",
   "execution_count": 464,
   "metadata": {},
   "outputs": [
    {
     "data": {
      "text/plain": [
       "<matplotlib.axes._subplots.AxesSubplot at 0x2b08e6ea710>"
      ]
     },
     "execution_count": 464,
     "metadata": {},
     "output_type": "execute_result"
    },
    {
     "data": {
      "image/png": "[encoded data removed]",
      "text/plain": [
       "<Figure size 720x720 with 2 Axes>"
      ]
     },
     "metadata": {},
     "output_type": "display_data"
    }
   ],
   "source": [
    "corr = rawData.drop('ID', axis=1).corr()\n",
    "f, ax = plt.subplots(figsize=(10, 10))\n",
    "cmap = sns.diverging_palette(220, 10, as_cmap=True)\n",
    "sns.heatmap(corr, cmap=cmap, vmin=0, vmax=1, center=0, square=True, linewidth=0.5)"
   ]
  },
  {
   "cell_type": "code",
   "execution_count": 465,
   "metadata": {},
   "outputs": [
    {
     "data": {
      "text/plain": [
       "<matplotlib.axes._subplots.AxesSubplot at 0x2b09e436198>"
      ]
     },
     "execution_count": 465,
     "metadata": {},
     "output_type": "execute_result"
    },
    {
     "data": {
      "image/png": "[encoded data removed]",
      "text/plain": [
       "<Figure size 720x720 with 2 Axes>"
      ]
     },
     "metadata": {},
     "output_type": "display_data"
    }
   ],
   "source": [
    "corrf = features.corr()\n",
    "f, ax = plt.subplots(figsize=(10, 10))\n",
    "cmap = sns.diverging_palette(220, 10, as_cmap=True)\n",
    "sns.heatmap(corrf, cmap=cmap, vmin=0, vmax=1, center=0, square=True, linewidth=0.5)"
   ]
  },
  {
   "cell_type": "code",
   "execution_count": 466,
   "metadata": {},
   "outputs": [],
   "source": [
    "# Now, working with Random Forest - Classification Algorithm"
   ]
  },
  {
   "cell_type": "code",
   "execution_count": 467,
   "metadata": {},
   "outputs": [],
   "source": [
    "# Part II - Classification Algoritms"
   ]
  },
  {
   "cell_type": "code",
   "execution_count": 468,
   "metadata": {},
   "outputs": [],
   "source": [
    "from sklearn.ensemble import RandomForestClassifier"
   ]
  },
  {
   "cell_type": "code",
   "execution_count": 469,
   "metadata": {},
   "outputs": [],
   "source": [
    "from sklearn.datasets import make_classification"
   ]
  },
  {
   "cell_type": "code",
   "execution_count": 470,
   "metadata": {},
   "outputs": [],
   "source": [
    "ClassifierRF = RandomForestClassifier(max_depth=2, random_state=0)"
   ]
  },
  {
   "cell_type": "code",
   "execution_count": 471,
   "metadata": {},
   "outputs": [
    {
     "data": {
      "text/plain": [
       "RandomForestClassifier(bootstrap=True, class_weight=None, criterion='gini',\n",
       "            max_depth=2, max_features='auto', max_leaf_nodes=None,\n",
       "            min_impurity_decrease=0.0, min_impurity_split=None,\n",
       "            min_samples_leaf=1, min_samples_split=2,\n",
       "            min_weight_fraction_leaf=0.0, n_estimators=10, n_jobs=1,\n",
       "            oob_score=False, random_state=0, verbose=0, warm_start=False)"
      ]
     },
     "execution_count": 471,
     "metadata": {},
     "output_type": "execute_result"
    }
   ],
   "source": [
    "ClassifierRF.fit(X_train, y_train)"
   ]
  },
  {
   "cell_type": "code",
   "execution_count": 472,
   "metadata": {},
   "outputs": [
    {
     "data": {
      "text/plain": [
       "array([0.80695907, 0.8104    , 0.80744099])"
      ]
     },
     "execution_count": 472,
     "metadata": {},
     "output_type": "execute_result"
    }
   ],
   "source": [
    "(cross_val_score(ClassifierRF, X_train, y_train))"
   ]
  },
  {
   "cell_type": "code",
   "execution_count": 473,
   "metadata": {},
   "outputs": [
    {
     "data": {
      "text/plain": [
       "0.8104"
      ]
     },
     "execution_count": 473,
     "metadata": {},
     "output_type": "execute_result"
    }
   ],
   "source": [
    "ClassifierRF.score(X_test, y_test)"
   ]
  },
  {
   "cell_type": "code",
   "execution_count": 474,
   "metadata": {},
   "outputs": [],
   "source": [
    "predictions_ClassifierRF = ClassifierRF.predict(X_test)"
   ]
  },
  {
   "cell_type": "code",
   "execution_count": 475,
   "metadata": {},
   "outputs": [],
   "source": [
    "from sklearn.metrics import cohen_kappa_score"
   ]
  },
  {
   "cell_type": "code",
   "execution_count": 476,
   "metadata": {},
   "outputs": [
    {
     "data": {
      "text/plain": [
       "0.2822942358099174"
      ]
     },
     "execution_count": 476,
     "metadata": {},
     "output_type": "execute_result"
    }
   ],
   "source": [
    "cohen_kappa_score(y_test, predictions_ClassifierRF)"
   ]
  },
  {
   "cell_type": "code",
   "execution_count": 477,
   "metadata": {},
   "outputs": [],
   "source": [
    "from sklearn.metrics import confusion_matrix"
   ]
  },
  {
   "cell_type": "code",
   "execution_count": 478,
   "metadata": {},
   "outputs": [
    {
     "data": {
      "text/plain": [
       "array([[5671,  168],\n",
       "       [1254,  407]], dtype=int64)"
      ]
     },
     "execution_count": 478,
     "metadata": {},
     "output_type": "execute_result"
    }
   ],
   "source": [
    "confusion_matrix(y_test, predictions_ClassifierRF)"
   ]
  },
  {
   "cell_type": "code",
   "execution_count": 479,
   "metadata": {},
   "outputs": [],
   "source": [
    "import matplotlib.pyplot as plt"
   ]
  },
  {
   "cell_type": "code",
   "execution_count": 480,
   "metadata": {},
   "outputs": [],
   "source": [
    "#AdaBoost Classifier"
   ]
  },
  {
   "cell_type": "code",
   "execution_count": 481,
   "metadata": {},
   "outputs": [],
   "source": [
    "from sklearn.model_selection import cross_val_score\n",
    "from sklearn.ensemble import AdaBoostClassifier"
   ]
  },
  {
   "cell_type": "code",
   "execution_count": 482,
   "metadata": {},
   "outputs": [],
   "source": [
    "ClassifierADA = AdaBoostClassifier(n_estimators=100)"
   ]
  },
  {
   "cell_type": "code",
   "execution_count": 483,
   "metadata": {},
   "outputs": [],
   "source": [
    "scores = cross_val_score(ClassifierADA, X_train, y_train, cv=5)"
   ]
  },
  {
   "cell_type": "code",
   "execution_count": 484,
   "metadata": {},
   "outputs": [
    {
     "data": {
      "text/plain": [
       "0.8168888888888889"
      ]
     },
     "execution_count": 484,
     "metadata": {},
     "output_type": "execute_result"
    }
   ],
   "source": [
    "scores.mean()"
   ]
  },
  {
   "cell_type": "code",
   "execution_count": 485,
   "metadata": {},
   "outputs": [
    {
     "data": {
      "text/plain": [
       "AdaBoostClassifier(algorithm='SAMME.R', base_estimator=None,\n",
       "          learning_rate=1.0, n_estimators=100, random_state=None)"
      ]
     },
     "execution_count": 485,
     "metadata": {},
     "output_type": "execute_result"
    }
   ],
   "source": [
    "ClassifierADA.fit(X_test, y_test)"
   ]
  },
  {
   "cell_type": "code",
   "execution_count": 486,
   "metadata": {},
   "outputs": [
    {
     "data": {
      "text/plain": [
       "0.8288"
      ]
     },
     "execution_count": 486,
     "metadata": {},
     "output_type": "execute_result"
    }
   ],
   "source": [
    "ClassifierADA.score(X_test, y_test)"
   ]
  },
  {
   "cell_type": "code",
   "execution_count": 487,
   "metadata": {},
   "outputs": [],
   "source": [
    "predictions_ClassifierADA = ClassifierADA.predict(X_test)"
   ]
  },
  {
   "cell_type": "code",
   "execution_count": 488,
   "metadata": {},
   "outputs": [
    {
     "data": {
      "text/plain": [
       "0.40818634988883373"
      ]
     },
     "execution_count": 488,
     "metadata": {},
     "output_type": "execute_result"
    }
   ],
   "source": [
    "cohen_kappa_score(y_test, predictions_ClassifierADA)"
   ]
  },
  {
   "cell_type": "code",
   "execution_count": 489,
   "metadata": {},
   "outputs": [
    {
     "data": {
      "text/plain": [
       "array([[5571,  268],\n",
       "       [1016,  645]], dtype=int64)"
      ]
     },
     "execution_count": 489,
     "metadata": {},
     "output_type": "execute_result"
    }
   ],
   "source": [
    "confusion_matrix(y_test, predictions_ClassifierADA)"
   ]
  },
  {
   "cell_type": "code",
   "execution_count": 490,
   "metadata": {},
   "outputs": [],
   "source": [
    "# Evaluation of the Gradient Boosting Tree Algorithm"
   ]
  },
  {
   "cell_type": "code",
   "execution_count": 491,
   "metadata": {},
   "outputs": [],
   "source": [
    "from sklearn.ensemble import GradientBoostingClassifier"
   ]
  },
  {
   "cell_type": "code",
   "execution_count": 492,
   "metadata": {},
   "outputs": [],
   "source": [
    "ClassifierGB = GradientBoostingClassifier(n_estimators=100, learning_rate=1.0, max_depth=1, random_state=0).fit(X_train, y_train)"
   ]
  },
  {
   "cell_type": "code",
   "execution_count": 493,
   "metadata": {},
   "outputs": [],
   "source": [
    "scores = cross_val_score(ClassifierGB, X_train, y_train, cv=5)"
   ]
  },
  {
   "cell_type": "code",
   "execution_count": 494,
   "metadata": {},
   "outputs": [
    {
     "data": {
      "text/plain": [
       "0.8161333333333334"
      ]
     },
     "execution_count": 494,
     "metadata": {},
     "output_type": "execute_result"
    }
   ],
   "source": [
    "scores.mean()"
   ]
  },
  {
   "cell_type": "code",
   "execution_count": 495,
   "metadata": {},
   "outputs": [
    {
     "data": {
      "text/plain": [
       "GradientBoostingClassifier(criterion='friedman_mse', init=None,\n",
       "              learning_rate=1.0, loss='deviance', max_depth=1,\n",
       "              max_features=None, max_leaf_nodes=None,\n",
       "              min_impurity_decrease=0.0, min_impurity_split=None,\n",
       "              min_samples_leaf=1, min_samples_split=2,\n",
       "              min_weight_fraction_leaf=0.0, n_estimators=100,\n",
       "              presort='auto', random_state=0, subsample=1.0, verbose=0,\n",
       "              warm_start=False)"
      ]
     },
     "execution_count": 495,
     "metadata": {},
     "output_type": "execute_result"
    }
   ],
   "source": [
    "ClassifierGB.fit(X_test, y_test)"
   ]
  },
  {
   "cell_type": "code",
   "execution_count": 496,
   "metadata": {},
   "outputs": [
    {
     "data": {
      "text/plain": [
       "array([0.8157579 , 0.8152    , 0.81544206])"
      ]
     },
     "execution_count": 496,
     "metadata": {},
     "output_type": "execute_result"
    }
   ],
   "source": [
    "(cross_val_score(ClassifierGB, X_train, y_train))"
   ]
  },
  {
   "cell_type": "code",
   "execution_count": 497,
   "metadata": {},
   "outputs": [
    {
     "data": {
      "text/plain": [
       "0.8289333333333333"
      ]
     },
     "execution_count": 497,
     "metadata": {},
     "output_type": "execute_result"
    }
   ],
   "source": [
    "ClassifierGB.score(X_test, y_test)"
   ]
  },
  {
   "cell_type": "code",
   "execution_count": 498,
   "metadata": {},
   "outputs": [],
   "source": [
    "predictions_ClassifierGB = ClassifierGB.predict(X_test)"
   ]
  },
  {
   "cell_type": "code",
   "execution_count": 499,
   "metadata": {},
   "outputs": [
    {
     "data": {
      "text/plain": [
       "0.4103127520993418"
      ]
     },
     "execution_count": 499,
     "metadata": {},
     "output_type": "execute_result"
    }
   ],
   "source": [
    "cohen_kappa_score(y_test, predictions_ClassifierGB)"
   ]
  },
  {
   "cell_type": "code",
   "execution_count": 500,
   "metadata": {},
   "outputs": [
    {
     "data": {
      "text/plain": [
       "array([[5566,  273],\n",
       "       [1010,  651]], dtype=int64)"
      ]
     },
     "execution_count": 500,
     "metadata": {},
     "output_type": "execute_result"
    }
   ],
   "source": [
    "confusion_matrix(y_test, predictions_ClassifierGB)"
   ]
  },
  {
   "cell_type": "code",
   "execution_count": 501,
   "metadata": {},
   "outputs": [
    {
     "data": {
      "text/html": [
       "<div>\n",
       "<style scoped>\n",
       "    .dataframe tbody tr th:only-of-type {\n",
       "        vertical-align: middle;\n",
       "    }\n",
       "\n",
       "    .dataframe tbody tr th {\n",
       "        vertical-align: top;\n",
       "    }\n",
       "\n",
       "    .dataframe thead th {\n",
       "        text-align: right;\n",
       "    }\n",
       "</style>\n",
       "<table border=\"1\" class=\"dataframe\">\n",
       "  <thead>\n",
       "    <tr style=\"text-align: right;\">\n",
       "      <th></th>\n",
       "      <th>ID</th>\n",
       "      <th>LIMIT_BAL</th>\n",
       "      <th>SEX</th>\n",
       "      <th>EDUCATION</th>\n",
       "      <th>MARRIAGE</th>\n",
       "      <th>AGE</th>\n",
       "      <th>PAY_0</th>\n",
       "      <th>PAY_2</th>\n",
       "      <th>PAY_3</th>\n",
       "      <th>PAY_4</th>\n",
       "      <th>...</th>\n",
       "      <th>BILL_AMT4</th>\n",
       "      <th>BILL_AMT5</th>\n",
       "      <th>BILL_AMT6</th>\n",
       "      <th>PAY_AMT1</th>\n",
       "      <th>PAY_AMT2</th>\n",
       "      <th>PAY_AMT3</th>\n",
       "      <th>PAY_AMT4</th>\n",
       "      <th>PAY_AMT5</th>\n",
       "      <th>PAY_AMT6</th>\n",
       "      <th>default</th>\n",
       "    </tr>\n",
       "  </thead>\n",
       "  <tbody>\n",
       "    <tr>\n",
       "      <th>0</th>\n",
       "      <td>1</td>\n",
       "      <td>20000</td>\n",
       "      <td>2</td>\n",
       "      <td>2</td>\n",
       "      <td>1</td>\n",
       "      <td>24</td>\n",
       "      <td>2</td>\n",
       "      <td>2</td>\n",
       "      <td>-1</td>\n",
       "      <td>-1</td>\n",
       "      <td>...</td>\n",
       "      <td>0</td>\n",
       "      <td>0</td>\n",
       "      <td>0</td>\n",
       "      <td>0</td>\n",
       "      <td>689</td>\n",
       "      <td>0</td>\n",
       "      <td>0</td>\n",
       "      <td>0</td>\n",
       "      <td>0</td>\n",
       "      <td>1</td>\n",
       "    </tr>\n",
       "    <tr>\n",
       "      <th>1</th>\n",
       "      <td>2</td>\n",
       "      <td>120000</td>\n",
       "      <td>2</td>\n",
       "      <td>2</td>\n",
       "      <td>2</td>\n",
       "      <td>26</td>\n",
       "      <td>-1</td>\n",
       "      <td>2</td>\n",
       "      <td>0</td>\n",
       "      <td>0</td>\n",
       "      <td>...</td>\n",
       "      <td>3272</td>\n",
       "      <td>3455</td>\n",
       "      <td>3261</td>\n",
       "      <td>0</td>\n",
       "      <td>1000</td>\n",
       "      <td>1000</td>\n",
       "      <td>1000</td>\n",
       "      <td>0</td>\n",
       "      <td>2000</td>\n",
       "      <td>1</td>\n",
       "    </tr>\n",
       "    <tr>\n",
       "      <th>2</th>\n",
       "      <td>3</td>\n",
       "      <td>90000</td>\n",
       "      <td>2</td>\n",
       "      <td>2</td>\n",
       "      <td>2</td>\n",
       "      <td>34</td>\n",
       "      <td>0</td>\n",
       "      <td>0</td>\n",
       "      <td>0</td>\n",
       "      <td>0</td>\n",
       "      <td>...</td>\n",
       "      <td>14331</td>\n",
       "      <td>14948</td>\n",
       "      <td>15549</td>\n",
       "      <td>1518</td>\n",
       "      <td>1500</td>\n",
       "      <td>1000</td>\n",
       "      <td>1000</td>\n",
       "      <td>1000</td>\n",
       "      <td>5000</td>\n",
       "      <td>0</td>\n",
       "    </tr>\n",
       "    <tr>\n",
       "      <th>3</th>\n",
       "      <td>4</td>\n",
       "      <td>50000</td>\n",
       "      <td>2</td>\n",
       "      <td>2</td>\n",
       "      <td>1</td>\n",
       "      <td>37</td>\n",
       "      <td>0</td>\n",
       "      <td>0</td>\n",
       "      <td>0</td>\n",
       "      <td>0</td>\n",
       "      <td>...</td>\n",
       "      <td>28314</td>\n",
       "      <td>28959</td>\n",
       "      <td>29547</td>\n",
       "      <td>2000</td>\n",
       "      <td>2019</td>\n",
       "      <td>1200</td>\n",
       "      <td>1100</td>\n",
       "      <td>1069</td>\n",
       "      <td>1000</td>\n",
       "      <td>0</td>\n",
       "    </tr>\n",
       "    <tr>\n",
       "      <th>4</th>\n",
       "      <td>5</td>\n",
       "      <td>50000</td>\n",
       "      <td>1</td>\n",
       "      <td>2</td>\n",
       "      <td>1</td>\n",
       "      <td>57</td>\n",
       "      <td>-1</td>\n",
       "      <td>0</td>\n",
       "      <td>-1</td>\n",
       "      <td>0</td>\n",
       "      <td>...</td>\n",
       "      <td>20940</td>\n",
       "      <td>19146</td>\n",
       "      <td>19131</td>\n",
       "      <td>2000</td>\n",
       "      <td>36681</td>\n",
       "      <td>10000</td>\n",
       "      <td>9000</td>\n",
       "      <td>689</td>\n",
       "      <td>679</td>\n",
       "      <td>0</td>\n",
       "    </tr>\n",
       "  </tbody>\n",
       "</table>\n",
       "<p>5 rows × 25 columns</p>\n",
       "</div>"
      ],
      "text/plain": [
       "   ID  LIMIT_BAL  SEX  EDUCATION  MARRIAGE  AGE  PAY_0  PAY_2  PAY_3  PAY_4  \\\n",
       "0   1      20000    2          2         1   24      2      2     -1     -1   \n",
       "1   2     120000    2          2         2   26     -1      2      0      0   \n",
       "2   3      90000    2          2         2   34      0      0      0      0   \n",
       "3   4      50000    2          2         1   37      0      0      0      0   \n",
       "4   5      50000    1          2         1   57     -1      0     -1      0   \n",
       "\n",
       "    ...     BILL_AMT4  BILL_AMT5  BILL_AMT6  PAY_AMT1  PAY_AMT2  PAY_AMT3  \\\n",
       "0   ...             0          0          0         0       689         0   \n",
       "1   ...          3272       3455       3261         0      1000      1000   \n",
       "2   ...         14331      14948      15549      1518      1500      1000   \n",
       "3   ...         28314      28959      29547      2000      2019      1200   \n",
       "4   ...         20940      19146      19131      2000     36681     10000   \n",
       "\n",
       "   PAY_AMT4  PAY_AMT5  PAY_AMT6  default  \n",
       "0         0         0         0        1  \n",
       "1      1000         0      2000        1  \n",
       "2      1000      1000      5000        0  \n",
       "3      1100      1069      1000        0  \n",
       "4      9000       689       679        0  \n",
       "\n",
       "[5 rows x 25 columns]"
      ]
     },
     "execution_count": 501,
     "metadata": {},
     "output_type": "execute_result"
    }
   ],
   "source": [
    "rawData.head()"
   ]
  },
  {
   "cell_type": "code",
   "execution_count": 502,
   "metadata": {},
   "outputs": [
    {
     "data": {
      "text/html": [
       "<div>\n",
       "<style scoped>\n",
       "    .dataframe tbody tr th:only-of-type {\n",
       "        vertical-align: middle;\n",
       "    }\n",
       "\n",
       "    .dataframe tbody tr th {\n",
       "        vertical-align: top;\n",
       "    }\n",
       "\n",
       "    .dataframe thead th {\n",
       "        text-align: right;\n",
       "    }\n",
       "</style>\n",
       "<table border=\"1\" class=\"dataframe\">\n",
       "  <thead>\n",
       "    <tr style=\"text-align: right;\">\n",
       "      <th></th>\n",
       "      <th>LIMIT_BAL</th>\n",
       "      <th>SEX</th>\n",
       "      <th>EDUCATION</th>\n",
       "      <th>MARRIAGE</th>\n",
       "      <th>AGE</th>\n",
       "      <th>PAY_0</th>\n",
       "      <th>PAY_2</th>\n",
       "      <th>PAY_3</th>\n",
       "      <th>PAY_4</th>\n",
       "      <th>PAY_5</th>\n",
       "      <th>...</th>\n",
       "      <th>BILL_AMT3</th>\n",
       "      <th>BILL_AMT4</th>\n",
       "      <th>BILL_AMT5</th>\n",
       "      <th>BILL_AMT6</th>\n",
       "      <th>PAY_AMT1</th>\n",
       "      <th>PAY_AMT2</th>\n",
       "      <th>PAY_AMT3</th>\n",
       "      <th>PAY_AMT4</th>\n",
       "      <th>PAY_AMT5</th>\n",
       "      <th>PAY_AMT6</th>\n",
       "    </tr>\n",
       "  </thead>\n",
       "  <tbody>\n",
       "    <tr>\n",
       "      <th>0</th>\n",
       "      <td>20000</td>\n",
       "      <td>2</td>\n",
       "      <td>2</td>\n",
       "      <td>1</td>\n",
       "      <td>24</td>\n",
       "      <td>2</td>\n",
       "      <td>2</td>\n",
       "      <td>-1</td>\n",
       "      <td>-1</td>\n",
       "      <td>-2</td>\n",
       "      <td>...</td>\n",
       "      <td>689</td>\n",
       "      <td>0</td>\n",
       "      <td>0</td>\n",
       "      <td>0</td>\n",
       "      <td>0</td>\n",
       "      <td>689</td>\n",
       "      <td>0</td>\n",
       "      <td>0</td>\n",
       "      <td>0</td>\n",
       "      <td>0</td>\n",
       "    </tr>\n",
       "    <tr>\n",
       "      <th>1</th>\n",
       "      <td>120000</td>\n",
       "      <td>2</td>\n",
       "      <td>2</td>\n",
       "      <td>2</td>\n",
       "      <td>26</td>\n",
       "      <td>-1</td>\n",
       "      <td>2</td>\n",
       "      <td>0</td>\n",
       "      <td>0</td>\n",
       "      <td>0</td>\n",
       "      <td>...</td>\n",
       "      <td>2682</td>\n",
       "      <td>3272</td>\n",
       "      <td>3455</td>\n",
       "      <td>3261</td>\n",
       "      <td>0</td>\n",
       "      <td>1000</td>\n",
       "      <td>1000</td>\n",
       "      <td>1000</td>\n",
       "      <td>0</td>\n",
       "      <td>2000</td>\n",
       "    </tr>\n",
       "    <tr>\n",
       "      <th>2</th>\n",
       "      <td>90000</td>\n",
       "      <td>2</td>\n",
       "      <td>2</td>\n",
       "      <td>2</td>\n",
       "      <td>34</td>\n",
       "      <td>0</td>\n",
       "      <td>0</td>\n",
       "      <td>0</td>\n",
       "      <td>0</td>\n",
       "      <td>0</td>\n",
       "      <td>...</td>\n",
       "      <td>13559</td>\n",
       "      <td>14331</td>\n",
       "      <td>14948</td>\n",
       "      <td>15549</td>\n",
       "      <td>1518</td>\n",
       "      <td>1500</td>\n",
       "      <td>1000</td>\n",
       "      <td>1000</td>\n",
       "      <td>1000</td>\n",
       "      <td>5000</td>\n",
       "    </tr>\n",
       "    <tr>\n",
       "      <th>3</th>\n",
       "      <td>50000</td>\n",
       "      <td>2</td>\n",
       "      <td>2</td>\n",
       "      <td>1</td>\n",
       "      <td>37</td>\n",
       "      <td>0</td>\n",
       "      <td>0</td>\n",
       "      <td>0</td>\n",
       "      <td>0</td>\n",
       "      <td>0</td>\n",
       "      <td>...</td>\n",
       "      <td>49291</td>\n",
       "      <td>28314</td>\n",
       "      <td>28959</td>\n",
       "      <td>29547</td>\n",
       "      <td>2000</td>\n",
       "      <td>2019</td>\n",
       "      <td>1200</td>\n",
       "      <td>1100</td>\n",
       "      <td>1069</td>\n",
       "      <td>1000</td>\n",
       "    </tr>\n",
       "    <tr>\n",
       "      <th>4</th>\n",
       "      <td>50000</td>\n",
       "      <td>1</td>\n",
       "      <td>2</td>\n",
       "      <td>1</td>\n",
       "      <td>57</td>\n",
       "      <td>-1</td>\n",
       "      <td>0</td>\n",
       "      <td>-1</td>\n",
       "      <td>0</td>\n",
       "      <td>0</td>\n",
       "      <td>...</td>\n",
       "      <td>35835</td>\n",
       "      <td>20940</td>\n",
       "      <td>19146</td>\n",
       "      <td>19131</td>\n",
       "      <td>2000</td>\n",
       "      <td>36681</td>\n",
       "      <td>10000</td>\n",
       "      <td>9000</td>\n",
       "      <td>689</td>\n",
       "      <td>679</td>\n",
       "    </tr>\n",
       "  </tbody>\n",
       "</table>\n",
       "<p>5 rows × 23 columns</p>\n",
       "</div>"
      ],
      "text/plain": [
       "   LIMIT_BAL  SEX  EDUCATION  MARRIAGE  AGE  PAY_0  PAY_2  PAY_3  PAY_4  \\\n",
       "0      20000    2          2         1   24      2      2     -1     -1   \n",
       "1     120000    2          2         2   26     -1      2      0      0   \n",
       "2      90000    2          2         2   34      0      0      0      0   \n",
       "3      50000    2          2         1   37      0      0      0      0   \n",
       "4      50000    1          2         1   57     -1      0     -1      0   \n",
       "\n",
       "   PAY_5    ...     BILL_AMT3  BILL_AMT4  BILL_AMT5  BILL_AMT6  PAY_AMT1  \\\n",
       "0     -2    ...           689          0          0          0         0   \n",
       "1      0    ...          2682       3272       3455       3261         0   \n",
       "2      0    ...         13559      14331      14948      15549      1518   \n",
       "3      0    ...         49291      28314      28959      29547      2000   \n",
       "4      0    ...         35835      20940      19146      19131      2000   \n",
       "\n",
       "   PAY_AMT2  PAY_AMT3  PAY_AMT4  PAY_AMT5  PAY_AMT6  \n",
       "0       689         0         0         0         0  \n",
       "1      1000      1000      1000         0      2000  \n",
       "2      1500      1000      1000      1000      5000  \n",
       "3      2019      1200      1100      1069      1000  \n",
       "4     36681     10000      9000       689       679  \n",
       "\n",
       "[5 rows x 23 columns]"
      ]
     },
     "execution_count": 502,
     "metadata": {},
     "output_type": "execute_result"
    }
   ],
   "source": [
    "features.head()"
   ]
  },
  {
   "cell_type": "code",
   "execution_count": 503,
   "metadata": {},
   "outputs": [
    {
     "name": "stdout",
     "output_type": "stream",
     "text": [
      "<class 'pandas.core.frame.DataFrame'>\n",
      "RangeIndex: 30000 entries, 0 to 29999\n",
      "Data columns (total 25 columns):\n",
      "ID           30000 non-null int64\n",
      "LIMIT_BAL    30000 non-null int64\n",
      "SEX          30000 non-null int64\n",
      "EDUCATION    30000 non-null int64\n",
      "MARRIAGE     30000 non-null int64\n",
      "AGE          30000 non-null int64\n",
      "PAY_0        30000 non-null int64\n",
      "PAY_2        30000 non-null int64\n",
      "PAY_3        30000 non-null int64\n",
      "PAY_4        30000 non-null int64\n",
      "PAY_5        30000 non-null int64\n",
      "PAY_6        30000 non-null int64\n",
      "BILL_AMT1    30000 non-null int64\n",
      "BILL_AMT2    30000 non-null int64\n",
      "BILL_AMT3    30000 non-null int64\n",
      "BILL_AMT4    30000 non-null int64\n",
      "BILL_AMT5    30000 non-null int64\n",
      "BILL_AMT6    30000 non-null int64\n",
      "PAY_AMT1     30000 non-null int64\n",
      "PAY_AMT2     30000 non-null int64\n",
      "PAY_AMT3     30000 non-null int64\n",
      "PAY_AMT4     30000 non-null int64\n",
      "PAY_AMT5     30000 non-null int64\n",
      "PAY_AMT6     30000 non-null int64\n",
      "default      30000 non-null int64\n",
      "dtypes: int64(25)\n",
      "memory usage: 5.7 MB\n"
     ]
    }
   ],
   "source": [
    "rawData.info()"
   ]
  },
  {
   "cell_type": "code",
   "execution_count": 504,
   "metadata": {},
   "outputs": [
    {
     "name": "stdout",
     "output_type": "stream",
     "text": [
      "<class 'pandas.core.frame.DataFrame'>\n",
      "RangeIndex: 30000 entries, 0 to 29999\n",
      "Data columns (total 23 columns):\n",
      "LIMIT_BAL    30000 non-null int64\n",
      "SEX          30000 non-null int64\n",
      "EDUCATION    30000 non-null int64\n",
      "MARRIAGE     30000 non-null int64\n",
      "AGE          30000 non-null int64\n",
      "PAY_0        30000 non-null int64\n",
      "PAY_2        30000 non-null int64\n",
      "PAY_3        30000 non-null int64\n",
      "PAY_4        30000 non-null int64\n",
      "PAY_5        30000 non-null int64\n",
      "PAY_6        30000 non-null int64\n",
      "BILL_AMT1    30000 non-null int64\n",
      "BILL_AMT2    30000 non-null int64\n",
      "BILL_AMT3    30000 non-null int64\n",
      "BILL_AMT4    30000 non-null int64\n",
      "BILL_AMT5    30000 non-null int64\n",
      "BILL_AMT6    30000 non-null int64\n",
      "PAY_AMT1     30000 non-null int64\n",
      "PAY_AMT2     30000 non-null int64\n",
      "PAY_AMT3     30000 non-null int64\n",
      "PAY_AMT4     30000 non-null int64\n",
      "PAY_AMT5     30000 non-null int64\n",
      "PAY_AMT6     30000 non-null int64\n",
      "dtypes: int64(23)\n",
      "memory usage: 5.3 MB\n"
     ]
    }
   ],
   "source": [
    "features.info()"
   ]
  },
  {
   "cell_type": "code",
   "execution_count": 506,
   "metadata": {},
   "outputs": [],
   "source": [
    "#Just double checking if there are missing values"
   ]
  },
  {
   "cell_type": "code",
   "execution_count": 507,
   "metadata": {},
   "outputs": [
    {
     "data": {
      "text/plain": [
       "LIMIT_BAL    False\n",
       "SEX          False\n",
       "EDUCATION    False\n",
       "MARRIAGE     False\n",
       "AGE          False\n",
       "PAY_0        False\n",
       "PAY_2        False\n",
       "PAY_3        False\n",
       "PAY_4        False\n",
       "PAY_5        False\n",
       "PAY_6        False\n",
       "BILL_AMT1    False\n",
       "BILL_AMT2    False\n",
       "BILL_AMT3    False\n",
       "BILL_AMT4    False\n",
       "BILL_AMT5    False\n",
       "BILL_AMT6    False\n",
       "PAY_AMT1     False\n",
       "PAY_AMT2     False\n",
       "PAY_AMT3     False\n",
       "PAY_AMT4     False\n",
       "PAY_AMT5     False\n",
       "PAY_AMT6     False\n",
       "dtype: bool"
      ]
     },
     "execution_count": 507,
     "metadata": {},
     "output_type": "execute_result"
    }
   ],
   "source": [
    "features.isnull().any()"
   ]
  },
  {
   "cell_type": "code",
   "execution_count": 508,
   "metadata": {},
   "outputs": [],
   "source": [
    "# Know we will evaluate the K-Nearest Neighbor algorithm"
   ]
  },
  {
   "cell_type": "code",
   "execution_count": 509,
   "metadata": {},
   "outputs": [],
   "source": [
    "from sklearn.neighbors import KNeighborsClassifier "
   ]
  },
  {
   "cell_type": "code",
   "execution_count": 598,
   "metadata": {},
   "outputs": [],
   "source": [
    "ClassifierKNN = KNeighborsClassifier(n_neighbors=24)"
   ]
  },
  {
   "cell_type": "code",
   "execution_count": 599,
   "metadata": {},
   "outputs": [
    {
     "data": {
      "text/plain": [
       "KNeighborsClassifier(algorithm='auto', leaf_size=30, metric='minkowski',\n",
       "           metric_params=None, n_jobs=1, n_neighbors=24, p=2,\n",
       "           weights='uniform')"
      ]
     },
     "execution_count": 599,
     "metadata": {},
     "output_type": "execute_result"
    }
   ],
   "source": [
    "ClassifierKNN.fit(X_train, y_train)"
   ]
  },
  {
   "cell_type": "code",
   "execution_count": 600,
   "metadata": {},
   "outputs": [
    {
     "data": {
      "text/plain": [
       "0.7758666666666667"
      ]
     },
     "execution_count": 600,
     "metadata": {},
     "output_type": "execute_result"
    }
   ],
   "source": [
    "ClassifierKNN.score(X_test, y_test)"
   ]
  },
  {
   "cell_type": "code",
   "execution_count": 601,
   "metadata": {},
   "outputs": [],
   "source": [
    "predictions_ClassifierKNN = ClassifierKNN.predict(X_test)"
   ]
  },
  {
   "cell_type": "code",
   "execution_count": 602,
   "metadata": {},
   "outputs": [
    {
     "data": {
      "text/plain": [
       "0.06567121527735575"
      ]
     },
     "execution_count": 602,
     "metadata": {},
     "output_type": "execute_result"
    }
   ],
   "source": [
    "cohen_kappa_score(y_test, predictions_ClassifierKNN)"
   ]
  },
  {
   "cell_type": "code",
   "execution_count": 603,
   "metadata": {},
   "outputs": [
    {
     "data": {
      "text/plain": [
       "array([[5705,  134],\n",
       "       [1547,  114]], dtype=int64)"
      ]
     },
     "execution_count": 603,
     "metadata": {},
     "output_type": "execute_result"
    }
   ],
   "source": [
    "confusion_matrix(y_test, predictions_ClassifierKNN)"
   ]
  },
  {
   "cell_type": "code",
   "execution_count": 522,
   "metadata": {},
   "outputs": [],
   "source": [
    "# we can explore finding the optimal number of neighbors using GridSearchCV"
   ]
  },
  {
   "cell_type": "code",
   "execution_count": 523,
   "metadata": {},
   "outputs": [],
   "source": [
    "from sklearn.model_selection import GridSearchCV"
   ]
  },
  {
   "cell_type": "code",
   "execution_count": 524,
   "metadata": {},
   "outputs": [],
   "source": [
    "# we can initialize a grid with possible number of neighbots from 1 to 24"
   ]
  },
  {
   "cell_type": "code",
   "execution_count": 532,
   "metadata": {},
   "outputs": [],
   "source": [
    "grid = {'n_neighbors':np.arange(1,25)}"
   ]
  },
  {
   "cell_type": "code",
   "execution_count": 533,
   "metadata": {},
   "outputs": [],
   "source": [
    "knn_classifier = KNeighborsClassifier()"
   ]
  },
  {
   "cell_type": "code",
   "execution_count": 534,
   "metadata": {},
   "outputs": [],
   "source": [
    "# we can now use cross validation to find the optimal number of neighbors "
   ]
  },
  {
   "cell_type": "code",
   "execution_count": 535,
   "metadata": {},
   "outputs": [],
   "source": [
    "from sklearn.neighbors import KNeighborsClassifier"
   ]
  },
  {
   "cell_type": "code",
   "execution_count": 541,
   "metadata": {},
   "outputs": [],
   "source": [
    "knn = GridSearchCV(knn_classifier,grid, cv = 24)"
   ]
  },
  {
   "cell_type": "code",
   "execution_count": 542,
   "metadata": {},
   "outputs": [
    {
     "data": {
      "text/plain": [
       "GridSearchCV(cv=24, error_score='raise',\n",
       "       estimator=KNeighborsClassifier(algorithm='auto', leaf_size=30, metric='minkowski',\n",
       "           metric_params=None, n_jobs=1, n_neighbors=5, p=2,\n",
       "           weights='uniform'),\n",
       "       fit_params=None, iid=True, n_jobs=1,\n",
       "       param_grid={'n_neighbors': array([ 1,  2,  3,  4,  5,  6,  7,  8,  9, 10, 11, 12, 13, 14, 15, 16, 17,\n",
       "       18, 19, 20, 21, 22, 23, 24])},\n",
       "       pre_dispatch='2*n_jobs', refit=True, return_train_score='warn',\n",
       "       scoring=None, verbose=0)"
      ]
     },
     "execution_count": 542,
     "metadata": {},
     "output_type": "execute_result"
    }
   ],
   "source": [
    "knn.fit(X_train, y_train)"
   ]
  },
  {
   "cell_type": "code",
   "execution_count": 543,
   "metadata": {},
   "outputs": [],
   "source": [
    "# We can now extract the optimal number of neighbors"
   ]
  },
  {
   "cell_type": "code",
   "execution_count": 544,
   "metadata": {},
   "outputs": [
    {
     "data": {
      "text/plain": [
       "{'n_neighbors': 24}"
      ]
     },
     "execution_count": 544,
     "metadata": {},
     "output_type": "execute_result"
    }
   ],
   "source": [
    "knn.best_params_"
   ]
  },
  {
   "cell_type": "code",
   "execution_count": 540,
   "metadata": {},
   "outputs": [
    {
     "data": {
      "text/plain": [
       "0.7808"
      ]
     },
     "execution_count": 540,
     "metadata": {},
     "output_type": "execute_result"
    }
   ],
   "source": [
    "knn.best_score_"
   ]
  },
  {
   "cell_type": "code",
   "execution_count": 545,
   "metadata": {},
   "outputs": [
    {
     "data": {
      "text/plain": [
       "0.7758666666666667"
      ]
     },
     "execution_count": 545,
     "metadata": {},
     "output_type": "execute_result"
    }
   ],
   "source": [
    "knn.score(X_test, y_test)"
   ]
  },
  {
   "cell_type": "code",
   "execution_count": 546,
   "metadata": {},
   "outputs": [],
   "source": [
    "# Standardization"
   ]
  },
  {
   "cell_type": "code",
   "execution_count": 547,
   "metadata": {},
   "outputs": [],
   "source": [
    "from sklearn.preprocessing import StandardScaler"
   ]
  },
  {
   "cell_type": "code",
   "execution_count": 548,
   "metadata": {},
   "outputs": [],
   "source": [
    "from sklearn.pipeline import Pipeline"
   ]
  },
  {
   "cell_type": "code",
   "execution_count": 549,
   "metadata": {},
   "outputs": [],
   "source": [
    "# Now we configure the scaling pipeline"
   ]
  },
  {
   "cell_type": "code",
   "execution_count": 552,
   "metadata": {},
   "outputs": [],
   "source": [
    "pipeline_order = {('scaler', StandardScaler()), ('knn', KNeighborsClassifier(n_neighbors=1))}"
   ]
  },
  {
   "cell_type": "code",
   "execution_count": 553,
   "metadata": {},
   "outputs": [],
   "source": [
    "pipeline = Pipeline(pipeline_order)"
   ]
  },
  {
   "cell_type": "code",
   "execution_count": 554,
   "metadata": {},
   "outputs": [],
   "source": [
    "knn_classifier_scaled = pipeline.fit(X_train, y_train)"
   ]
  },
  {
   "cell_type": "code",
   "execution_count": 555,
   "metadata": {},
   "outputs": [
    {
     "data": {
      "text/plain": [
       "0.7294666666666667"
      ]
     },
     "execution_count": 555,
     "metadata": {},
     "output_type": "execute_result"
    }
   ],
   "source": [
    "knn_classifier_scaled.score(X_test, y_test)"
   ]
  },
  {
   "cell_type": "code",
   "execution_count": 556,
   "metadata": {},
   "outputs": [
    {
     "name": "stdout",
     "output_type": "stream",
     "text": [
      "0        1\n",
      "1        1\n",
      "2        0\n",
      "3        0\n",
      "4        0\n",
      "5        0\n",
      "6        0\n",
      "7        0\n",
      "8        0\n",
      "9        0\n",
      "10       0\n",
      "11       0\n",
      "12       0\n",
      "13       1\n",
      "14       0\n",
      "15       0\n",
      "16       1\n",
      "17       0\n",
      "18       0\n",
      "19       0\n",
      "20       0\n",
      "21       1\n",
      "22       1\n",
      "23       1\n",
      "24       0\n",
      "25       0\n",
      "26       1\n",
      "27       0\n",
      "28       0\n",
      "29       0\n",
      "        ..\n",
      "29970    0\n",
      "29971    0\n",
      "29972    0\n",
      "29973    1\n",
      "29974    1\n",
      "29975    0\n",
      "29976    1\n",
      "29977    0\n",
      "29978    0\n",
      "29979    0\n",
      "29980    0\n",
      "29981    0\n",
      "29982    1\n",
      "29983    0\n",
      "29984    0\n",
      "29985    0\n",
      "29986    0\n",
      "29987    0\n",
      "29988    0\n",
      "29989    0\n",
      "29990    0\n",
      "29991    1\n",
      "29992    0\n",
      "29993    0\n",
      "29994    1\n",
      "29995    0\n",
      "29996    0\n",
      "29997    1\n",
      "29998    1\n",
      "29999    1\n",
      "Name: default, Length: 30000, dtype: int64\n"
     ]
    }
   ],
   "source": [
    "print(depVar)"
   ]
  },
  {
   "cell_type": "code",
   "execution_count": 557,
   "metadata": {},
   "outputs": [
    {
     "data": {
      "image/png": "[encoded data removed]",
      "text/plain": [
       "<Figure size 432x288 with 1 Axes>"
      ]
     },
     "metadata": {},
     "output_type": "display_data"
    }
   ],
   "source": [
    "plt.scatter(y_test, predictions_ClassifierGB, color=['blue','green'], alpha = 0.5)\n",
    "plt.xlabel('Ground Truth')\n",
    "plt.ylabel('Predictions_GB')\n",
    "plt.show();"
   ]
  },
  {
   "cell_type": "code",
   "execution_count": 558,
   "metadata": {},
   "outputs": [
    {
     "data": {
      "image/png": "[encoded data removed]",
      "text/plain": [
       "<Figure size 432x288 with 1 Axes>"
      ]
     },
     "metadata": {},
     "output_type": "display_data"
    }
   ],
   "source": [
    "plt.scatter(y_test, predictions_ClassifierRF, color=['blue','green'], alpha = 0.5)\n",
    "plt.xlabel('Ground Truth')\n",
    "plt.ylabel('Predictions_RF')\n",
    "plt.show();"
   ]
  },
  {
   "cell_type": "code",
   "execution_count": 559,
   "metadata": {},
   "outputs": [
    {
     "data": {
      "image/png": "[encoded data removed]",
      "text/plain": [
       "<Figure size 432x288 with 1 Axes>"
      ]
     },
     "metadata": {},
     "output_type": "display_data"
    }
   ],
   "source": [
    "plt.scatter(y_test, predictions_ClassifierADA, color=['blue','green'], alpha = 0.5)\n",
    "plt.xlabel('Ground Truth')\n",
    "plt.ylabel('Predictions_ADA')\n",
    "plt.show();"
   ]
  },
  {
   "cell_type": "code",
   "execution_count": 560,
   "metadata": {},
   "outputs": [
    {
     "data": {
      "image/png": "[encoded data removed]",
      "text/plain": [
       "<Figure size 432x288 with 1 Axes>"
      ]
     },
     "metadata": {},
     "output_type": "display_data"
    }
   ],
   "source": [
    "plt.scatter(y_test, predictions_ClassifierKNN, color=['blue','green'], alpha = 0.5)\n",
    "plt.xlabel('Ground Truth')\n",
    "plt.ylabel('Predictions_KNN')\n",
    "plt.show();"
   ]
  },
  {
   "cell_type": "code",
   "execution_count": 563,
   "metadata": {},
   "outputs": [],
   "source": [
    "#Review - Summary"
   ]
  },
  {
   "cell_type": "code",
   "execution_count": 564,
   "metadata": {},
   "outputs": [
    {
     "name": "stdout",
     "output_type": "stream",
     "text": [
      "[0.12162468 0.11519447 0.10591448]\n"
     ]
    }
   ],
   "source": [
    "print(cross_val_score(modelRF, X_train, y_train)) "
   ]
  },
  {
   "cell_type": "code",
   "execution_count": 565,
   "metadata": {},
   "outputs": [
    {
     "name": "stdout",
     "output_type": "stream",
     "text": [
      "[-0.01969368 -0.02243776 -0.01672056]\n"
     ]
    }
   ],
   "source": [
    "print(cross_val_score(modelSVR, X_train, y_train)) "
   ]
  },
  {
   "cell_type": "code",
   "execution_count": 566,
   "metadata": {},
   "outputs": [
    {
     "name": "stdout",
     "output_type": "stream",
     "text": [
      "[0.12312245 0.11677973 0.11192274]\n"
     ]
    }
   ],
   "source": [
    "print(cross_val_score(modelLR, X_train, y_train)) "
   ]
  },
  {
   "cell_type": "code",
   "execution_count": 567,
   "metadata": {},
   "outputs": [
    {
     "name": "stdout",
     "output_type": "stream",
     "text": [
      "[0.40834555 0.36346667 0.39365249]\n"
     ]
    }
   ],
   "source": [
    "print(cross_val_score(modelNB, X_train, y_train)) "
   ]
  },
  {
   "cell_type": "code",
   "execution_count": 568,
   "metadata": {},
   "outputs": [
    {
     "name": "stdout",
     "output_type": "stream",
     "text": [
      "[0.80695907 0.8104     0.80744099]\n"
     ]
    }
   ],
   "source": [
    "print(cross_val_score(ClassifierRF, X_train, y_train)) "
   ]
  },
  {
   "cell_type": "code",
   "execution_count": 570,
   "metadata": {},
   "outputs": [
    {
     "name": "stdout",
     "output_type": "stream",
     "text": [
      "[0.81455806 0.81573333 0.81330844]\n"
     ]
    }
   ],
   "source": [
    "print(cross_val_score(ClassifierADA, X_train, y_train)) "
   ]
  },
  {
   "cell_type": "code",
   "execution_count": 572,
   "metadata": {},
   "outputs": [
    {
     "name": "stdout",
     "output_type": "stream",
     "text": [
      "[0.8157579  0.8152     0.81544206]\n"
     ]
    }
   ],
   "source": [
    "print(cross_val_score(ClassifierGB, X_train, y_train)) "
   ]
  },
  {
   "cell_type": "code",
   "execution_count": 573,
   "metadata": {},
   "outputs": [
    {
     "name": "stdout",
     "output_type": "stream",
     "text": [
      "[0.77589655 0.77706667 0.77583678]\n"
     ]
    }
   ],
   "source": [
    "print(cross_val_score(ClassifierKNN, X_train, y_train)) "
   ]
  },
  {
   "cell_type": "code",
   "execution_count": 580,
   "metadata": {},
   "outputs": [],
   "source": [
    "#We can evaluate the weight of the prediction by each variable - it seems that a tabular format is more effective than a graphical approach in this case"
   ]
  },
  {
   "cell_type": "code",
   "execution_count": null,
   "metadata": {},
   "outputs": [],
   "source": [
    "# We start with the Random Forest algorithm"
   ]
  },
  {
   "cell_type": "code",
   "execution_count": 579,
   "metadata": {},
   "outputs": [
    {
     "name": "stdout",
     "output_type": "stream",
     "text": [
      "-------------\n"
     ]
    }
   ],
   "source": [
    "print(\"-------------\")\n",
    "TP = np.sum(np.logical_and(predictions_ClassifierRF == 1, y_test == 1))\n",
    "TN = np.sum(np.logical_and(predictions_ClassifierRF == 0, y_test == 0))\n",
    "FP = np.sum(np.logical_and(predictions_ClassifierRF == 1, y_test == 0))\n",
    "FN = np.sum(np.logical_and(predictions_ClassifierRF == 0, y_test == 1))\n",
    "pred = len(predictions_ClassifierRF)"
   ]
  },
  {
   "cell_type": "code",
   "execution_count": 581,
   "metadata": {},
   "outputs": [
    {
     "name": "stdout",
     "output_type": "stream",
     "text": [
      "True Positives: 407\n",
      "False Positive: 168\n",
      "True Negative: 5671\n",
      "False Negative: 1254\n",
      "Precision: 0.71\n",
      "Recall: 0.25\n",
      "Problematic ratio: 0.75\n"
     ]
    }
   ],
   "source": [
    "print('True Positives: {}'.format(TP))\n",
    "print('False Positive: {}'.format(FP))\n",
    "print('True Negative: {}'.format(TN))\n",
    "print('False Negative: {}'.format(FN))\n",
    "print('Precision: {}'.format(round(TP/(TP+FP),2)))\n",
    "print('Recall: {}'.format(round(TP/(TP+FN),2)))\n",
    "print('Problematic ratio: {}'.format(round(FN/(FN+TP),2)))"
   ]
  },
  {
   "cell_type": "code",
   "execution_count": null,
   "metadata": {},
   "outputs": [],
   "source": []
  },
  {
   "cell_type": "code",
   "execution_count": 584,
   "metadata": {},
   "outputs": [
    {
     "data": {
      "text/html": [
       "<div>\n",
       "<style scoped>\n",
       "    .dataframe tbody tr th:only-of-type {\n",
       "        vertical-align: middle;\n",
       "    }\n",
       "\n",
       "    .dataframe tbody tr th {\n",
       "        vertical-align: top;\n",
       "    }\n",
       "\n",
       "    .dataframe thead th {\n",
       "        text-align: right;\n",
       "    }\n",
       "</style>\n",
       "<table border=\"1\" class=\"dataframe\">\n",
       "  <thead>\n",
       "    <tr style=\"text-align: right;\">\n",
       "      <th></th>\n",
       "      <th>feat</th>\n",
       "      <th>score</th>\n",
       "    </tr>\n",
       "  </thead>\n",
       "  <tbody>\n",
       "    <tr>\n",
       "      <th>5</th>\n",
       "      <td>(P, A, Y, _, 0)</td>\n",
       "      <td>0.372411</td>\n",
       "    </tr>\n",
       "    <tr>\n",
       "      <th>6</th>\n",
       "      <td>(P, A, Y, _, 2)</td>\n",
       "      <td>0.204750</td>\n",
       "    </tr>\n",
       "    <tr>\n",
       "      <th>8</th>\n",
       "      <td>(P, A, Y, _, 4)</td>\n",
       "      <td>0.169798</td>\n",
       "    </tr>\n",
       "    <tr>\n",
       "      <th>9</th>\n",
       "      <td>(P, A, Y, _, 5)</td>\n",
       "      <td>0.106391</td>\n",
       "    </tr>\n",
       "    <tr>\n",
       "      <th>10</th>\n",
       "      <td>(P, A, Y, _, 6)</td>\n",
       "      <td>0.079077</td>\n",
       "    </tr>\n",
       "    <tr>\n",
       "      <th>0</th>\n",
       "      <td>(L, I, M, I, T, _, B, A, L)</td>\n",
       "      <td>0.019086</td>\n",
       "    </tr>\n",
       "    <tr>\n",
       "      <th>7</th>\n",
       "      <td>(P, A, Y, _, 3)</td>\n",
       "      <td>0.015381</td>\n",
       "    </tr>\n",
       "    <tr>\n",
       "      <th>19</th>\n",
       "      <td>(P, A, Y, _, A, M, T, 3)</td>\n",
       "      <td>0.008637</td>\n",
       "    </tr>\n",
       "    <tr>\n",
       "      <th>18</th>\n",
       "      <td>(P, A, Y, _, A, M, T, 2)</td>\n",
       "      <td>0.006961</td>\n",
       "    </tr>\n",
       "    <tr>\n",
       "      <th>22</th>\n",
       "      <td>(P, A, Y, _, A, M, T, 6)</td>\n",
       "      <td>0.006447</td>\n",
       "    </tr>\n",
       "    <tr>\n",
       "      <th>2</th>\n",
       "      <td>(E, D, U, C, A, T, I, O, N)</td>\n",
       "      <td>0.004484</td>\n",
       "    </tr>\n",
       "    <tr>\n",
       "      <th>20</th>\n",
       "      <td>(P, A, Y, _, A, M, T, 4)</td>\n",
       "      <td>0.002367</td>\n",
       "    </tr>\n",
       "    <tr>\n",
       "      <th>17</th>\n",
       "      <td>(P, A, Y, _, A, M, T, 1)</td>\n",
       "      <td>0.001681</td>\n",
       "    </tr>\n",
       "    <tr>\n",
       "      <th>12</th>\n",
       "      <td>(B, I, L, L, _, A, M, T, 2)</td>\n",
       "      <td>0.001156</td>\n",
       "    </tr>\n",
       "    <tr>\n",
       "      <th>15</th>\n",
       "      <td>(B, I, L, L, _, A, M, T, 5)</td>\n",
       "      <td>0.001015</td>\n",
       "    </tr>\n",
       "    <tr>\n",
       "      <th>16</th>\n",
       "      <td>(B, I, L, L, _, A, M, T, 6)</td>\n",
       "      <td>0.000359</td>\n",
       "    </tr>\n",
       "    <tr>\n",
       "      <th>4</th>\n",
       "      <td>(A, G, E)</td>\n",
       "      <td>0.000000</td>\n",
       "    </tr>\n",
       "    <tr>\n",
       "      <th>1</th>\n",
       "      <td>(S, E, X)</td>\n",
       "      <td>0.000000</td>\n",
       "    </tr>\n",
       "    <tr>\n",
       "      <th>13</th>\n",
       "      <td>(B, I, L, L, _, A, M, T, 3)</td>\n",
       "      <td>0.000000</td>\n",
       "    </tr>\n",
       "    <tr>\n",
       "      <th>14</th>\n",
       "      <td>(B, I, L, L, _, A, M, T, 4)</td>\n",
       "      <td>0.000000</td>\n",
       "    </tr>\n",
       "    <tr>\n",
       "      <th>3</th>\n",
       "      <td>(M, A, R, R, I, A, G, E)</td>\n",
       "      <td>0.000000</td>\n",
       "    </tr>\n",
       "    <tr>\n",
       "      <th>21</th>\n",
       "      <td>(P, A, Y, _, A, M, T, 5)</td>\n",
       "      <td>0.000000</td>\n",
       "    </tr>\n",
       "    <tr>\n",
       "      <th>11</th>\n",
       "      <td>(B, I, L, L, _, A, M, T, 1)</td>\n",
       "      <td>0.000000</td>\n",
       "    </tr>\n",
       "  </tbody>\n",
       "</table>\n",
       "</div>"
      ],
      "text/plain": [
       "                           feat     score\n",
       "5               (P, A, Y, _, 0)  0.372411\n",
       "6               (P, A, Y, _, 2)  0.204750\n",
       "8               (P, A, Y, _, 4)  0.169798\n",
       "9               (P, A, Y, _, 5)  0.106391\n",
       "10              (P, A, Y, _, 6)  0.079077\n",
       "0   (L, I, M, I, T, _, B, A, L)  0.019086\n",
       "7               (P, A, Y, _, 3)  0.015381\n",
       "19     (P, A, Y, _, A, M, T, 3)  0.008637\n",
       "18     (P, A, Y, _, A, M, T, 2)  0.006961\n",
       "22     (P, A, Y, _, A, M, T, 6)  0.006447\n",
       "2   (E, D, U, C, A, T, I, O, N)  0.004484\n",
       "20     (P, A, Y, _, A, M, T, 4)  0.002367\n",
       "17     (P, A, Y, _, A, M, T, 1)  0.001681\n",
       "12  (B, I, L, L, _, A, M, T, 2)  0.001156\n",
       "15  (B, I, L, L, _, A, M, T, 5)  0.001015\n",
       "16  (B, I, L, L, _, A, M, T, 6)  0.000359\n",
       "4                     (A, G, E)  0.000000\n",
       "1                     (S, E, X)  0.000000\n",
       "13  (B, I, L, L, _, A, M, T, 3)  0.000000\n",
       "14  (B, I, L, L, _, A, M, T, 4)  0.000000\n",
       "3      (M, A, R, R, I, A, G, E)  0.000000\n",
       "21     (P, A, Y, _, A, M, T, 5)  0.000000\n",
       "11  (B, I, L, L, _, A, M, T, 1)  0.000000"
      ]
     },
     "execution_count": 584,
     "metadata": {},
     "output_type": "execute_result"
    }
   ],
   "source": [
    "def get_feature_importance(clsf, ftrs):\n",
    "    imp = clsf.feature_importances_.tolist()\n",
    "    feat = ftrs\n",
    "    result = pd.DataFrame({'feat':feat,'score':imp})\n",
    "    result = result.sort_values(by=['score'],ascending=False)\n",
    "    return result\n",
    "\n",
    "get_feature_importance(ClassifierRF, features)"
   ]
  },
  {
   "cell_type": "code",
   "execution_count": 585,
   "metadata": {},
   "outputs": [
    {
     "name": "stdout",
     "output_type": "stream",
     "text": [
      "                           feat     score\n",
      "5               (P, A, Y, _, 0)  0.372411\n",
      "6               (P, A, Y, _, 2)  0.204750\n",
      "8               (P, A, Y, _, 4)  0.169798\n",
      "9               (P, A, Y, _, 5)  0.106391\n",
      "10              (P, A, Y, _, 6)  0.079077\n",
      "0   (L, I, M, I, T, _, B, A, L)  0.019086\n",
      "7               (P, A, Y, _, 3)  0.015381\n",
      "19     (P, A, Y, _, A, M, T, 3)  0.008637\n",
      "18     (P, A, Y, _, A, M, T, 2)  0.006961\n",
      "22     (P, A, Y, _, A, M, T, 6)  0.006447\n",
      "2   (E, D, U, C, A, T, I, O, N)  0.004484\n",
      "20     (P, A, Y, _, A, M, T, 4)  0.002367\n",
      "17     (P, A, Y, _, A, M, T, 1)  0.001681\n",
      "12  (B, I, L, L, _, A, M, T, 2)  0.001156\n",
      "15  (B, I, L, L, _, A, M, T, 5)  0.001015\n",
      "16  (B, I, L, L, _, A, M, T, 6)  0.000359\n",
      "4                     (A, G, E)  0.000000\n",
      "1                     (S, E, X)  0.000000\n",
      "13  (B, I, L, L, _, A, M, T, 3)  0.000000\n",
      "14  (B, I, L, L, _, A, M, T, 4)  0.000000\n",
      "3      (M, A, R, R, I, A, G, E)  0.000000\n",
      "21     (P, A, Y, _, A, M, T, 5)  0.000000\n",
      "11  (B, I, L, L, _, A, M, T, 1)  0.000000\n"
     ]
    }
   ],
   "source": [
    "print(get_feature_importance(ClassifierRF, features))"
   ]
  },
  {
   "cell_type": "code",
   "execution_count": 586,
   "metadata": {},
   "outputs": [],
   "source": [
    "# Now, we can evaluate the Gradient Boost algorithm - variable = Classifier GB"
   ]
  },
  {
   "cell_type": "code",
   "execution_count": 587,
   "metadata": {},
   "outputs": [
    {
     "name": "stdout",
     "output_type": "stream",
     "text": [
      "-------------\n"
     ]
    }
   ],
   "source": [
    "print(\"-------------\")\n",
    "TP = np.sum(np.logical_and(predictions_ClassifierGB == 1, y_test == 1))\n",
    "TN = np.sum(np.logical_and(predictions_ClassifierGB == 0, y_test == 0))\n",
    "FP = np.sum(np.logical_and(predictions_ClassifierGB == 1, y_test == 0))\n",
    "FN = np.sum(np.logical_and(predictions_ClassifierGB == 0, y_test == 1))\n",
    "pred = len(predictions_ClassifierGB)"
   ]
  },
  {
   "cell_type": "code",
   "execution_count": 588,
   "metadata": {},
   "outputs": [
    {
     "name": "stdout",
     "output_type": "stream",
     "text": [
      "True Positives: 651\n",
      "False Positive: 273\n",
      "True Negative: 5566\n",
      "False Negative: 1010\n",
      "Precision: 0.7\n",
      "Recall: 0.39\n",
      "Problematic ratio: 0.61\n"
     ]
    }
   ],
   "source": [
    "print('True Positives: {}'.format(TP))\n",
    "print('False Positive: {}'.format(FP))\n",
    "print('True Negative: {}'.format(TN))\n",
    "print('False Negative: {}'.format(FN))\n",
    "print('Precision: {}'.format(round(TP/(TP+FP),2)))\n",
    "print('Recall: {}'.format(round(TP/(TP+FN),2)))\n",
    "print('Problematic ratio: {}'.format(round(FN/(FN+TP),2)))"
   ]
  },
  {
   "cell_type": "code",
   "execution_count": 589,
   "metadata": {},
   "outputs": [
    {
     "data": {
      "text/html": [
       "<div>\n",
       "<style scoped>\n",
       "    .dataframe tbody tr th:only-of-type {\n",
       "        vertical-align: middle;\n",
       "    }\n",
       "\n",
       "    .dataframe tbody tr th {\n",
       "        vertical-align: top;\n",
       "    }\n",
       "\n",
       "    .dataframe thead th {\n",
       "        text-align: right;\n",
       "    }\n",
       "</style>\n",
       "<table border=\"1\" class=\"dataframe\">\n",
       "  <thead>\n",
       "    <tr style=\"text-align: right;\">\n",
       "      <th></th>\n",
       "      <th>feat</th>\n",
       "      <th>score</th>\n",
       "    </tr>\n",
       "  </thead>\n",
       "  <tbody>\n",
       "    <tr>\n",
       "      <th>5</th>\n",
       "      <td>(P, A, Y, _, 0)</td>\n",
       "      <td>0.12</td>\n",
       "    </tr>\n",
       "    <tr>\n",
       "      <th>17</th>\n",
       "      <td>(P, A, Y, _, A, M, T, 1)</td>\n",
       "      <td>0.09</td>\n",
       "    </tr>\n",
       "    <tr>\n",
       "      <th>11</th>\n",
       "      <td>(B, I, L, L, _, A, M, T, 1)</td>\n",
       "      <td>0.08</td>\n",
       "    </tr>\n",
       "    <tr>\n",
       "      <th>14</th>\n",
       "      <td>(B, I, L, L, _, A, M, T, 4)</td>\n",
       "      <td>0.07</td>\n",
       "    </tr>\n",
       "    <tr>\n",
       "      <th>12</th>\n",
       "      <td>(B, I, L, L, _, A, M, T, 2)</td>\n",
       "      <td>0.07</td>\n",
       "    </tr>\n",
       "    <tr>\n",
       "      <th>19</th>\n",
       "      <td>(P, A, Y, _, A, M, T, 3)</td>\n",
       "      <td>0.06</td>\n",
       "    </tr>\n",
       "    <tr>\n",
       "      <th>4</th>\n",
       "      <td>(A, G, E)</td>\n",
       "      <td>0.06</td>\n",
       "    </tr>\n",
       "    <tr>\n",
       "      <th>6</th>\n",
       "      <td>(P, A, Y, _, 2)</td>\n",
       "      <td>0.05</td>\n",
       "    </tr>\n",
       "    <tr>\n",
       "      <th>7</th>\n",
       "      <td>(P, A, Y, _, 3)</td>\n",
       "      <td>0.05</td>\n",
       "    </tr>\n",
       "    <tr>\n",
       "      <th>18</th>\n",
       "      <td>(P, A, Y, _, A, M, T, 2)</td>\n",
       "      <td>0.04</td>\n",
       "    </tr>\n",
       "    <tr>\n",
       "      <th>16</th>\n",
       "      <td>(B, I, L, L, _, A, M, T, 6)</td>\n",
       "      <td>0.04</td>\n",
       "    </tr>\n",
       "    <tr>\n",
       "      <th>13</th>\n",
       "      <td>(B, I, L, L, _, A, M, T, 3)</td>\n",
       "      <td>0.04</td>\n",
       "    </tr>\n",
       "    <tr>\n",
       "      <th>21</th>\n",
       "      <td>(P, A, Y, _, A, M, T, 5)</td>\n",
       "      <td>0.03</td>\n",
       "    </tr>\n",
       "    <tr>\n",
       "      <th>15</th>\n",
       "      <td>(B, I, L, L, _, A, M, T, 5)</td>\n",
       "      <td>0.03</td>\n",
       "    </tr>\n",
       "    <tr>\n",
       "      <th>0</th>\n",
       "      <td>(L, I, M, I, T, _, B, A, L)</td>\n",
       "      <td>0.03</td>\n",
       "    </tr>\n",
       "    <tr>\n",
       "      <th>2</th>\n",
       "      <td>(E, D, U, C, A, T, I, O, N)</td>\n",
       "      <td>0.03</td>\n",
       "    </tr>\n",
       "    <tr>\n",
       "      <th>22</th>\n",
       "      <td>(P, A, Y, _, A, M, T, 6)</td>\n",
       "      <td>0.03</td>\n",
       "    </tr>\n",
       "    <tr>\n",
       "      <th>10</th>\n",
       "      <td>(P, A, Y, _, 6)</td>\n",
       "      <td>0.02</td>\n",
       "    </tr>\n",
       "    <tr>\n",
       "      <th>9</th>\n",
       "      <td>(P, A, Y, _, 5)</td>\n",
       "      <td>0.02</td>\n",
       "    </tr>\n",
       "    <tr>\n",
       "      <th>3</th>\n",
       "      <td>(M, A, R, R, I, A, G, E)</td>\n",
       "      <td>0.02</td>\n",
       "    </tr>\n",
       "    <tr>\n",
       "      <th>1</th>\n",
       "      <td>(S, E, X)</td>\n",
       "      <td>0.01</td>\n",
       "    </tr>\n",
       "    <tr>\n",
       "      <th>20</th>\n",
       "      <td>(P, A, Y, _, A, M, T, 4)</td>\n",
       "      <td>0.01</td>\n",
       "    </tr>\n",
       "    <tr>\n",
       "      <th>8</th>\n",
       "      <td>(P, A, Y, _, 4)</td>\n",
       "      <td>0.00</td>\n",
       "    </tr>\n",
       "  </tbody>\n",
       "</table>\n",
       "</div>"
      ],
      "text/plain": [
       "                           feat  score\n",
       "5               (P, A, Y, _, 0)   0.12\n",
       "17     (P, A, Y, _, A, M, T, 1)   0.09\n",
       "11  (B, I, L, L, _, A, M, T, 1)   0.08\n",
       "14  (B, I, L, L, _, A, M, T, 4)   0.07\n",
       "12  (B, I, L, L, _, A, M, T, 2)   0.07\n",
       "19     (P, A, Y, _, A, M, T, 3)   0.06\n",
       "4                     (A, G, E)   0.06\n",
       "6               (P, A, Y, _, 2)   0.05\n",
       "7               (P, A, Y, _, 3)   0.05\n",
       "18     (P, A, Y, _, A, M, T, 2)   0.04\n",
       "16  (B, I, L, L, _, A, M, T, 6)   0.04\n",
       "13  (B, I, L, L, _, A, M, T, 3)   0.04\n",
       "21     (P, A, Y, _, A, M, T, 5)   0.03\n",
       "15  (B, I, L, L, _, A, M, T, 5)   0.03\n",
       "0   (L, I, M, I, T, _, B, A, L)   0.03\n",
       "2   (E, D, U, C, A, T, I, O, N)   0.03\n",
       "22     (P, A, Y, _, A, M, T, 6)   0.03\n",
       "10              (P, A, Y, _, 6)   0.02\n",
       "9               (P, A, Y, _, 5)   0.02\n",
       "3      (M, A, R, R, I, A, G, E)   0.02\n",
       "1                     (S, E, X)   0.01\n",
       "20     (P, A, Y, _, A, M, T, 4)   0.01\n",
       "8               (P, A, Y, _, 4)   0.00"
      ]
     },
     "execution_count": 589,
     "metadata": {},
     "output_type": "execute_result"
    }
   ],
   "source": [
    "def get_feature_importance(clsf, ftrs):\n",
    "    imp = clsf.feature_importances_.tolist()\n",
    "    feat = ftrs\n",
    "    result = pd.DataFrame({'feat':feat,'score':imp})\n",
    "    result = result.sort_values(by=['score'],ascending=False)\n",
    "    return result\n",
    "\n",
    "get_feature_importance(ClassifierGB, features)"
   ]
  },
  {
   "cell_type": "code",
   "execution_count": 590,
   "metadata": {},
   "outputs": [],
   "source": [
    "# ADA algorithm - variable ClassifierADA"
   ]
  },
  {
   "cell_type": "code",
   "execution_count": 591,
   "metadata": {},
   "outputs": [
    {
     "name": "stdout",
     "output_type": "stream",
     "text": [
      "-------------\n"
     ]
    }
   ],
   "source": [
    "print(\"-------------\")\n",
    "TP = np.sum(np.logical_and(predictions_ClassifierADA == 1, y_test == 1))\n",
    "TN = np.sum(np.logical_and(predictions_ClassifierADA == 0, y_test == 0))\n",
    "FP = np.sum(np.logical_and(predictions_ClassifierADA == 1, y_test == 0))\n",
    "FN = np.sum(np.logical_and(predictions_ClassifierADA == 0, y_test == 1))\n",
    "pred = len(predictions_ClassifierADA)"
   ]
  },
  {
   "cell_type": "code",
   "execution_count": 592,
   "metadata": {},
   "outputs": [
    {
     "name": "stdout",
     "output_type": "stream",
     "text": [
      "True Positives: 645\n",
      "False Positive: 268\n",
      "True Negative: 5571\n",
      "False Negative: 1016\n",
      "Precision: 0.71\n",
      "Recall: 0.39\n",
      "Problematic ratio: 0.61\n"
     ]
    }
   ],
   "source": [
    "print('True Positives: {}'.format(TP))\n",
    "print('False Positive: {}'.format(FP))\n",
    "print('True Negative: {}'.format(TN))\n",
    "print('False Negative: {}'.format(FN))\n",
    "print('Precision: {}'.format(round(TP/(TP+FP),2)))\n",
    "print('Recall: {}'.format(round(TP/(TP+FN),2)))\n",
    "print('Problematic ratio: {}'.format(round(FN/(FN+TP),2)))"
   ]
  },
  {
   "cell_type": "code",
   "execution_count": 593,
   "metadata": {},
   "outputs": [
    {
     "data": {
      "text/html": [
       "<div>\n",
       "<style scoped>\n",
       "    .dataframe tbody tr th:only-of-type {\n",
       "        vertical-align: middle;\n",
       "    }\n",
       "\n",
       "    .dataframe tbody tr th {\n",
       "        vertical-align: top;\n",
       "    }\n",
       "\n",
       "    .dataframe thead th {\n",
       "        text-align: right;\n",
       "    }\n",
       "</style>\n",
       "<table border=\"1\" class=\"dataframe\">\n",
       "  <thead>\n",
       "    <tr style=\"text-align: right;\">\n",
       "      <th></th>\n",
       "      <th>feat</th>\n",
       "      <th>score</th>\n",
       "    </tr>\n",
       "  </thead>\n",
       "  <tbody>\n",
       "    <tr>\n",
       "      <th>19</th>\n",
       "      <td>(P, A, Y, _, A, M, T, 3)</td>\n",
       "      <td>0.12</td>\n",
       "    </tr>\n",
       "    <tr>\n",
       "      <th>12</th>\n",
       "      <td>(B, I, L, L, _, A, M, T, 2)</td>\n",
       "      <td>0.10</td>\n",
       "    </tr>\n",
       "    <tr>\n",
       "      <th>5</th>\n",
       "      <td>(P, A, Y, _, 0)</td>\n",
       "      <td>0.08</td>\n",
       "    </tr>\n",
       "    <tr>\n",
       "      <th>21</th>\n",
       "      <td>(P, A, Y, _, A, M, T, 5)</td>\n",
       "      <td>0.07</td>\n",
       "    </tr>\n",
       "    <tr>\n",
       "      <th>17</th>\n",
       "      <td>(P, A, Y, _, A, M, T, 1)</td>\n",
       "      <td>0.07</td>\n",
       "    </tr>\n",
       "    <tr>\n",
       "      <th>14</th>\n",
       "      <td>(B, I, L, L, _, A, M, T, 4)</td>\n",
       "      <td>0.07</td>\n",
       "    </tr>\n",
       "    <tr>\n",
       "      <th>11</th>\n",
       "      <td>(B, I, L, L, _, A, M, T, 1)</td>\n",
       "      <td>0.06</td>\n",
       "    </tr>\n",
       "    <tr>\n",
       "      <th>18</th>\n",
       "      <td>(P, A, Y, _, A, M, T, 2)</td>\n",
       "      <td>0.06</td>\n",
       "    </tr>\n",
       "    <tr>\n",
       "      <th>22</th>\n",
       "      <td>(P, A, Y, _, A, M, T, 6)</td>\n",
       "      <td>0.05</td>\n",
       "    </tr>\n",
       "    <tr>\n",
       "      <th>4</th>\n",
       "      <td>(A, G, E)</td>\n",
       "      <td>0.05</td>\n",
       "    </tr>\n",
       "    <tr>\n",
       "      <th>13</th>\n",
       "      <td>(B, I, L, L, _, A, M, T, 3)</td>\n",
       "      <td>0.04</td>\n",
       "    </tr>\n",
       "    <tr>\n",
       "      <th>15</th>\n",
       "      <td>(B, I, L, L, _, A, M, T, 5)</td>\n",
       "      <td>0.04</td>\n",
       "    </tr>\n",
       "    <tr>\n",
       "      <th>0</th>\n",
       "      <td>(L, I, M, I, T, _, B, A, L)</td>\n",
       "      <td>0.04</td>\n",
       "    </tr>\n",
       "    <tr>\n",
       "      <th>2</th>\n",
       "      <td>(E, D, U, C, A, T, I, O, N)</td>\n",
       "      <td>0.03</td>\n",
       "    </tr>\n",
       "    <tr>\n",
       "      <th>8</th>\n",
       "      <td>(P, A, Y, _, 4)</td>\n",
       "      <td>0.02</td>\n",
       "    </tr>\n",
       "    <tr>\n",
       "      <th>16</th>\n",
       "      <td>(B, I, L, L, _, A, M, T, 6)</td>\n",
       "      <td>0.02</td>\n",
       "    </tr>\n",
       "    <tr>\n",
       "      <th>6</th>\n",
       "      <td>(P, A, Y, _, 2)</td>\n",
       "      <td>0.02</td>\n",
       "    </tr>\n",
       "    <tr>\n",
       "      <th>3</th>\n",
       "      <td>(M, A, R, R, I, A, G, E)</td>\n",
       "      <td>0.02</td>\n",
       "    </tr>\n",
       "    <tr>\n",
       "      <th>9</th>\n",
       "      <td>(P, A, Y, _, 5)</td>\n",
       "      <td>0.01</td>\n",
       "    </tr>\n",
       "    <tr>\n",
       "      <th>10</th>\n",
       "      <td>(P, A, Y, _, 6)</td>\n",
       "      <td>0.01</td>\n",
       "    </tr>\n",
       "    <tr>\n",
       "      <th>1</th>\n",
       "      <td>(S, E, X)</td>\n",
       "      <td>0.01</td>\n",
       "    </tr>\n",
       "    <tr>\n",
       "      <th>20</th>\n",
       "      <td>(P, A, Y, _, A, M, T, 4)</td>\n",
       "      <td>0.01</td>\n",
       "    </tr>\n",
       "    <tr>\n",
       "      <th>7</th>\n",
       "      <td>(P, A, Y, _, 3)</td>\n",
       "      <td>0.00</td>\n",
       "    </tr>\n",
       "  </tbody>\n",
       "</table>\n",
       "</div>"
      ],
      "text/plain": [
       "                           feat  score\n",
       "19     (P, A, Y, _, A, M, T, 3)   0.12\n",
       "12  (B, I, L, L, _, A, M, T, 2)   0.10\n",
       "5               (P, A, Y, _, 0)   0.08\n",
       "21     (P, A, Y, _, A, M, T, 5)   0.07\n",
       "17     (P, A, Y, _, A, M, T, 1)   0.07\n",
       "14  (B, I, L, L, _, A, M, T, 4)   0.07\n",
       "11  (B, I, L, L, _, A, M, T, 1)   0.06\n",
       "18     (P, A, Y, _, A, M, T, 2)   0.06\n",
       "22     (P, A, Y, _, A, M, T, 6)   0.05\n",
       "4                     (A, G, E)   0.05\n",
       "13  (B, I, L, L, _, A, M, T, 3)   0.04\n",
       "15  (B, I, L, L, _, A, M, T, 5)   0.04\n",
       "0   (L, I, M, I, T, _, B, A, L)   0.04\n",
       "2   (E, D, U, C, A, T, I, O, N)   0.03\n",
       "8               (P, A, Y, _, 4)   0.02\n",
       "16  (B, I, L, L, _, A, M, T, 6)   0.02\n",
       "6               (P, A, Y, _, 2)   0.02\n",
       "3      (M, A, R, R, I, A, G, E)   0.02\n",
       "9               (P, A, Y, _, 5)   0.01\n",
       "10              (P, A, Y, _, 6)   0.01\n",
       "1                     (S, E, X)   0.01\n",
       "20     (P, A, Y, _, A, M, T, 4)   0.01\n",
       "7               (P, A, Y, _, 3)   0.00"
      ]
     },
     "execution_count": 593,
     "metadata": {},
     "output_type": "execute_result"
    }
   ],
   "source": [
    "def get_feature_importance(clsf, ftrs):\n",
    "    imp = clsf.feature_importances_.tolist()\n",
    "    feat = ftrs\n",
    "    result = pd.DataFrame({'feat':feat,'score':imp})\n",
    "    result = result.sort_values(by=['score'],ascending=False)\n",
    "    return result\n",
    "\n",
    "get_feature_importance(ClassifierADA, features)"
   ]
  },
  {
   "cell_type": "code",
   "execution_count": 594,
   "metadata": {},
   "outputs": [],
   "source": [
    "# KNN algorithms --> ClassifierKNN"
   ]
  },
  {
   "cell_type": "code",
   "execution_count": 595,
   "metadata": {},
   "outputs": [
    {
     "name": "stdout",
     "output_type": "stream",
     "text": [
      "-------------\n"
     ]
    }
   ],
   "source": [
    "print(\"-------------\")\n",
    "TP = np.sum(np.logical_and(predictions_ClassifierKNN == 1, y_test == 1))\n",
    "TN = np.sum(np.logical_and(predictions_ClassifierKNN == 0, y_test == 0))\n",
    "FP = np.sum(np.logical_and(predictions_ClassifierKNN == 1, y_test == 0))\n",
    "FN = np.sum(np.logical_and(predictions_ClassifierKNN == 0, y_test == 1))\n",
    "pred = len(predictions_ClassifierKNN)"
   ]
  },
  {
   "cell_type": "code",
   "execution_count": 596,
   "metadata": {},
   "outputs": [
    {
     "name": "stdout",
     "output_type": "stream",
     "text": [
      "True Positives: 138\n",
      "False Positive: 196\n",
      "True Negative: 5643\n",
      "False Negative: 1523\n",
      "Precision: 0.41\n",
      "Recall: 0.08\n",
      "Problematic ratio: 0.92\n"
     ]
    }
   ],
   "source": [
    "print('True Positives: {}'.format(TP))\n",
    "print('False Positive: {}'.format(FP))\n",
    "print('True Negative: {}'.format(TN))\n",
    "print('False Negative: {}'.format(FN))\n",
    "print('Precision: {}'.format(round(TP/(TP+FP),2)))\n",
    "print('Recall: {}'.format(round(TP/(TP+FN),2)))\n",
    "print('Problematic ratio: {}'.format(round(FN/(FN+TP),2)))"
   ]
  },
  {
   "cell_type": "code",
   "execution_count": 604,
   "metadata": {},
   "outputs": [
    {
     "ename": "AttributeError",
     "evalue": "'KNeighborsClassifier' object has no attribute 'feature_importances_'",
     "output_type": "error",
     "traceback": [
      "\u001b[1;31m---------------------------------------------------------------------------\u001b[0m",
      "\u001b[1;31mAttributeError\u001b[0m                            Traceback (most recent call last)",
      "\u001b[1;32m<ipython-input-604-3f9b3f930a84>\u001b[0m in \u001b[0;36m<module>\u001b[1;34m()\u001b[0m\n\u001b[0;32m      6\u001b[0m     \u001b[1;32mreturn\u001b[0m \u001b[0mresult\u001b[0m\u001b[1;33m\u001b[0m\u001b[0m\n\u001b[0;32m      7\u001b[0m \u001b[1;33m\u001b[0m\u001b[0m\n\u001b[1;32m----> 8\u001b[1;33m \u001b[0mget_feature_importance\u001b[0m\u001b[1;33m(\u001b[0m\u001b[0mClassifierKNN\u001b[0m\u001b[1;33m,\u001b[0m \u001b[0mfeatures\u001b[0m\u001b[1;33m)\u001b[0m\u001b[1;33m\u001b[0m\u001b[0m\n\u001b[0m",
      "\u001b[1;32m<ipython-input-604-3f9b3f930a84>\u001b[0m in \u001b[0;36mget_feature_importance\u001b[1;34m(clsf, ftrs)\u001b[0m\n\u001b[0;32m      1\u001b[0m \u001b[1;32mdef\u001b[0m \u001b[0mget_feature_importance\u001b[0m\u001b[1;33m(\u001b[0m\u001b[0mclsf\u001b[0m\u001b[1;33m,\u001b[0m \u001b[0mftrs\u001b[0m\u001b[1;33m)\u001b[0m\u001b[1;33m:\u001b[0m\u001b[1;33m\u001b[0m\u001b[0m\n\u001b[1;32m----> 2\u001b[1;33m     \u001b[0mimp\u001b[0m \u001b[1;33m=\u001b[0m \u001b[0mclsf\u001b[0m\u001b[1;33m.\u001b[0m\u001b[0mfeature_importances_\u001b[0m\u001b[1;33m.\u001b[0m\u001b[0mtolist\u001b[0m\u001b[1;33m(\u001b[0m\u001b[1;33m)\u001b[0m\u001b[1;33m\u001b[0m\u001b[0m\n\u001b[0m\u001b[0;32m      3\u001b[0m     \u001b[0mfeat\u001b[0m \u001b[1;33m=\u001b[0m \u001b[0mftrs\u001b[0m\u001b[1;33m\u001b[0m\u001b[0m\n\u001b[0;32m      4\u001b[0m     \u001b[0mresult\u001b[0m \u001b[1;33m=\u001b[0m \u001b[0mpd\u001b[0m\u001b[1;33m.\u001b[0m\u001b[0mDataFrame\u001b[0m\u001b[1;33m(\u001b[0m\u001b[1;33m{\u001b[0m\u001b[1;34m'feat'\u001b[0m\u001b[1;33m:\u001b[0m\u001b[0mfeat\u001b[0m\u001b[1;33m,\u001b[0m\u001b[1;34m'score'\u001b[0m\u001b[1;33m:\u001b[0m\u001b[0mimp\u001b[0m\u001b[1;33m}\u001b[0m\u001b[1;33m)\u001b[0m\u001b[1;33m\u001b[0m\u001b[0m\n\u001b[0;32m      5\u001b[0m     \u001b[0mresult\u001b[0m \u001b[1;33m=\u001b[0m \u001b[0mresult\u001b[0m\u001b[1;33m.\u001b[0m\u001b[0msort_values\u001b[0m\u001b[1;33m(\u001b[0m\u001b[0mby\u001b[0m\u001b[1;33m=\u001b[0m\u001b[1;33m[\u001b[0m\u001b[1;34m'score'\u001b[0m\u001b[1;33m]\u001b[0m\u001b[1;33m,\u001b[0m\u001b[0mascending\u001b[0m\u001b[1;33m=\u001b[0m\u001b[1;32mFalse\u001b[0m\u001b[1;33m)\u001b[0m\u001b[1;33m\u001b[0m\u001b[0m\n",
      "\u001b[1;31mAttributeError\u001b[0m: 'KNeighborsClassifier' object has no attribute 'feature_importances_'"
     ]
    }
   ],
   "source": [
    "def get_feature_importance(clsf, ftrs):\n",
    "    imp = clsf.feature_importances_.tolist()\n",
    "    feat = ftrs\n",
    "    result = pd.DataFrame({'feat':feat,'score':imp})\n",
    "    result = result.sort_values(by=['score'],ascending=False)\n",
    "    return result\n",
    "\n",
    "get_feature_importance(ClassifierKNN, features)"
   ]
  },
  {
   "cell_type": "code",
   "execution_count": null,
   "metadata": {},
   "outputs": [],
   "source": []
  }
 ],
 "metadata": {
  "kernelspec": {
   "display_name": "Python 3",
   "language": "python",
   "name": "python3"
  },
  "language_info": {
   "codemirror_mode": {
    "name": "ipython",
    "version": 3
   },
   "file_extension": ".py",
   "mimetype": "text/x-python",
   "name": "python",
   "nbconvert_exporter": "python",
   "pygments_lexer": "ipython3",
   "version": "3.6.5"
  }
 },
 "nbformat": 4,
 "nbformat_minor": 2
}
